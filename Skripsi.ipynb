{
  "nbformat": 4,
  "nbformat_minor": 0,
  "metadata": {
    "colab": {
      "provenance": [],
      "mount_file_id": "10Pbd7qmeo2U3pxa-OQUEjuxlSO8FtEjb",
      "authorship_tag": "ABX9TyPvRgPORj0oF9Te7ek0CJmn",
      "include_colab_link": true
    },
    "kernelspec": {
      "name": "python3",
      "display_name": "Python 3"
    },
    "language_info": {
      "name": "python"
    }
  },
  "cells": [
    {
      "cell_type": "markdown",
      "metadata": {
        "id": "view-in-github",
        "colab_type": "text"
      },
      "source": [
        "<a href=\"https://colab.research.google.com/github/Modequick/Machine-Learning-Project/blob/main/Skripsi.ipynb\" target=\"_parent\"><img src=\"https://colab.research.google.com/assets/colab-badge.svg\" alt=\"Open In Colab\"/></a>"
      ]
    },
    {
      "cell_type": "code",
      "execution_count": 180,
      "metadata": {
        "id": "Q-tDJDDPLNfU"
      },
      "outputs": [],
      "source": [
        "import pandas as pd\n",
        "import numpy as np\n",
        "import seaborn as sns \n",
        "import matplotlib.pyplot as plt \n",
        "import datetime\n",
        "from datetime import datetime\n",
        "from sklearn.preprocessing import MinMaxScaler\n",
        "from sklearn.cluster import KMeans"
      ]
    },
    {
      "cell_type": "code",
      "source": [
        "from google.colab import drive\n",
        "drive.mount('/content/drive')"
      ],
      "metadata": {
        "colab": {
          "base_uri": "https://localhost:8080/"
        },
        "id": "6Z6xpTNKV4iC",
        "outputId": "914036f8-0321-4746-ed43-04b0094e34e5"
      },
      "execution_count": 181,
      "outputs": [
        {
          "output_type": "stream",
          "name": "stdout",
          "text": [
            "Drive already mounted at /content/drive; to attempt to forcibly remount, call drive.mount(\"/content/drive\", force_remount=True).\n"
          ]
        }
      ]
    },
    {
      "cell_type": "code",
      "source": [
        "df=pd.read_csv(\"/content/drive/MyDrive/Skripsi/Change_Accom_Behavior_Hashed 2.csv\")"
      ],
      "metadata": {
        "colab": {
          "base_uri": "https://localhost:8080/"
        },
        "id": "Rp9msT-eNmAW",
        "outputId": "8962e092-1205-4a30-99b3-3b4bd7b6e073"
      },
      "execution_count": 182,
      "outputs": [
        {
          "output_type": "stream",
          "name": "stderr",
          "text": [
            "/usr/local/lib/python3.8/dist-packages/IPython/core/interactiveshell.py:3326: DtypeWarning: Columns (29) have mixed types.Specify dtype option on import or set low_memory=False.\n",
            "  exec(code_obj, self.user_global_ns, self.user_ns)\n"
          ]
        }
      ]
    },
    {
      "cell_type": "markdown",
      "source": [
        "Improving Data Logic\n"
      ],
      "metadata": {
        "id": "LCIUlCREYDzG"
      }
    },
    {
      "cell_type": "code",
      "source": [
        "df.dtypes"
      ],
      "metadata": {
        "colab": {
          "base_uri": "https://localhost:8080/"
        },
        "id": "FtHG-7INYHLy",
        "outputId": "65bff115-cfb3-4fe8-b375-c61c496205f2"
      },
      "execution_count": 184,
      "outputs": [
        {
          "output_type": "execute_result",
          "data": {
            "text/plain": [
              "profile_id                         object\n",
              "order_id                           object\n",
              "accom_id                           object\n",
              "room_id                            object\n",
              "accom_chain_name                   object\n",
              "selling_price_idr                 float64\n",
              "gbv_idr                           float64\n",
              "coupon_idr                          int64\n",
              "sales_date_utc7                    object\n",
              "sales_timestamp                    object\n",
              "month                               int64\n",
              "check_in_date                      object\n",
              "check_out_date                     object\n",
              "accom_region                       object\n",
              "accom_star_rating                   int64\n",
              "interface                          object\n",
              "num_rooms                           int64\n",
              "is_use_coupon                      object\n",
              "last_issued_date                   object\n",
              "accom_type                         object\n",
              "room_type                          object\n",
              "bed_type                           object\n",
              "room_size_inmeter                 float64\n",
              "pid_score                         float64\n",
              "hotel_score                       float64\n",
              "category_0                         object\n",
              "category_1                         object\n",
              "category_2                         object\n",
              "category_3                         object\n",
              "latest_sentiment_analysis          object\n",
              "customer_type                     float64\n",
              "next_sales_date                    object\n",
              "next_time_stamp                    object\n",
              "next_check_in_date                 object\n",
              "next_check_out_date                object\n",
              "next_accom_id                      object\n",
              "next_accom_region                  object\n",
              "next_accom_star_rating              int64\n",
              "next_accom_chain_name              object\n",
              "next_accom_type                    object\n",
              "next_selling_price                float64\n",
              "next_coupon_idr                     int64\n",
              "next_is_use_coupon                 object\n",
              "next_gbv_idr                      float64\n",
              "next_num_rooms                      int64\n",
              "next_pid_score                    float64\n",
              "next_hotel_score                  float64\n",
              "next_category_0                    object\n",
              "next_category_1                    object\n",
              "next_category_2                    object\n",
              "next_category_3                    object\n",
              "next_latest_sentiment_analysis    float64\n",
              "next_room_type                     object\n",
              "next_bed_type                      object\n",
              "next_room_size_inmeter            float64\n",
              "count_buy_that_day                  int64\n",
              "count_buy_that_month                int64\n",
              "count_buy_that_next_day             int64\n",
              "dtype: object"
            ]
          },
          "metadata": {},
          "execution_count": 184
        }
      ]
    },
    {
      "cell_type": "markdown",
      "source": [
        "#Exploratory Data Analysis"
      ],
      "metadata": {
        "id": "e2eXcEmIOfMC"
      }
    },
    {
      "cell_type": "markdown",
      "source": [
        "### Descriptive Statistic"
      ],
      "metadata": {
        "id": "Tj13yIZZKYCF"
      }
    },
    {
      "cell_type": "code",
      "source": [
        "df.describe()"
      ],
      "metadata": {
        "id": "nTE5nxo6Kcrd"
      },
      "execution_count": null,
      "outputs": []
    },
    {
      "cell_type": "markdown",
      "source": [
        "### Data Cleaning"
      ],
      "metadata": {
        "id": "a2Ll9sd_Kly4"
      }
    },
    {
      "cell_type": "code",
      "source": [
        "#missing_value\n",
        "missing_value = df.isnull().sum() *100 / len(df) \n",
        "\n",
        "df_missing_value = pd.DataFrame( {\"missing_count\" : df.isnull().sum(),\n",
        "             \"percent_missing\" : missing_value} )\n",
        "print(df_missing_value.sort_values(by = \"missing_count\",ascending=False).head(20))\n",
        "\n",
        "print(\"length of columns are : \", len(df.columns))"
      ],
      "metadata": {
        "id": "-nldpJzbNpM3"
      },
      "execution_count": null,
      "outputs": []
    },
    {
      "cell_type": "code",
      "source": [
        "\n",
        "#selecing columns that are not in the list \n",
        "df_clean = df.loc[:, ~df.columns.isin(df_missing_value.sort_values(by = \"missing_count\",ascending=False).head(20).index)]\n",
        "\n",
        "\n",
        "# droping non intuitive columns \n",
        "df_clean = df_clean.loc[:, ~df_clean.columns.isin([\"count_buy_that_day\",\n",
        "                                                   \"count_buy_that_month\",\n",
        "                                                   \"count_buy_that_next_day\",\n",
        "                                                   \"room_id\",\n",
        "                                                   \"order_id\",\n",
        "                                                   \"profile_id\",\n",
        "                                                   \"interface\",\n",
        "                                                   \"last_issued_date\",\n",
        "                                                   \"next_bed_type\",\n",
        "                                                   \"month\",\n",
        "                                                   \"next_time_stamp\",\n",
        "                                                   \"sales_timestamp\",\n",
        "                                                   \"next_accom_id\",\n",
        "                                                   \"next_is_use_coupon\",\n",
        "                                                   \"next_num_rooms\",\n",
        "                                                   \"next_gbv_idr\",\n",
        "                                                   \"accom_id\" ,\n",
        "                                                   \"check_in_date\",\n",
        "                                                   \"check_out_date\",\n",
        "                                                   \"sales_date_utc7\",\n",
        "                                                   \"next_check_in_date\",\n",
        "                                                   \"next_check_out_date\",\n",
        "                                                   \"next_sales_date\",\n",
        "                                                   \"next_is_use_coupon\",\n",
        "                                                   \"is_use_coupon\",\n",
        "                                                   \"next_coupon_idr\",\n",
        "                                                   \"coupon_idr\"\n",
        "                                                   ])]\n",
        "                                                   \n",
        "#next_check_in_date,next_check_out_date,\"next_check_in_date\""
      ],
      "metadata": {
        "id": "ryHMWqY3NrRq"
      },
      "execution_count": null,
      "outputs": []
    },
    {
      "cell_type": "code",
      "source": [
        "missing_value = df_clean.isnull().sum() *100 / len(df) \n",
        "df_missing_value = pd.DataFrame( {\"missing_count\" : df_clean.isnull().sum(),\n",
        "             \"percent_missing\" : missing_value} )\n",
        "print(\"length columns : \",len(df_clean.columns)  )\n",
        "print(df_missing_value.sort_values(by = \"missing_count\",ascending=False))\n"
      ],
      "metadata": {
        "id": "1_I1Dg_pYRgc"
      },
      "execution_count": null,
      "outputs": []
    },
    {
      "cell_type": "markdown",
      "source": [
        "### Data Transformation "
      ],
      "metadata": {
        "id": "sQ7OCsnRpUb8"
      }
    },
    {
      "cell_type": "code",
      "source": [
        "df=df_clean \n",
        "# df_trial  = df.head(1000)\n",
        "df.head()"
      ],
      "metadata": {
        "id": "fqGt0mZOQoOv"
      },
      "execution_count": null,
      "outputs": []
    },
    {
      "cell_type": "code",
      "source": [
        "#Data Transformation : Label encoding \n",
        "\n",
        "accom_region_value = df.groupby(by = [\"accom_region\"],as_index = False).agg({\"selling_price_idr\" : 'mean'}).rename(columns={'selling_price_idr':'accom_region_value'})\n",
        "accom_type_value = df.groupby(by = [\"accom_type\"],as_index = False).agg({\"selling_price_idr\" : 'mean'}).rename(columns={'selling_price_idr':'accom_type_value'})\n",
        "next_accom_region_value = df.groupby(by = [\"next_accom_region\"],as_index = False).agg({\"next_selling_price\" : 'mean'}).rename(columns={'next_selling_price':'next_accom_region_value'})\n",
        "next_accom_type_value = df.groupby(by = [\"next_accom_type\"],as_index = False).agg({\"next_selling_price\" : 'mean'}).rename(columns={'next_selling_price':'next_accom_type_value'})\n",
        "\n",
        "df = df.merge(accom_region_value, on = \"accom_region\", how = \"left\")\n",
        "df = df.merge(accom_type_value, on = \"accom_type\", how = \"left\")\n",
        "df = df.merge(next_accom_region_value, on = \"next_accom_region\", how = \"left\")\n",
        "df = df.merge(next_accom_type_value, on = \"next_accom_type\", how = \"left\")\n",
        "df = df.loc[:, ~df.columns.isin([\"accom_type\",\"accom_region\",\"next_accom_type\",\"next_accom_region\"])]\n",
        "df [\"next_hotel_score\"] = df[\"next_hotel_score\"].fillna(df[\"next_hotel_score\"].mean())\n",
        "df [\"hotel_score\"] = df[\"hotel_score\"].fillna(df[\"hotel_score\"].mean())\n",
        "df [\"accom_type_value\"] = df[\"accom_type_value\"].fillna(df[\"accom_type_value\"].median())\n",
        "df.head()\n",
        "\n"
      ],
      "metadata": {
        "id": "JO5Ndr52QpX9"
      },
      "execution_count": null,
      "outputs": []
    },
    {
      "cell_type": "code",
      "source": [
        "#Data Transformation : Scaling \n",
        "def build_min_max_scaler(df) :\n",
        "  scaled_columns = pd.DataFrame()\n",
        "  for i in df.columns:\n",
        "      min = df[i].min()\n",
        "      df[i] = df[i]-min\n",
        "      max = df[i].max()\n",
        "      scaled_columns[i] = pd.DataFrame( round(df[i]/max ,5) )\n",
        "  return scaled_columns\n",
        "\n",
        "df = build_min_max_scaler(df)    \n",
        "df.head()"
      ],
      "metadata": {
        "id": "eGuVgVF3nT9Z"
      },
      "execution_count": null,
      "outputs": []
    },
    {
      "cell_type": "markdown",
      "source": [
        "#Feature Engineering "
      ],
      "metadata": {
        "id": "0w8gnqv0lCyZ"
      }
    },
    {
      "cell_type": "markdown",
      "source": [
        "##K-MEANS "
      ],
      "metadata": {
        "id": "40LbH4chlFbJ"
      }
    },
    {
      "cell_type": "code",
      "source": [
        "y = df[[\"next_accom_star_rating\",\"next_selling_price\",\"next_hotel_score\",\"next_accom_region_value\",\"next_accom_type_value\"]]\n",
        "X = df.loc[:, ~df.columns.isin(y.index)]"
      ],
      "metadata": {
        "id": "sK9kNcXYVwvO"
      },
      "execution_count": null,
      "outputs": []
    },
    {
      "cell_type": "code",
      "source": [
        "y.head()"
      ],
      "metadata": {
        "id": "ZFQL-S3_6z1d"
      },
      "execution_count": null,
      "outputs": []
    },
    {
      "cell_type": "code",
      "source": [
        "results = []\n",
        "\n",
        "for i in range (1, 6):\n",
        "    kmeans = KMeans(n_clusters=i, init='k-means++', random_state=42)\n",
        "    kmeans.fit(y)\n",
        "    results.append(kmeans.inertia_)   \n",
        "\n",
        "def index_for_kmeans(results) : \n",
        "  b=[]\n",
        "  a = 0 \n",
        "  for i in results:\n",
        "    a = a+ 1  \n",
        "    b.append(a)\n",
        "  return b     "
      ],
      "metadata": {
        "id": "gubznsDcgCMs"
      },
      "execution_count": null,
      "outputs": []
    },
    {
      "cell_type": "code",
      "source": [
        "plt.figure(figsize=(12, 9))\n",
        "plt.plot(index_for_kmeans(results), results, marker='o', linestyle='--')\n",
        "plt.xlabel('Number of Clusters')\n",
        "plt.ylabel('Sum of squared distance')\n",
        "plt.show()\n",
        "\n"
      ],
      "metadata": {
        "id": "-HH7-KM--r0m"
      },
      "execution_count": null,
      "outputs": []
    },
    {
      "cell_type": "code",
      "source": [
        "#Using Elbow method, we found the best model for this is 2 \n",
        "kmeans = KMeans(n_clusters = 3 , init = 'k-means++',random_state = 42 )\n",
        "kmeans.fit(y)\n",
        "y = kmeans.labels_"
      ],
      "metadata": {
        "id": "mpk1IsCU6zFT"
      },
      "execution_count": null,
      "outputs": []
    },
    {
      "cell_type": "code",
      "source": [
        "pd.Index( y.tolist()).value_counts()"
      ],
      "metadata": {
        "id": "BTdpA8v-bLB_"
      },
      "execution_count": null,
      "outputs": []
    },
    {
      "cell_type": "markdown",
      "source": [
        "#Classification Modeling"
      ],
      "metadata": {
        "id": "CWOwZjP1XNKi"
      }
    },
    {
      "cell_type": "markdown",
      "source": [
        "## Random Forest"
      ],
      "metadata": {
        "id": "EhS65Ij6XQ5o"
      }
    },
    {
      "cell_type": "code",
      "source": [
        "from sklearn.ensemble import RandomForestClassifier\n",
        "from sklearn.model_selection import train_test_split\n",
        "from sklearn.metrics import accuracy_score"
      ],
      "metadata": {
        "id": "ny1tVkAxXP_u"
      },
      "execution_count": null,
      "outputs": []
    },
    {
      "cell_type": "code",
      "source": [
        "#splitting the dataset \n",
        "X_train, X_test, y_train,y_test= train_test_split(X,y, test_size = 0.2 , random_state = 42)"
      ],
      "metadata": {
        "id": "zBPnhlgKXk9I"
      },
      "execution_count": null,
      "outputs": []
    },
    {
      "cell_type": "code",
      "source": [
        "#Random Forest \n",
        "\n",
        "rfc = RandomForestClassifier(random_state = 0 )\n",
        "\n",
        "#fit to model \n",
        "rfc.fit(X_train,y_train)\n",
        "\n",
        "y_pred = rfc.predict(X_test)\n",
        "\n",
        "\n",
        "\n"
      ],
      "metadata": {
        "id": "JdwnBBg2Yx_8"
      },
      "execution_count": null,
      "outputs": []
    },
    {
      "cell_type": "code",
      "source": [
        "accuracy_score(y_test, y_pred)"
      ],
      "metadata": {
        "id": "PyLlFdcvY7Sk"
      },
      "execution_count": null,
      "outputs": []
    },
    {
      "cell_type": "code",
      "source": [],
      "metadata": {
        "id": "L-mSu2hrZcRA"
      },
      "execution_count": null,
      "outputs": []
    }
  ]
}