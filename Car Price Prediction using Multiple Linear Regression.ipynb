{
 "cells": [
  {
   "cell_type": "code",
   "execution_count": 1,
   "id": "92bd88b4",
   "metadata": {
    "_cell_guid": "b1076dfc-b9ad-4769-8c92-a6c4dae69d19",
    "_uuid": "8f2839f25d086af736a60e9eeb907d3b93b6e0e5",
    "execution": {
     "iopub.execute_input": "2023-05-15T15:41:11.338046Z",
     "iopub.status.busy": "2023-05-15T15:41:11.337388Z",
     "iopub.status.idle": "2023-05-15T15:41:11.361550Z",
     "shell.execute_reply": "2023-05-15T15:41:11.360236Z"
    },
    "papermill": {
     "duration": 0.038626,
     "end_time": "2023-05-15T15:41:11.364410",
     "exception": false,
     "start_time": "2023-05-15T15:41:11.325784",
     "status": "completed"
    },
    "tags": []
   },
   "outputs": [
    {
     "name": "stdout",
     "output_type": "stream",
     "text": [
      "/kaggle/input/car-price-prediction/CarPrice_Assignment.csv\n",
      "/kaggle/input/car-price-prediction/Data Dictionary - carprices.xlsx\n"
     ]
    }
   ],
   "source": [
    "# This Python 3 environment comes with many helpful analytics libraries installed\n",
    "# It is defined by the kaggle/python Docker image: https://github.com/kaggle/docker-python\n",
    "# For example, here's several helpful packages to load\n",
    "\n",
    "import numpy as np # linear algebra\n",
    "import pandas as pd # data processing, CSV file I/O (e.g. pd.read_csv)\n",
    "\n",
    "# Input data files are available in the read-only \"../input/\" directory\n",
    "# For example, running this (by clicking run or pressing Shift+Enter) will list all files under the input directory\n",
    "\n",
    "import os\n",
    "for dirname, _, filenames in os.walk('/kaggle/input'):\n",
    "    for filename in filenames:\n",
    "        print(os.path.join(dirname, filename))\n",
    "\n",
    "# You can write up to 20GB to the current directory (/kaggle/working/) that gets preserved as output when you create a version using \"Save & Run All\" \n",
    "# You can also write temporary files to /kaggle/temp/, but they won't be saved outside of the current session"
   ]
  },
  {
   "cell_type": "code",
   "execution_count": 2,
   "id": "93437333",
   "metadata": {
    "execution": {
     "iopub.execute_input": "2023-05-15T15:41:11.384678Z",
     "iopub.status.busy": "2023-05-15T15:41:11.384289Z",
     "iopub.status.idle": "2023-05-15T15:41:11.461224Z",
     "shell.execute_reply": "2023-05-15T15:41:11.459613Z"
    },
    "papermill": {
     "duration": 0.090214,
     "end_time": "2023-05-15T15:41:11.464169",
     "exception": false,
     "start_time": "2023-05-15T15:41:11.373955",
     "status": "completed"
    },
    "tags": []
   },
   "outputs": [
    {
     "data": {
      "text/html": [
       "<div>\n",
       "<style scoped>\n",
       "    .dataframe tbody tr th:only-of-type {\n",
       "        vertical-align: middle;\n",
       "    }\n",
       "\n",
       "    .dataframe tbody tr th {\n",
       "        vertical-align: top;\n",
       "    }\n",
       "\n",
       "    .dataframe thead th {\n",
       "        text-align: right;\n",
       "    }\n",
       "</style>\n",
       "<table border=\"1\" class=\"dataframe\">\n",
       "  <thead>\n",
       "    <tr style=\"text-align: right;\">\n",
       "      <th></th>\n",
       "      <th>car_ID</th>\n",
       "      <th>symboling</th>\n",
       "      <th>CarName</th>\n",
       "      <th>fueltype</th>\n",
       "      <th>aspiration</th>\n",
       "      <th>doornumber</th>\n",
       "      <th>carbody</th>\n",
       "      <th>drivewheel</th>\n",
       "      <th>enginelocation</th>\n",
       "      <th>wheelbase</th>\n",
       "      <th>...</th>\n",
       "      <th>enginesize</th>\n",
       "      <th>fuelsystem</th>\n",
       "      <th>boreratio</th>\n",
       "      <th>stroke</th>\n",
       "      <th>compressionratio</th>\n",
       "      <th>horsepower</th>\n",
       "      <th>peakrpm</th>\n",
       "      <th>citympg</th>\n",
       "      <th>highwaympg</th>\n",
       "      <th>price</th>\n",
       "    </tr>\n",
       "  </thead>\n",
       "  <tbody>\n",
       "    <tr>\n",
       "      <th>0</th>\n",
       "      <td>1</td>\n",
       "      <td>3</td>\n",
       "      <td>alfa-romero giulia</td>\n",
       "      <td>gas</td>\n",
       "      <td>std</td>\n",
       "      <td>two</td>\n",
       "      <td>convertible</td>\n",
       "      <td>rwd</td>\n",
       "      <td>front</td>\n",
       "      <td>88.6</td>\n",
       "      <td>...</td>\n",
       "      <td>130</td>\n",
       "      <td>mpfi</td>\n",
       "      <td>3.47</td>\n",
       "      <td>2.68</td>\n",
       "      <td>9.0</td>\n",
       "      <td>111</td>\n",
       "      <td>5000</td>\n",
       "      <td>21</td>\n",
       "      <td>27</td>\n",
       "      <td>13495.0</td>\n",
       "    </tr>\n",
       "    <tr>\n",
       "      <th>1</th>\n",
       "      <td>2</td>\n",
       "      <td>3</td>\n",
       "      <td>alfa-romero stelvio</td>\n",
       "      <td>gas</td>\n",
       "      <td>std</td>\n",
       "      <td>two</td>\n",
       "      <td>convertible</td>\n",
       "      <td>rwd</td>\n",
       "      <td>front</td>\n",
       "      <td>88.6</td>\n",
       "      <td>...</td>\n",
       "      <td>130</td>\n",
       "      <td>mpfi</td>\n",
       "      <td>3.47</td>\n",
       "      <td>2.68</td>\n",
       "      <td>9.0</td>\n",
       "      <td>111</td>\n",
       "      <td>5000</td>\n",
       "      <td>21</td>\n",
       "      <td>27</td>\n",
       "      <td>16500.0</td>\n",
       "    </tr>\n",
       "    <tr>\n",
       "      <th>2</th>\n",
       "      <td>3</td>\n",
       "      <td>1</td>\n",
       "      <td>alfa-romero Quadrifoglio</td>\n",
       "      <td>gas</td>\n",
       "      <td>std</td>\n",
       "      <td>two</td>\n",
       "      <td>hatchback</td>\n",
       "      <td>rwd</td>\n",
       "      <td>front</td>\n",
       "      <td>94.5</td>\n",
       "      <td>...</td>\n",
       "      <td>152</td>\n",
       "      <td>mpfi</td>\n",
       "      <td>2.68</td>\n",
       "      <td>3.47</td>\n",
       "      <td>9.0</td>\n",
       "      <td>154</td>\n",
       "      <td>5000</td>\n",
       "      <td>19</td>\n",
       "      <td>26</td>\n",
       "      <td>16500.0</td>\n",
       "    </tr>\n",
       "    <tr>\n",
       "      <th>3</th>\n",
       "      <td>4</td>\n",
       "      <td>2</td>\n",
       "      <td>audi 100 ls</td>\n",
       "      <td>gas</td>\n",
       "      <td>std</td>\n",
       "      <td>four</td>\n",
       "      <td>sedan</td>\n",
       "      <td>fwd</td>\n",
       "      <td>front</td>\n",
       "      <td>99.8</td>\n",
       "      <td>...</td>\n",
       "      <td>109</td>\n",
       "      <td>mpfi</td>\n",
       "      <td>3.19</td>\n",
       "      <td>3.40</td>\n",
       "      <td>10.0</td>\n",
       "      <td>102</td>\n",
       "      <td>5500</td>\n",
       "      <td>24</td>\n",
       "      <td>30</td>\n",
       "      <td>13950.0</td>\n",
       "    </tr>\n",
       "    <tr>\n",
       "      <th>4</th>\n",
       "      <td>5</td>\n",
       "      <td>2</td>\n",
       "      <td>audi 100ls</td>\n",
       "      <td>gas</td>\n",
       "      <td>std</td>\n",
       "      <td>four</td>\n",
       "      <td>sedan</td>\n",
       "      <td>4wd</td>\n",
       "      <td>front</td>\n",
       "      <td>99.4</td>\n",
       "      <td>...</td>\n",
       "      <td>136</td>\n",
       "      <td>mpfi</td>\n",
       "      <td>3.19</td>\n",
       "      <td>3.40</td>\n",
       "      <td>8.0</td>\n",
       "      <td>115</td>\n",
       "      <td>5500</td>\n",
       "      <td>18</td>\n",
       "      <td>22</td>\n",
       "      <td>17450.0</td>\n",
       "    </tr>\n",
       "  </tbody>\n",
       "</table>\n",
       "<p>5 rows × 26 columns</p>\n",
       "</div>"
      ],
      "text/plain": [
       "   car_ID  symboling                   CarName fueltype aspiration doornumber  \\\n",
       "0       1          3        alfa-romero giulia      gas        std        two   \n",
       "1       2          3       alfa-romero stelvio      gas        std        two   \n",
       "2       3          1  alfa-romero Quadrifoglio      gas        std        two   \n",
       "3       4          2               audi 100 ls      gas        std       four   \n",
       "4       5          2                audi 100ls      gas        std       four   \n",
       "\n",
       "       carbody drivewheel enginelocation  wheelbase  ...  enginesize  \\\n",
       "0  convertible        rwd          front       88.6  ...         130   \n",
       "1  convertible        rwd          front       88.6  ...         130   \n",
       "2    hatchback        rwd          front       94.5  ...         152   \n",
       "3        sedan        fwd          front       99.8  ...         109   \n",
       "4        sedan        4wd          front       99.4  ...         136   \n",
       "\n",
       "   fuelsystem  boreratio  stroke compressionratio horsepower  peakrpm citympg  \\\n",
       "0        mpfi       3.47    2.68              9.0        111     5000      21   \n",
       "1        mpfi       3.47    2.68              9.0        111     5000      21   \n",
       "2        mpfi       2.68    3.47              9.0        154     5000      19   \n",
       "3        mpfi       3.19    3.40             10.0        102     5500      24   \n",
       "4        mpfi       3.19    3.40              8.0        115     5500      18   \n",
       "\n",
       "   highwaympg    price  \n",
       "0          27  13495.0  \n",
       "1          27  16500.0  \n",
       "2          26  16500.0  \n",
       "3          30  13950.0  \n",
       "4          22  17450.0  \n",
       "\n",
       "[5 rows x 26 columns]"
      ]
     },
     "execution_count": 2,
     "metadata": {},
     "output_type": "execute_result"
    }
   ],
   "source": [
    "df = pd.read_csv(\"/kaggle/input/car-price-prediction/CarPrice_Assignment.csv\")\n",
    "df.head()"
   ]
  },
  {
   "cell_type": "markdown",
   "id": "f4bf0341",
   "metadata": {
    "papermill": {
     "duration": 0.009063,
     "end_time": "2023-05-15T15:41:11.482698",
     "exception": false,
     "start_time": "2023-05-15T15:41:11.473635",
     "status": "completed"
    },
    "tags": []
   },
   "source": [
    "## Data Cleaning"
   ]
  },
  {
   "cell_type": "code",
   "execution_count": 3,
   "id": "0baebbc6",
   "metadata": {
    "execution": {
     "iopub.execute_input": "2023-05-15T15:41:11.503841Z",
     "iopub.status.busy": "2023-05-15T15:41:11.503456Z",
     "iopub.status.idle": "2023-05-15T15:41:11.514199Z",
     "shell.execute_reply": "2023-05-15T15:41:11.512924Z"
    },
    "papermill": {
     "duration": 0.024954,
     "end_time": "2023-05-15T15:41:11.516944",
     "exception": false,
     "start_time": "2023-05-15T15:41:11.491990",
     "status": "completed"
    },
    "tags": []
   },
   "outputs": [
    {
     "data": {
      "text/plain": [
       "car_ID              0\n",
       "symboling           0\n",
       "CarName             0\n",
       "fueltype            0\n",
       "aspiration          0\n",
       "doornumber          0\n",
       "carbody             0\n",
       "drivewheel          0\n",
       "enginelocation      0\n",
       "wheelbase           0\n",
       "carlength           0\n",
       "carwidth            0\n",
       "carheight           0\n",
       "curbweight          0\n",
       "enginetype          0\n",
       "cylindernumber      0\n",
       "enginesize          0\n",
       "fuelsystem          0\n",
       "boreratio           0\n",
       "stroke              0\n",
       "compressionratio    0\n",
       "horsepower          0\n",
       "peakrpm             0\n",
       "citympg             0\n",
       "highwaympg          0\n",
       "price               0\n",
       "dtype: int64"
      ]
     },
     "execution_count": 3,
     "metadata": {},
     "output_type": "execute_result"
    }
   ],
   "source": [
    "### Checking for null data \n",
    "\n",
    "df.isnull().sum()\n",
    "#No Null data, so there is no need for value imputation"
   ]
  },
  {
   "cell_type": "code",
   "execution_count": 4,
   "id": "b97e3543",
   "metadata": {
    "execution": {
     "iopub.execute_input": "2023-05-15T15:41:11.539051Z",
     "iopub.status.busy": "2023-05-15T15:41:11.538664Z",
     "iopub.status.idle": "2023-05-15T15:41:11.617552Z",
     "shell.execute_reply": "2023-05-15T15:41:11.616202Z"
    },
    "papermill": {
     "duration": 0.093344,
     "end_time": "2023-05-15T15:41:11.620272",
     "exception": false,
     "start_time": "2023-05-15T15:41:11.526928",
     "status": "completed"
    },
    "tags": []
   },
   "outputs": [
    {
     "name": "stdout",
     "output_type": "stream",
     "text": [
      "the length of the data is :  205\n"
     ]
    },
    {
     "data": {
      "text/html": [
       "<div>\n",
       "<style scoped>\n",
       "    .dataframe tbody tr th:only-of-type {\n",
       "        vertical-align: middle;\n",
       "    }\n",
       "\n",
       "    .dataframe tbody tr th {\n",
       "        vertical-align: top;\n",
       "    }\n",
       "\n",
       "    .dataframe thead th {\n",
       "        text-align: right;\n",
       "    }\n",
       "</style>\n",
       "<table border=\"1\" class=\"dataframe\">\n",
       "  <thead>\n",
       "    <tr style=\"text-align: right;\">\n",
       "      <th></th>\n",
       "      <th>car_ID</th>\n",
       "      <th>symboling</th>\n",
       "      <th>wheelbase</th>\n",
       "      <th>carlength</th>\n",
       "      <th>carwidth</th>\n",
       "      <th>carheight</th>\n",
       "      <th>curbweight</th>\n",
       "      <th>enginesize</th>\n",
       "      <th>boreratio</th>\n",
       "      <th>stroke</th>\n",
       "      <th>compressionratio</th>\n",
       "      <th>horsepower</th>\n",
       "      <th>peakrpm</th>\n",
       "      <th>citympg</th>\n",
       "      <th>highwaympg</th>\n",
       "      <th>price</th>\n",
       "    </tr>\n",
       "  </thead>\n",
       "  <tbody>\n",
       "    <tr>\n",
       "      <th>count</th>\n",
       "      <td>205.000000</td>\n",
       "      <td>205.000000</td>\n",
       "      <td>205.000000</td>\n",
       "      <td>205.000000</td>\n",
       "      <td>205.000000</td>\n",
       "      <td>205.000000</td>\n",
       "      <td>205.000000</td>\n",
       "      <td>205.000000</td>\n",
       "      <td>205.000000</td>\n",
       "      <td>205.000000</td>\n",
       "      <td>205.000000</td>\n",
       "      <td>205.000000</td>\n",
       "      <td>205.000000</td>\n",
       "      <td>205.000000</td>\n",
       "      <td>205.000000</td>\n",
       "      <td>205.000000</td>\n",
       "    </tr>\n",
       "    <tr>\n",
       "      <th>mean</th>\n",
       "      <td>103.000000</td>\n",
       "      <td>0.834146</td>\n",
       "      <td>98.756585</td>\n",
       "      <td>174.049268</td>\n",
       "      <td>65.907805</td>\n",
       "      <td>53.724878</td>\n",
       "      <td>2555.565854</td>\n",
       "      <td>126.907317</td>\n",
       "      <td>3.329756</td>\n",
       "      <td>3.255415</td>\n",
       "      <td>10.142537</td>\n",
       "      <td>104.117073</td>\n",
       "      <td>5125.121951</td>\n",
       "      <td>25.219512</td>\n",
       "      <td>30.751220</td>\n",
       "      <td>13276.710571</td>\n",
       "    </tr>\n",
       "    <tr>\n",
       "      <th>std</th>\n",
       "      <td>59.322565</td>\n",
       "      <td>1.245307</td>\n",
       "      <td>6.021776</td>\n",
       "      <td>12.337289</td>\n",
       "      <td>2.145204</td>\n",
       "      <td>2.443522</td>\n",
       "      <td>520.680204</td>\n",
       "      <td>41.642693</td>\n",
       "      <td>0.270844</td>\n",
       "      <td>0.313597</td>\n",
       "      <td>3.972040</td>\n",
       "      <td>39.544167</td>\n",
       "      <td>476.985643</td>\n",
       "      <td>6.542142</td>\n",
       "      <td>6.886443</td>\n",
       "      <td>7988.852332</td>\n",
       "    </tr>\n",
       "    <tr>\n",
       "      <th>min</th>\n",
       "      <td>1.000000</td>\n",
       "      <td>-2.000000</td>\n",
       "      <td>86.600000</td>\n",
       "      <td>141.100000</td>\n",
       "      <td>60.300000</td>\n",
       "      <td>47.800000</td>\n",
       "      <td>1488.000000</td>\n",
       "      <td>61.000000</td>\n",
       "      <td>2.540000</td>\n",
       "      <td>2.070000</td>\n",
       "      <td>7.000000</td>\n",
       "      <td>48.000000</td>\n",
       "      <td>4150.000000</td>\n",
       "      <td>13.000000</td>\n",
       "      <td>16.000000</td>\n",
       "      <td>5118.000000</td>\n",
       "    </tr>\n",
       "    <tr>\n",
       "      <th>25%</th>\n",
       "      <td>52.000000</td>\n",
       "      <td>0.000000</td>\n",
       "      <td>94.500000</td>\n",
       "      <td>166.300000</td>\n",
       "      <td>64.100000</td>\n",
       "      <td>52.000000</td>\n",
       "      <td>2145.000000</td>\n",
       "      <td>97.000000</td>\n",
       "      <td>3.150000</td>\n",
       "      <td>3.110000</td>\n",
       "      <td>8.600000</td>\n",
       "      <td>70.000000</td>\n",
       "      <td>4800.000000</td>\n",
       "      <td>19.000000</td>\n",
       "      <td>25.000000</td>\n",
       "      <td>7788.000000</td>\n",
       "    </tr>\n",
       "    <tr>\n",
       "      <th>50%</th>\n",
       "      <td>103.000000</td>\n",
       "      <td>1.000000</td>\n",
       "      <td>97.000000</td>\n",
       "      <td>173.200000</td>\n",
       "      <td>65.500000</td>\n",
       "      <td>54.100000</td>\n",
       "      <td>2414.000000</td>\n",
       "      <td>120.000000</td>\n",
       "      <td>3.310000</td>\n",
       "      <td>3.290000</td>\n",
       "      <td>9.000000</td>\n",
       "      <td>95.000000</td>\n",
       "      <td>5200.000000</td>\n",
       "      <td>24.000000</td>\n",
       "      <td>30.000000</td>\n",
       "      <td>10295.000000</td>\n",
       "    </tr>\n",
       "    <tr>\n",
       "      <th>75%</th>\n",
       "      <td>154.000000</td>\n",
       "      <td>2.000000</td>\n",
       "      <td>102.400000</td>\n",
       "      <td>183.100000</td>\n",
       "      <td>66.900000</td>\n",
       "      <td>55.500000</td>\n",
       "      <td>2935.000000</td>\n",
       "      <td>141.000000</td>\n",
       "      <td>3.580000</td>\n",
       "      <td>3.410000</td>\n",
       "      <td>9.400000</td>\n",
       "      <td>116.000000</td>\n",
       "      <td>5500.000000</td>\n",
       "      <td>30.000000</td>\n",
       "      <td>34.000000</td>\n",
       "      <td>16503.000000</td>\n",
       "    </tr>\n",
       "    <tr>\n",
       "      <th>max</th>\n",
       "      <td>205.000000</td>\n",
       "      <td>3.000000</td>\n",
       "      <td>120.900000</td>\n",
       "      <td>208.100000</td>\n",
       "      <td>72.300000</td>\n",
       "      <td>59.800000</td>\n",
       "      <td>4066.000000</td>\n",
       "      <td>326.000000</td>\n",
       "      <td>3.940000</td>\n",
       "      <td>4.170000</td>\n",
       "      <td>23.000000</td>\n",
       "      <td>288.000000</td>\n",
       "      <td>6600.000000</td>\n",
       "      <td>49.000000</td>\n",
       "      <td>54.000000</td>\n",
       "      <td>45400.000000</td>\n",
       "    </tr>\n",
       "  </tbody>\n",
       "</table>\n",
       "</div>"
      ],
      "text/plain": [
       "           car_ID   symboling   wheelbase   carlength    carwidth   carheight  \\\n",
       "count  205.000000  205.000000  205.000000  205.000000  205.000000  205.000000   \n",
       "mean   103.000000    0.834146   98.756585  174.049268   65.907805   53.724878   \n",
       "std     59.322565    1.245307    6.021776   12.337289    2.145204    2.443522   \n",
       "min      1.000000   -2.000000   86.600000  141.100000   60.300000   47.800000   \n",
       "25%     52.000000    0.000000   94.500000  166.300000   64.100000   52.000000   \n",
       "50%    103.000000    1.000000   97.000000  173.200000   65.500000   54.100000   \n",
       "75%    154.000000    2.000000  102.400000  183.100000   66.900000   55.500000   \n",
       "max    205.000000    3.000000  120.900000  208.100000   72.300000   59.800000   \n",
       "\n",
       "        curbweight  enginesize   boreratio      stroke  compressionratio  \\\n",
       "count   205.000000  205.000000  205.000000  205.000000        205.000000   \n",
       "mean   2555.565854  126.907317    3.329756    3.255415         10.142537   \n",
       "std     520.680204   41.642693    0.270844    0.313597          3.972040   \n",
       "min    1488.000000   61.000000    2.540000    2.070000          7.000000   \n",
       "25%    2145.000000   97.000000    3.150000    3.110000          8.600000   \n",
       "50%    2414.000000  120.000000    3.310000    3.290000          9.000000   \n",
       "75%    2935.000000  141.000000    3.580000    3.410000          9.400000   \n",
       "max    4066.000000  326.000000    3.940000    4.170000         23.000000   \n",
       "\n",
       "       horsepower      peakrpm     citympg  highwaympg         price  \n",
       "count  205.000000   205.000000  205.000000  205.000000    205.000000  \n",
       "mean   104.117073  5125.121951   25.219512   30.751220  13276.710571  \n",
       "std     39.544167   476.985643    6.542142    6.886443   7988.852332  \n",
       "min     48.000000  4150.000000   13.000000   16.000000   5118.000000  \n",
       "25%     70.000000  4800.000000   19.000000   25.000000   7788.000000  \n",
       "50%     95.000000  5200.000000   24.000000   30.000000  10295.000000  \n",
       "75%    116.000000  5500.000000   30.000000   34.000000  16503.000000  \n",
       "max    288.000000  6600.000000   49.000000   54.000000  45400.000000  "
      ]
     },
     "execution_count": 4,
     "metadata": {},
     "output_type": "execute_result"
    }
   ],
   "source": [
    "#to check simple statistic \n",
    "print(\"the length of the data is : \",len(df))\n",
    "\n",
    "\n",
    "df.describe()\n",
    "\n"
   ]
  },
  {
   "cell_type": "code",
   "execution_count": 5,
   "id": "e61efd43",
   "metadata": {
    "execution": {
     "iopub.execute_input": "2023-05-15T15:41:11.643020Z",
     "iopub.status.busy": "2023-05-15T15:41:11.642618Z",
     "iopub.status.idle": "2023-05-15T15:41:11.665497Z",
     "shell.execute_reply": "2023-05-15T15:41:11.664136Z"
    },
    "papermill": {
     "duration": 0.037659,
     "end_time": "2023-05-15T15:41:11.668292",
     "exception": false,
     "start_time": "2023-05-15T15:41:11.630633",
     "status": "completed"
    },
    "tags": []
   },
   "outputs": [],
   "source": [
    "#Removing Outliers \n",
    "numerical_columns = df.select_dtypes(exclude=['object']).columns\n",
    "\n",
    "def remove_outliers(df, cols):\n",
    "    Q1 = df[cols].quantile(0.25)\n",
    "    Q3 = df[cols].quantile(0.75)\n",
    "    IQR = Q3 - Q1\n",
    "    lower_bound = Q1 - 1.5*IQR\n",
    "    upper_bound = Q3 + 1.5*IQR\n",
    "    return df[~((df[cols] < lower_bound) | (df[cols] > upper_bound)).any(axis=1)]\n",
    "\n",
    "df = remove_outliers(df, numerical_columns)\n"
   ]
  },
  {
   "cell_type": "markdown",
   "id": "c7c4cead",
   "metadata": {
    "papermill": {
     "duration": 0.010783,
     "end_time": "2023-05-15T15:41:11.689408",
     "exception": false,
     "start_time": "2023-05-15T15:41:11.678625",
     "status": "completed"
    },
    "tags": []
   },
   "source": [
    "### Categorical Variable "
   ]
  },
  {
   "cell_type": "code",
   "execution_count": 6,
   "id": "a8f14c46",
   "metadata": {
    "execution": {
     "iopub.execute_input": "2023-05-15T15:41:11.711995Z",
     "iopub.status.busy": "2023-05-15T15:41:11.711599Z",
     "iopub.status.idle": "2023-05-15T15:41:11.728011Z",
     "shell.execute_reply": "2023-05-15T15:41:11.726452Z"
    },
    "papermill": {
     "duration": 0.031291,
     "end_time": "2023-05-15T15:41:11.731107",
     "exception": false,
     "start_time": "2023-05-15T15:41:11.699816",
     "status": "completed"
    },
    "tags": []
   },
   "outputs": [
    {
     "name": "stdout",
     "output_type": "stream",
     "text": [
      "toyota corolla         5\n",
      "toyota corona          5\n",
      "mazda 626              3\n",
      "toyota mark ii         3\n",
      "mazda glc              2\n",
      "                      ..\n",
      "maxda glc deluxe       1\n",
      "maxda rx3              1\n",
      "isuzu D-Max V-Cross    1\n",
      "isuzu MU-X             1\n",
      "volvo diesel           1\n",
      "Name: CarName, Length: 102, dtype: int64\n",
      "\n",
      " \n",
      " We have 102 variation for 139 dataset. It seems that CarName format is Car_Brand *space* Car_type  We will be using Car Brand instead of car type to gave more generalized view\n"
     ]
    }
   ],
   "source": [
    "## Working with categorical columns \n",
    "\n",
    "\n",
    "## CarName ##\n",
    "df.select_dtypes(include=[\"object\"])\n",
    "print(df[\"CarName\"].value_counts())\n",
    "print(\"\\n \")\n",
    "print (\" We have 102 variation for 139 dataset. It seems that CarName format is Car_Brand *space* Car_type  We will be using Car Brand instead of car type to gave more generalized view\")\n",
    "df[\"CarBrand\"] = df[\"CarName\"].str.split(\" \").str[0]\n",
    "\n",
    "##droping the CarName Columns\n",
    "df = df.drop(columns = [\"CarName\"],axis =1 )\n",
    "\n",
    "\n",
    "\n"
   ]
  },
  {
   "cell_type": "code",
   "execution_count": 7,
   "id": "fda9ee73",
   "metadata": {
    "execution": {
     "iopub.execute_input": "2023-05-15T15:41:11.754106Z",
     "iopub.status.busy": "2023-05-15T15:41:11.753699Z",
     "iopub.status.idle": "2023-05-15T15:41:11.763259Z",
     "shell.execute_reply": "2023-05-15T15:41:11.761907Z"
    },
    "papermill": {
     "duration": 0.024258,
     "end_time": "2023-05-15T15:41:11.765727",
     "exception": false,
     "start_time": "2023-05-15T15:41:11.741469",
     "status": "completed"
    },
    "tags": []
   },
   "outputs": [
    {
     "name": "stdout",
     "output_type": "stream",
     "text": [
      "gas    139\n",
      "Name: fueltype, dtype: int64\n",
      " \n",
      "\n",
      "It seems that the option always gas, and hence there is no other variation and other distinguishable categories, hence we will drop the columns\n"
     ]
    }
   ],
   "source": [
    "## fueltype\n",
    "print (df[\"fueltype\"].value_counts())\n",
    "print(\" \\n\")\n",
    "print(\"It seems that the option always gas, and hence there is no other variation and other distinguishable categories, hence we will drop the columns\")\n",
    "\n",
    "df = df.drop(columns = [\"fueltype\"],axis = 1 )"
   ]
  },
  {
   "cell_type": "code",
   "execution_count": 8,
   "id": "2f0d5a47",
   "metadata": {
    "execution": {
     "iopub.execute_input": "2023-05-15T15:41:11.788588Z",
     "iopub.status.busy": "2023-05-15T15:41:11.788193Z",
     "iopub.status.idle": "2023-05-15T15:41:11.794940Z",
     "shell.execute_reply": "2023-05-15T15:41:11.793735Z"
    },
    "papermill": {
     "duration": 0.021839,
     "end_time": "2023-05-15T15:41:11.797960",
     "exception": false,
     "start_time": "2023-05-15T15:41:11.776121",
     "status": "completed"
    },
    "tags": []
   },
   "outputs": [
    {
     "name": "stdout",
     "output_type": "stream",
     "text": [
      "std      126\n",
      "turbo     13\n",
      "Name: aspiration, dtype: int64\n"
     ]
    }
   ],
   "source": [
    "##aspiration\n",
    "print (df[\"aspiration\"].value_counts())\n",
    "\n",
    "## we will use get_dummies for this "
   ]
  },
  {
   "cell_type": "code",
   "execution_count": 9,
   "id": "3cc81ee8",
   "metadata": {
    "execution": {
     "iopub.execute_input": "2023-05-15T15:41:11.820802Z",
     "iopub.status.busy": "2023-05-15T15:41:11.820374Z",
     "iopub.status.idle": "2023-05-15T15:41:11.828895Z",
     "shell.execute_reply": "2023-05-15T15:41:11.827065Z"
    },
    "papermill": {
     "duration": 0.022839,
     "end_time": "2023-05-15T15:41:11.831436",
     "exception": false,
     "start_time": "2023-05-15T15:41:11.808597",
     "status": "completed"
    },
    "tags": []
   },
   "outputs": [
    {
     "name": "stdout",
     "output_type": "stream",
     "text": [
      "we are replacing door because it can be represented as number /\n"
     ]
    }
   ],
   "source": [
    "## door_number\n",
    "\n",
    "door_number_replacement = {\"two\" : 2 ,\n",
    "                           \"four\" : 4}\n",
    "\n",
    "df = df.replace({\"door_number\":door_number_replacement})\n",
    "\n",
    "print(\"we are replacing door because it can be represented as number /\")"
   ]
  },
  {
   "cell_type": "code",
   "execution_count": 10,
   "id": "abedf11a",
   "metadata": {
    "execution": {
     "iopub.execute_input": "2023-05-15T15:41:11.854745Z",
     "iopub.status.busy": "2023-05-15T15:41:11.854316Z",
     "iopub.status.idle": "2023-05-15T15:41:11.863515Z",
     "shell.execute_reply": "2023-05-15T15:41:11.862114Z"
    },
    "papermill": {
     "duration": 0.023892,
     "end_time": "2023-05-15T15:41:11.865930",
     "exception": false,
     "start_time": "2023-05-15T15:41:11.842038",
     "status": "completed"
    },
    "tags": []
   },
   "outputs": [
    {
     "data": {
      "text/plain": [
       "array(['convertible', 'hatchback', 'sedan', 'wagon', 'hardtop'],\n",
       "      dtype=object)"
      ]
     },
     "execution_count": 10,
     "metadata": {},
     "output_type": "execute_result"
    }
   ],
   "source": [
    "##carbody\n",
    "\n",
    "df[\"carbody\"].unique()\n",
    "## we will use dummies for this "
   ]
  },
  {
   "cell_type": "code",
   "execution_count": 11,
   "id": "39aed9c1",
   "metadata": {
    "execution": {
     "iopub.execute_input": "2023-05-15T15:41:11.889601Z",
     "iopub.status.busy": "2023-05-15T15:41:11.889149Z",
     "iopub.status.idle": "2023-05-15T15:41:11.897115Z",
     "shell.execute_reply": "2023-05-15T15:41:11.895909Z"
    },
    "papermill": {
     "duration": 0.02278,
     "end_time": "2023-05-15T15:41:11.899627",
     "exception": false,
     "start_time": "2023-05-15T15:41:11.876847",
     "status": "completed"
    },
    "tags": []
   },
   "outputs": [
    {
     "data": {
      "text/plain": [
       "array(['rwd', 'fwd', '4wd'], dtype=object)"
      ]
     },
     "execution_count": 11,
     "metadata": {},
     "output_type": "execute_result"
    }
   ],
   "source": [
    "df[\"drivewheel\"].unique()\n",
    "## we will use dummies for this "
   ]
  },
  {
   "cell_type": "code",
   "execution_count": 12,
   "id": "e5b969f4",
   "metadata": {
    "execution": {
     "iopub.execute_input": "2023-05-15T15:41:11.923331Z",
     "iopub.status.busy": "2023-05-15T15:41:11.922927Z",
     "iopub.status.idle": "2023-05-15T15:41:11.930447Z",
     "shell.execute_reply": "2023-05-15T15:41:11.929509Z"
    },
    "papermill": {
     "duration": 0.022521,
     "end_time": "2023-05-15T15:41:11.933043",
     "exception": false,
     "start_time": "2023-05-15T15:41:11.910522",
     "status": "completed"
    },
    "tags": []
   },
   "outputs": [
    {
     "name": "stdout",
     "output_type": "stream",
     "text": [
      "['front']\n",
      " \n",
      "\n",
      "We will drop this because no other variation and other distinguishable categories, hence we will drop the columns\n"
     ]
    }
   ],
   "source": [
    "print(df[\"enginelocation\"].unique())\n",
    "\n",
    "df = df.drop(columns = [\"enginelocation\"], axis = 1 )\n",
    "\n",
    "\n",
    "print(\" \\n\")\n",
    "print(\"We will drop this because no other variation and other distinguishable categories, hence we will drop the columns\")\n"
   ]
  },
  {
   "cell_type": "code",
   "execution_count": 13,
   "id": "75b6f05e",
   "metadata": {
    "execution": {
     "iopub.execute_input": "2023-05-15T15:41:11.957053Z",
     "iopub.status.busy": "2023-05-15T15:41:11.956665Z",
     "iopub.status.idle": "2023-05-15T15:41:11.962000Z",
     "shell.execute_reply": "2023-05-15T15:41:11.961192Z"
    },
    "papermill": {
     "duration": 0.019836,
     "end_time": "2023-05-15T15:41:11.964088",
     "exception": false,
     "start_time": "2023-05-15T15:41:11.944252",
     "status": "completed"
    },
    "tags": []
   },
   "outputs": [
    {
     "name": "stdout",
     "output_type": "stream",
     "text": [
      "['dohc' 'ohcv' 'ohc' 'rotor' 'l']\n"
     ]
    }
   ],
   "source": [
    "print(df[\"enginetype\"].unique())\n",
    "#we will use one_hot_encoding for this \n"
   ]
  },
  {
   "cell_type": "code",
   "execution_count": 14,
   "id": "cf519561",
   "metadata": {
    "execution": {
     "iopub.execute_input": "2023-05-15T15:41:11.987702Z",
     "iopub.status.busy": "2023-05-15T15:41:11.987244Z",
     "iopub.status.idle": "2023-05-15T15:41:11.998114Z",
     "shell.execute_reply": "2023-05-15T15:41:11.997045Z"
    },
    "papermill": {
     "duration": 0.025464,
     "end_time": "2023-05-15T15:41:12.000410",
     "exception": false,
     "start_time": "2023-05-15T15:41:11.974946",
     "status": "completed"
    },
    "tags": []
   },
   "outputs": [
    {
     "name": "stdout",
     "output_type": "stream",
     "text": [
      "['four' 'six' 'five' 'two']\n",
      "\n",
      "\n",
      "We replace cylindernumber from string to integer\n"
     ]
    }
   ],
   "source": [
    "print(df[\"cylindernumber\"].unique())\n",
    "\n",
    "cylindernumber_replacement = {\"four\" : 4,\n",
    "                            \"six\" : 6,\n",
    "                            \"five\": 5,\n",
    "                            \"two\" : 2 }\n",
    "\n",
    "df = df.replace({\"cylindernumber\" : cylindernumber_replacement})\n",
    "\n",
    "print(\"\\n\")\n",
    "print(\"We replace cylindernumber from string to integer\")"
   ]
  },
  {
   "cell_type": "code",
   "execution_count": 15,
   "id": "683b5d7f",
   "metadata": {
    "execution": {
     "iopub.execute_input": "2023-05-15T15:41:12.024885Z",
     "iopub.status.busy": "2023-05-15T15:41:12.024473Z",
     "iopub.status.idle": "2023-05-15T15:41:12.031170Z",
     "shell.execute_reply": "2023-05-15T15:41:12.029651Z"
    },
    "papermill": {
     "duration": 0.022003,
     "end_time": "2023-05-15T15:41:12.034022",
     "exception": false,
     "start_time": "2023-05-15T15:41:12.012019",
     "status": "completed"
    },
    "tags": []
   },
   "outputs": [
    {
     "name": "stdout",
     "output_type": "stream",
     "text": [
      "['mpfi' '2bbl' '1bbl' 'spfi' '4bbl' 'spdi']\n"
     ]
    }
   ],
   "source": [
    "print(df[\"fuelsystem\"].unique())\n",
    "\n",
    "#we willuse dummies for this "
   ]
  },
  {
   "cell_type": "code",
   "execution_count": 16,
   "id": "c9963787",
   "metadata": {
    "execution": {
     "iopub.execute_input": "2023-05-15T15:41:12.058429Z",
     "iopub.status.busy": "2023-05-15T15:41:12.058022Z",
     "iopub.status.idle": "2023-05-15T15:41:12.088894Z",
     "shell.execute_reply": "2023-05-15T15:41:12.087708Z"
    },
    "papermill": {
     "duration": 0.046148,
     "end_time": "2023-05-15T15:41:12.091445",
     "exception": false,
     "start_time": "2023-05-15T15:41:12.045297",
     "status": "completed"
    },
    "tags": []
   },
   "outputs": [
    {
     "data": {
      "text/html": [
       "<div>\n",
       "<style scoped>\n",
       "    .dataframe tbody tr th:only-of-type {\n",
       "        vertical-align: middle;\n",
       "    }\n",
       "\n",
       "    .dataframe tbody tr th {\n",
       "        vertical-align: top;\n",
       "    }\n",
       "\n",
       "    .dataframe thead th {\n",
       "        text-align: right;\n",
       "    }\n",
       "</style>\n",
       "<table border=\"1\" class=\"dataframe\">\n",
       "  <thead>\n",
       "    <tr style=\"text-align: right;\">\n",
       "      <th></th>\n",
       "      <th>car_ID</th>\n",
       "      <th>symboling</th>\n",
       "      <th>aspiration</th>\n",
       "      <th>doornumber</th>\n",
       "      <th>carbody</th>\n",
       "      <th>drivewheel</th>\n",
       "      <th>wheelbase</th>\n",
       "      <th>carlength</th>\n",
       "      <th>carwidth</th>\n",
       "      <th>carheight</th>\n",
       "      <th>...</th>\n",
       "      <th>fuelsystem</th>\n",
       "      <th>boreratio</th>\n",
       "      <th>stroke</th>\n",
       "      <th>compressionratio</th>\n",
       "      <th>horsepower</th>\n",
       "      <th>peakrpm</th>\n",
       "      <th>citympg</th>\n",
       "      <th>highwaympg</th>\n",
       "      <th>price</th>\n",
       "      <th>CarBrand</th>\n",
       "    </tr>\n",
       "  </thead>\n",
       "  <tbody>\n",
       "    <tr>\n",
       "      <th>0</th>\n",
       "      <td>1</td>\n",
       "      <td>3</td>\n",
       "      <td>std</td>\n",
       "      <td>two</td>\n",
       "      <td>convertible</td>\n",
       "      <td>rwd</td>\n",
       "      <td>88.6</td>\n",
       "      <td>168.8</td>\n",
       "      <td>64.1</td>\n",
       "      <td>48.8</td>\n",
       "      <td>...</td>\n",
       "      <td>mpfi</td>\n",
       "      <td>3.47</td>\n",
       "      <td>2.68</td>\n",
       "      <td>9.0</td>\n",
       "      <td>111</td>\n",
       "      <td>5000</td>\n",
       "      <td>21</td>\n",
       "      <td>27</td>\n",
       "      <td>13495.0</td>\n",
       "      <td>alfa-romero</td>\n",
       "    </tr>\n",
       "    <tr>\n",
       "      <th>1</th>\n",
       "      <td>2</td>\n",
       "      <td>3</td>\n",
       "      <td>std</td>\n",
       "      <td>two</td>\n",
       "      <td>convertible</td>\n",
       "      <td>rwd</td>\n",
       "      <td>88.6</td>\n",
       "      <td>168.8</td>\n",
       "      <td>64.1</td>\n",
       "      <td>48.8</td>\n",
       "      <td>...</td>\n",
       "      <td>mpfi</td>\n",
       "      <td>3.47</td>\n",
       "      <td>2.68</td>\n",
       "      <td>9.0</td>\n",
       "      <td>111</td>\n",
       "      <td>5000</td>\n",
       "      <td>21</td>\n",
       "      <td>27</td>\n",
       "      <td>16500.0</td>\n",
       "      <td>alfa-romero</td>\n",
       "    </tr>\n",
       "    <tr>\n",
       "      <th>2</th>\n",
       "      <td>3</td>\n",
       "      <td>1</td>\n",
       "      <td>std</td>\n",
       "      <td>two</td>\n",
       "      <td>hatchback</td>\n",
       "      <td>rwd</td>\n",
       "      <td>94.5</td>\n",
       "      <td>171.2</td>\n",
       "      <td>65.5</td>\n",
       "      <td>52.4</td>\n",
       "      <td>...</td>\n",
       "      <td>mpfi</td>\n",
       "      <td>2.68</td>\n",
       "      <td>3.47</td>\n",
       "      <td>9.0</td>\n",
       "      <td>154</td>\n",
       "      <td>5000</td>\n",
       "      <td>19</td>\n",
       "      <td>26</td>\n",
       "      <td>16500.0</td>\n",
       "      <td>alfa-romero</td>\n",
       "    </tr>\n",
       "    <tr>\n",
       "      <th>3</th>\n",
       "      <td>4</td>\n",
       "      <td>2</td>\n",
       "      <td>std</td>\n",
       "      <td>four</td>\n",
       "      <td>sedan</td>\n",
       "      <td>fwd</td>\n",
       "      <td>99.8</td>\n",
       "      <td>176.6</td>\n",
       "      <td>66.2</td>\n",
       "      <td>54.3</td>\n",
       "      <td>...</td>\n",
       "      <td>mpfi</td>\n",
       "      <td>3.19</td>\n",
       "      <td>3.40</td>\n",
       "      <td>10.0</td>\n",
       "      <td>102</td>\n",
       "      <td>5500</td>\n",
       "      <td>24</td>\n",
       "      <td>30</td>\n",
       "      <td>13950.0</td>\n",
       "      <td>audi</td>\n",
       "    </tr>\n",
       "    <tr>\n",
       "      <th>4</th>\n",
       "      <td>5</td>\n",
       "      <td>2</td>\n",
       "      <td>std</td>\n",
       "      <td>four</td>\n",
       "      <td>sedan</td>\n",
       "      <td>4wd</td>\n",
       "      <td>99.4</td>\n",
       "      <td>176.6</td>\n",
       "      <td>66.4</td>\n",
       "      <td>54.3</td>\n",
       "      <td>...</td>\n",
       "      <td>mpfi</td>\n",
       "      <td>3.19</td>\n",
       "      <td>3.40</td>\n",
       "      <td>8.0</td>\n",
       "      <td>115</td>\n",
       "      <td>5500</td>\n",
       "      <td>18</td>\n",
       "      <td>22</td>\n",
       "      <td>17450.0</td>\n",
       "      <td>audi</td>\n",
       "    </tr>\n",
       "  </tbody>\n",
       "</table>\n",
       "<p>5 rows × 24 columns</p>\n",
       "</div>"
      ],
      "text/plain": [
       "   car_ID  symboling aspiration doornumber      carbody drivewheel  wheelbase  \\\n",
       "0       1          3        std        two  convertible        rwd       88.6   \n",
       "1       2          3        std        two  convertible        rwd       88.6   \n",
       "2       3          1        std        two    hatchback        rwd       94.5   \n",
       "3       4          2        std       four        sedan        fwd       99.8   \n",
       "4       5          2        std       four        sedan        4wd       99.4   \n",
       "\n",
       "   carlength  carwidth  carheight  ...  fuelsystem boreratio  stroke  \\\n",
       "0      168.8      64.1       48.8  ...        mpfi      3.47    2.68   \n",
       "1      168.8      64.1       48.8  ...        mpfi      3.47    2.68   \n",
       "2      171.2      65.5       52.4  ...        mpfi      2.68    3.47   \n",
       "3      176.6      66.2       54.3  ...        mpfi      3.19    3.40   \n",
       "4      176.6      66.4       54.3  ...        mpfi      3.19    3.40   \n",
       "\n",
       "   compressionratio horsepower  peakrpm  citympg  highwaympg    price  \\\n",
       "0               9.0        111     5000       21          27  13495.0   \n",
       "1               9.0        111     5000       21          27  16500.0   \n",
       "2               9.0        154     5000       19          26  16500.0   \n",
       "3              10.0        102     5500       24          30  13950.0   \n",
       "4               8.0        115     5500       18          22  17450.0   \n",
       "\n",
       "      CarBrand  \n",
       "0  alfa-romero  \n",
       "1  alfa-romero  \n",
       "2  alfa-romero  \n",
       "3         audi  \n",
       "4         audi  \n",
       "\n",
       "[5 rows x 24 columns]"
      ]
     },
     "execution_count": 16,
     "metadata": {},
     "output_type": "execute_result"
    }
   ],
   "source": [
    "#Final dataset \n",
    "df.head()"
   ]
  },
  {
   "cell_type": "code",
   "execution_count": 17,
   "id": "044bc637",
   "metadata": {
    "execution": {
     "iopub.execute_input": "2023-05-15T15:41:12.116875Z",
     "iopub.status.busy": "2023-05-15T15:41:12.115946Z",
     "iopub.status.idle": "2023-05-15T15:41:12.147635Z",
     "shell.execute_reply": "2023-05-15T15:41:12.146508Z"
    },
    "papermill": {
     "duration": 0.047363,
     "end_time": "2023-05-15T15:41:12.150388",
     "exception": false,
     "start_time": "2023-05-15T15:41:12.103025",
     "status": "completed"
    },
    "tags": []
   },
   "outputs": [],
   "source": [
    "##get_dummies for categorical variabel\n",
    "\n",
    "#pd.get_dummies(df[\"aspiration\"], drop_first = True, prefix = \"aspiration\")\n",
    "\n",
    "categorical_columns = df.select_dtypes(include=[\"object\"]).columns\n",
    "\n",
    "for i in categorical_columns : \n",
    "    dummies_creator = pd.get_dummies(df[i],drop_first= True, prefix = i )\n",
    "    df = df.join(dummies_creator)\n",
    "    df=df.drop(columns=[i])\n",
    "    \n",
    "    \n",
    "\n"
   ]
  },
  {
   "cell_type": "markdown",
   "id": "4802d3ad",
   "metadata": {
    "papermill": {
     "duration": 0.011231,
     "end_time": "2023-05-15T15:41:12.173354",
     "exception": false,
     "start_time": "2023-05-15T15:41:12.162123",
     "status": "completed"
    },
    "tags": []
   },
   "source": [
    "### Min_Max_Scaling"
   ]
  },
  {
   "cell_type": "code",
   "execution_count": 18,
   "id": "c3abf94f",
   "metadata": {
    "execution": {
     "iopub.execute_input": "2023-05-15T15:41:12.199077Z",
     "iopub.status.busy": "2023-05-15T15:41:12.198646Z",
     "iopub.status.idle": "2023-05-15T15:41:12.300097Z",
     "shell.execute_reply": "2023-05-15T15:41:12.298851Z"
    },
    "papermill": {
     "duration": 0.117709,
     "end_time": "2023-05-15T15:41:12.303101",
     "exception": false,
     "start_time": "2023-05-15T15:41:12.185392",
     "status": "completed"
    },
    "tags": []
   },
   "outputs": [],
   "source": [
    "\n",
    "def build_min_max_scaler(df) :\n",
    "  scaled_columns = pd.DataFrame()\n",
    "  for i in df.columns:\n",
    "      min = df[i].min()\n",
    "      df[i] = df[i]-min\n",
    "      max = df[i].max()\n",
    "      scaled_columns[i] = pd.DataFrame( round(df[i]/max ,5) )\n",
    "  return scaled_columns\n",
    "\n",
    "\n",
    "df_new = build_min_max_scaler(df.drop(\"price\",axis = 1 ))\n",
    "df = df_new.join(df[\"price\"])"
   ]
  },
  {
   "cell_type": "markdown",
   "id": "8f394b7a",
   "metadata": {
    "papermill": {
     "duration": 0.011245,
     "end_time": "2023-05-15T15:41:12.326028",
     "exception": false,
     "start_time": "2023-05-15T15:41:12.314783",
     "status": "completed"
    },
    "tags": []
   },
   "source": [
    "# Building Model"
   ]
  },
  {
   "cell_type": "code",
   "execution_count": 19,
   "id": "4e679df8",
   "metadata": {
    "execution": {
     "iopub.execute_input": "2023-05-15T15:41:12.351550Z",
     "iopub.status.busy": "2023-05-15T15:41:12.350773Z",
     "iopub.status.idle": "2023-05-15T15:41:15.763846Z",
     "shell.execute_reply": "2023-05-15T15:41:15.762763Z"
    },
    "papermill": {
     "duration": 3.429026,
     "end_time": "2023-05-15T15:41:15.766722",
     "exception": false,
     "start_time": "2023-05-15T15:41:12.337696",
     "status": "completed"
    },
    "tags": []
   },
   "outputs": [
    {
     "name": "stderr",
     "output_type": "stream",
     "text": [
      "/opt/conda/lib/python3.10/site-packages/scipy/__init__.py:146: UserWarning: A NumPy version >=1.16.5 and <1.23.0 is required for this version of SciPy (detected version 1.23.5\n",
      "  warnings.warn(f\"A NumPy version >={np_minversion} and <{np_maxversion}\"\n"
     ]
    }
   ],
   "source": [
    "from sklearn.linear_model import LinearRegression\n",
    "from sklearn.model_selection import train_test_split\n",
    "from sklearn.metrics import mean_squared_error,mean_absolute_error\n",
    "import statsmodels.api as sm"
   ]
  },
  {
   "cell_type": "code",
   "execution_count": 20,
   "id": "f29f5ca1",
   "metadata": {
    "execution": {
     "iopub.execute_input": "2023-05-15T15:41:15.792999Z",
     "iopub.status.busy": "2023-05-15T15:41:15.791871Z",
     "iopub.status.idle": "2023-05-15T15:41:15.800919Z",
     "shell.execute_reply": "2023-05-15T15:41:15.799954Z"
    },
    "papermill": {
     "duration": 0.024806,
     "end_time": "2023-05-15T15:41:15.803318",
     "exception": false,
     "start_time": "2023-05-15T15:41:15.778512",
     "status": "completed"
    },
    "tags": []
   },
   "outputs": [],
   "source": [
    "X = df.drop(\"price\",axis = 1 )\n",
    "y = df[\"price\"]"
   ]
  },
  {
   "cell_type": "code",
   "execution_count": 21,
   "id": "408fd874",
   "metadata": {
    "execution": {
     "iopub.execute_input": "2023-05-15T15:41:15.828501Z",
     "iopub.status.busy": "2023-05-15T15:41:15.828071Z",
     "iopub.status.idle": "2023-05-15T15:41:15.835242Z",
     "shell.execute_reply": "2023-05-15T15:41:15.834395Z"
    },
    "papermill": {
     "duration": 0.022878,
     "end_time": "2023-05-15T15:41:15.837706",
     "exception": false,
     "start_time": "2023-05-15T15:41:15.814828",
     "status": "completed"
    },
    "tags": []
   },
   "outputs": [],
   "source": [
    "X_train,X_test, y_train,y_test = train_test_split(X,y,test_size=0.25)"
   ]
  },
  {
   "cell_type": "code",
   "execution_count": 22,
   "id": "4d0b31f7",
   "metadata": {
    "execution": {
     "iopub.execute_input": "2023-05-15T15:41:15.863233Z",
     "iopub.status.busy": "2023-05-15T15:41:15.862449Z",
     "iopub.status.idle": "2023-05-15T15:41:15.973617Z",
     "shell.execute_reply": "2023-05-15T15:41:15.972499Z"
    },
    "papermill": {
     "duration": 0.130711,
     "end_time": "2023-05-15T15:41:15.980016",
     "exception": false,
     "start_time": "2023-05-15T15:41:15.849305",
     "status": "completed"
    },
    "tags": []
   },
   "outputs": [
    {
     "name": "stdout",
     "output_type": "stream",
     "text": [
      "                                 OLS Regression Results                                \n",
      "=======================================================================================\n",
      "Dep. Variable:                  price   R-squared (uncentered):                   0.994\n",
      "Model:                            OLS   Adj. R-squared (uncentered):              0.989\n",
      "Method:                 Least Squares   F-statistic:                              178.8\n",
      "Date:                Mon, 15 May 2023   Prob (F-statistic):                    1.03e-45\n",
      "Time:                        15:41:15   Log-Likelihood:                         -856.88\n",
      "No. Observations:                 104   AIC:                                      1816.\n",
      "Df Residuals:                      53   BIC:                                      1951.\n",
      "Df Model:                          51                                                  \n",
      "Covariance Type:            nonrobust                                                  \n",
      "========================================================================================\n",
      "                           coef    std err          t      P>|t|      [0.025      0.975]\n",
      "----------------------------------------------------------------------------------------\n",
      "car_ID                3.084e+04   1.35e+04      2.280      0.027    3709.058     5.8e+04\n",
      "symboling             -636.1938   1510.912     -0.421      0.675   -3666.699    2394.311\n",
      "wheelbase             3977.7173   3252.664      1.223      0.227   -2546.301    1.05e+04\n",
      "carlength            -3214.9820   3260.689     -0.986      0.329   -9755.095    3325.131\n",
      "carwidth              6662.6188   3272.286      2.036      0.047      99.245    1.32e+04\n",
      "carheight              230.0939   1779.172      0.129      0.898   -3338.473    3798.661\n",
      "curbweight            2636.2102   2761.748      0.955      0.344   -2903.156    8175.576\n",
      "cylindernumber       -6254.2437   9810.311     -0.638      0.527   -2.59e+04    1.34e+04\n",
      "enginesize            1.291e+04   1.08e+04      1.200      0.236   -8678.696    3.45e+04\n",
      "boreratio            -1.103e+04   7825.738     -1.409      0.165   -2.67e+04    4667.631\n",
      "stroke               -7009.3574   3320.098     -2.111      0.039   -1.37e+04    -350.084\n",
      "compressionratio      -878.7468   1690.559     -0.520      0.605   -4269.579    2512.086\n",
      "horsepower           -2432.6877   2710.942     -0.897      0.374   -7870.149    3004.774\n",
      "peakrpm               -685.2592   1566.189     -0.438      0.664   -3826.637    2456.119\n",
      "citympg              -6010.1973   4179.504     -1.438      0.156   -1.44e+04    2372.827\n",
      "highwaympg            5534.5499   4250.865      1.302      0.199   -2991.606    1.41e+04\n",
      "aspiration_turbo      2669.6945   1007.536      2.650      0.011     648.833    4690.556\n",
      "doornumber_two        -230.6299    539.282     -0.428      0.671   -1312.293     851.033\n",
      "carbody_hardtop       -457.7851   2272.032     -0.201      0.841   -5014.903    4099.333\n",
      "carbody_hatchback     -392.7362   1834.990     -0.214      0.831   -4073.259    3287.787\n",
      "carbody_sedan         -474.2610   1910.442     -0.248      0.805   -4306.122    3357.600\n",
      "carbody_wagon         -473.5610   1971.810     -0.240      0.811   -4428.510    3481.388\n",
      "drivewheel_fwd       -1111.5468   1437.169     -0.773      0.443   -3994.142    1771.048\n",
      "drivewheel_rwd         798.2575   1808.182      0.441      0.661   -2828.497    4425.012\n",
      "enginetype_l         -3000.4713   1435.192     -2.091      0.041   -5879.103    -121.840\n",
      "enginetype_ohc         131.8972   1609.238      0.082      0.935   -3095.826    3359.621\n",
      "enginetype_ohcv      -1727.6829   1580.681     -1.093      0.279   -4898.127    1442.761\n",
      "enginetype_rotor      5969.9259   2958.202      2.018      0.049      36.523    1.19e+04\n",
      "fuelsystem_2bbl       3215.3995   1292.744      2.487      0.016     622.483    5808.316\n",
      "fuelsystem_4bbl       1724.7061   2329.707      0.740      0.462   -2948.093    6397.506\n",
      "fuelsystem_mpfi       3470.8755   1418.425      2.447      0.018     625.875    6315.875\n",
      "fuelsystem_spdi       3335.2463   1790.409      1.863      0.068    -255.859    6926.351\n",
      "fuelsystem_spfi       2500.2882   2435.110      1.027      0.309   -2383.924    7384.500\n",
      "CarBrand_alfa-romero  1.473e+04   4691.914      3.139      0.003    5319.023    2.41e+04\n",
      "CarBrand_audi         1.684e+04   6447.023      2.612      0.012    3907.904    2.98e+04\n",
      "CarBrand_bmw          1.743e+04   5875.712      2.967      0.005    5649.400    2.92e+04\n",
      "CarBrand_chevrolet    1.993e-12   3.67e-12      0.543      0.589   -5.36e-12    9.35e-12\n",
      "CarBrand_dodge        8678.7228   4266.347      2.034      0.047     121.515    1.72e+04\n",
      "CarBrand_honda        1.152e+04   3980.152      2.895      0.005    3539.501    1.95e+04\n",
      "CarBrand_isuzu        7644.1247   2960.477      2.582      0.013    1706.160    1.36e+04\n",
      "CarBrand_maxda        3784.7426   2634.005      1.437      0.157   -1498.402    9067.887\n",
      "CarBrand_mazda        4892.0849   2523.791      1.938      0.058    -169.999    9954.169\n",
      "CarBrand_mercury      2209.0059   3234.423      0.683      0.498   -4278.424    8696.436\n",
      "CarBrand_mitsubishi    220.0141   1652.071      0.133      0.895   -3093.620    3533.648\n",
      "CarBrand_nissan        349.4051   1460.839      0.239      0.812   -2580.668    3279.478\n",
      "CarBrand_peugeot     -3000.4713   1435.192     -2.091      0.041   -5879.103    -121.840\n",
      "CarBrand_plymouth    -5696.5140   3017.634     -1.888      0.065   -1.17e+04     356.092\n",
      "CarBrand_porsche      3157.1384   2968.476      1.064      0.292   -2796.871    9111.148\n",
      "CarBrand_saab        -2714.0008   3318.540     -0.818      0.417   -9370.149    3942.147\n",
      "CarBrand_toyota      -1.269e+04   5274.625     -2.406      0.020   -2.33e+04   -2112.671\n",
      "CarBrand_toyouta      6.746e-13   3.74e-13      1.803      0.077   -7.57e-14    1.42e-12\n",
      "CarBrand_volkswagen  -1.418e+04   6451.984     -2.199      0.032   -2.71e+04   -1243.902\n",
      "CarBrand_volvo        -1.46e+04   6675.185     -2.187      0.033    -2.8e+04   -1209.001\n",
      "CarBrand_vw          -1.161e+04   7158.547     -1.622      0.111    -2.6e+04    2749.126\n",
      "==============================================================================\n",
      "Omnibus:                        3.018   Durbin-Watson:                   2.012\n",
      "Prob(Omnibus):                  0.221   Jarque-Bera (JB):                2.645\n",
      "Skew:                           0.193   Prob(JB):                        0.266\n",
      "Kurtosis:                       3.679   Cond. No.                     1.17e+16\n",
      "==============================================================================\n",
      "\n",
      "Notes:\n",
      "[1] R² is computed without centering (uncentered) since the model does not contain a constant.\n",
      "[2] Standard Errors assume that the covariance matrix of the errors is correctly specified.\n",
      "[3] The smallest eigenvalue is 4.57e-30. This might indicate that there are\n",
      "strong multicollinearity problems or that the design matrix is singular.\n"
     ]
    }
   ],
   "source": [
    "X = sm.add_constant(X_train)\n",
    "model = sm.OLS(y_train,X_train)\n",
    "results = model.fit()\n",
    "# Print the summary of the regression results\n",
    "print(results.summary())"
   ]
  },
  {
   "cell_type": "code",
   "execution_count": 23,
   "id": "b2e9d270",
   "metadata": {
    "execution": {
     "iopub.execute_input": "2023-05-15T15:41:16.030826Z",
     "iopub.status.busy": "2023-05-15T15:41:16.030447Z",
     "iopub.status.idle": "2023-05-15T15:41:16.039717Z",
     "shell.execute_reply": "2023-05-15T15:41:16.038379Z"
    },
    "papermill": {
     "duration": 0.03765,
     "end_time": "2023-05-15T15:41:16.042173",
     "exception": false,
     "start_time": "2023-05-15T15:41:16.004523",
     "status": "completed"
    },
    "tags": []
   },
   "outputs": [
    {
     "name": "stdout",
     "output_type": "stream",
     "text": [
      "Mean Squarred Error : 1984.5374161328018\n",
      "Mean Percentage Error :  7.260021315976027\n"
     ]
    }
   ],
   "source": [
    "y_pred = results.predict(X_test)\n",
    "mse = mean_absolute_error(y_test, y_pred)\n",
    "mpe = abs (np.mean((y_test - y_pred) / y_test)) * 100\n",
    "print(\"Mean Squarred Error :\" , mse)\n",
    "print(\"Mean Percentage Error : \",mpe)"
   ]
  },
  {
   "cell_type": "code",
   "execution_count": null,
   "id": "993f7854",
   "metadata": {
    "papermill": {
     "duration": 0.011721,
     "end_time": "2023-05-15T15:41:16.065768",
     "exception": false,
     "start_time": "2023-05-15T15:41:16.054047",
     "status": "completed"
    },
    "tags": []
   },
   "outputs": [],
   "source": []
  }
 ],
 "metadata": {
  "kernelspec": {
   "display_name": "Python 3",
   "language": "python",
   "name": "python3"
  },
  "language_info": {
   "codemirror_mode": {
    "name": "ipython",
    "version": 3
   },
   "file_extension": ".py",
   "mimetype": "text/x-python",
   "name": "python",
   "nbconvert_exporter": "python",
   "pygments_lexer": "ipython3",
   "version": "3.10.10"
  },
  "papermill": {
   "default_parameters": {},
   "duration": 18.816802,
   "end_time": "2023-05-15T15:41:17.099958",
   "environment_variables": {},
   "exception": null,
   "input_path": "__notebook__.ipynb",
   "output_path": "__notebook__.ipynb",
   "parameters": {},
   "start_time": "2023-05-15T15:40:58.283156",
   "version": "2.4.0"
  }
 },
 "nbformat": 4,
 "nbformat_minor": 5
}
