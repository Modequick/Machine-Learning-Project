{
  "nbformat": 4,
  "nbformat_minor": 0,
  "metadata": {
    "colab": {
      "provenance": [],
      "authorship_tag": "ABX9TyM3pgOFtSTvvs+6sTjizXVt",
      "include_colab_link": true
    },
    "kernelspec": {
      "name": "python3",
      "display_name": "Python 3"
    },
    "language_info": {
      "name": "python"
    }
  },
  "cells": [
    {
      "cell_type": "markdown",
      "metadata": {
        "id": "view-in-github",
        "colab_type": "text"
      },
      "source": [
        "<a href=\"https://colab.research.google.com/github/Modequick/Machine-Learning-Project/blob/main/Skripsi_2_0.ipynb\" target=\"_parent\"><img src=\"https://colab.research.google.com/assets/colab-badge.svg\" alt=\"Open In Colab\"/></a>"
      ]
    },
    {
      "cell_type": "code",
      "execution_count": 56,
      "metadata": {
        "colab": {
          "base_uri": "https://localhost:8080/"
        },
        "id": "If7IxA2Guo1C",
        "outputId": "7f97d568-09de-4576-e759-876d44e391c9"
      },
      "outputs": [
        {
          "output_type": "stream",
          "name": "stdout",
          "text": [
            "Drive already mounted at /content/drive; to attempt to forcibly remount, call drive.mount(\"/content/drive\", force_remount=True).\n"
          ]
        }
      ],
      "source": [
        "from google.colab import drive\n",
        "drive.mount('/content/drive')"
      ]
    },
    {
      "cell_type": "code",
      "source": [
        "!pip install kmodes"
      ],
      "metadata": {
        "colab": {
          "base_uri": "https://localhost:8080/"
        },
        "id": "1mhr9wgKXaof",
        "outputId": "08dccf51-6bdb-4f4c-bc52-5f5bc3140741"
      },
      "execution_count": 57,
      "outputs": [
        {
          "output_type": "stream",
          "name": "stdout",
          "text": [
            "Looking in indexes: https://pypi.org/simple, https://us-python.pkg.dev/colab-wheels/public/simple/\n",
            "Requirement already satisfied: kmodes in /usr/local/lib/python3.10/dist-packages (0.12.2)\n",
            "Requirement already satisfied: joblib>=0.11 in /usr/local/lib/python3.10/dist-packages (from kmodes) (1.2.0)\n",
            "Requirement already satisfied: scipy>=0.13.3 in /usr/local/lib/python3.10/dist-packages (from kmodes) (1.10.1)\n",
            "Requirement already satisfied: numpy>=1.10.4 in /usr/local/lib/python3.10/dist-packages (from kmodes) (1.22.4)\n",
            "Requirement already satisfied: scikit-learn>=0.22.0 in /usr/local/lib/python3.10/dist-packages (from kmodes) (1.2.2)\n",
            "Requirement already satisfied: threadpoolctl>=2.0.0 in /usr/local/lib/python3.10/dist-packages (from scikit-learn>=0.22.0->kmodes) (3.1.0)\n"
          ]
        }
      ]
    },
    {
      "cell_type": "code",
      "source": [
        "import pandas as pd\n",
        "from sklearn.cluster import KMeans\n",
        "import matplotlib.pyplot as plt\n",
        "import numpy as np\n",
        "from statsmodels.stats.outliers_influence import variance_inflation_factor\n",
        "from sklearn.ensemble import RandomForestClassifier\n",
        "from sklearn.model_selection import train_test_split\n",
        "from sklearn.model_selection import GridSearchCV, cross_val_score\n",
        "from sklearn.ensemble import GradientBoostingClassifier\n",
        "from sklearn.metrics import accuracy_score\n",
        "\n",
        "\n",
        "\n",
        "#new\n",
        "from kmodes.kprototypes import KPrototypes\n",
        "from sklearn.metrics import silhouette_score\n",
        "import scipy.stats as stats\n",
        "\n",
        "\n",
        "\n",
        "np.seterr(all='ignore')"
      ],
      "metadata": {
        "id": "afVWRK4UuuYZ",
        "colab": {
          "base_uri": "https://localhost:8080/"
        },
        "outputId": "c789cf96-e6eb-48c1-b8d7-8198633528b7"
      },
      "execution_count": 58,
      "outputs": [
        {
          "output_type": "execute_result",
          "data": {
            "text/plain": [
              "{'divide': 'ignore', 'over': 'ignore', 'under': 'ignore', 'invalid': 'ignore'}"
            ]
          },
          "metadata": {},
          "execution_count": 58
        }
      ]
    },
    {
      "cell_type": "code",
      "source": [
        "dataset_df = pd.read_csv(\"/content/drive/MyDrive/Skripsi/Change_Accom_Behavior_Hashed 2.csv\")\n",
        "\n",
        "df = dataset_df\n",
        "dataset_df.head()"
      ],
      "metadata": {
        "colab": {
          "base_uri": "https://localhost:8080/",
          "height": 421
        },
        "id": "M8QOXbp3uuyN",
        "outputId": "97de0f89-3779-4e40-b475-6cb339f47607"
      },
      "execution_count": 59,
      "outputs": [
        {
          "output_type": "stream",
          "name": "stderr",
          "text": [
            "<ipython-input-59-1791d0b64d6a>:1: DtypeWarning: Columns (29) have mixed types. Specify dtype option on import or set low_memory=False.\n",
            "  dataset_df = pd.read_csv(\"/content/drive/MyDrive/Skripsi/Change_Accom_Behavior_Hashed 2.csv\")\n"
          ]
        },
        {
          "output_type": "execute_result",
          "data": {
            "text/plain": [
              "                     profile_id                      order_id  \\\n",
              "0  ET0LCvUlRKbtFLscAFkCi/WWLLw=  HCcNAiyXSymMGRQkSqzAAtFlMxc=   \n",
              "1  exoQ3kUraPU4wFlzPkk5+ykBwTs=  sRDgi4iW3och3ZkFvI/7aW1P3xY=   \n",
              "2  9GuIvtbdJFVdHFM/0x1p345wCwM=  xlSmSKB3tahvfYZ1DEq0Zu3nek0=   \n",
              "3  QXB7Zobjy0aW6Q8SYt8DQD7fSrQ=  3d4xj1dEU8Q1tSY2APAxmcjlwFw=   \n",
              "4  UVEV2qykZPJQ/kfd20M2/86qKrM=  Qnf6/o5tErU5iMEiwzkWhFfiIjc=   \n",
              "\n",
              "                       accom_id                       room_id  \\\n",
              "0  Uz+MOvMFoXZMCkmixPFGgpTm9lU=  L6H56k4Rou+RiVAeX2QFwrv6xwY=   \n",
              "1  PMJIaKNhV02UjxNiev3Ltce2kNQ=  h10O5X/RJjDGNa+4oSVmxZBhplQ=   \n",
              "2  Y4UBm0bDkNkWK2JWpzmbJTlQLqc=  lqSNqRT0DKCxUC60BE3jFG5BwNQ=   \n",
              "3  TxJe7ItZLbtw1K8Aqlem51jNvaE=  P+HWuys1viVCcm4/aqWuEJ91tb0=   \n",
              "4  kneU7W4rjhdyr4nKoVOP17bfaVk=  wmCmvcyYOxvDtr5DADgjj48ClEs=   \n",
              "\n",
              "               accom_chain_name  selling_price_idr        gbv_idr  coupon_idr  \\\n",
              "0                           NaN      524927.868189  570579.672607           0   \n",
              "1  iCwYKECg554FmWkZKOS6O7I8nXA=      853068.342720  721837.932454           0   \n",
              "2                           NaN      192613.180745  188957.123586           0   \n",
              "3  cCnyuGlSTM26W1cOgCNhFiEe+R8=      300377.277202  404480.886678           0   \n",
              "4  HIwm7tZAAnF5sNurgy85MraVTB0=      225738.474167  231019.601478           0   \n",
              "\n",
              "  sales_date_utc7              sales_timestamp  ...  next_category_1  \\\n",
              "0      2018-09-22  2018-09-22 09:35:41.027 UTC  ...              NaN   \n",
              "1      2018-09-22  2018-09-22 03:16:16.417 UTC  ...              NaN   \n",
              "2      2018-09-22  2018-09-22 01:28:14.882 UTC  ...              NaN   \n",
              "3      2018-09-22  2018-09-22 22:09:32.201 UTC  ...              NaN   \n",
              "4      2018-09-22  2018-09-22 15:08:32.967 UTC  ...              NaN   \n",
              "\n",
              "  next_category_2 next_category_3 next_latest_sentiment_analysis  \\\n",
              "0             NaN             NaN                            NaN   \n",
              "1             NaN             NaN                            NaN   \n",
              "2             NaN             NaN                            NaN   \n",
              "3             NaN             NaN                            NaN   \n",
              "4             NaN             NaN                            NaN   \n",
              "\n",
              "   next_room_type                   next_bed_type  next_room_size_inmeter  \\\n",
              "0          DELUXE                  ONE_DOUBLE_BED                     NaN   \n",
              "1             NaN                            KING                    25.0   \n",
              "2             NaN                  ONE_DOUBLE_BED                    18.5   \n",
              "3             NaN  ONE_DOUBLE_BED_OR_TWO_SINGLE_B                    26.0   \n",
              "4          DOUBLE                  ONE_DOUBLE_BED                    16.0   \n",
              "\n",
              "  count_buy_that_day count_buy_that_month count_buy_that_next_day  \n",
              "0                  2                    7                       1  \n",
              "1                  2                    4                       1  \n",
              "2                  2                    4                       1  \n",
              "3                  2                    4                       1  \n",
              "4                  2                    9                       1  \n",
              "\n",
              "[5 rows x 58 columns]"
            ],
            "text/html": [
              "\n",
              "  <div id=\"df-2be23a40-6e8c-4b2a-8a85-3d789614afae\">\n",
              "    <div class=\"colab-df-container\">\n",
              "      <div>\n",
              "<style scoped>\n",
              "    .dataframe tbody tr th:only-of-type {\n",
              "        vertical-align: middle;\n",
              "    }\n",
              "\n",
              "    .dataframe tbody tr th {\n",
              "        vertical-align: top;\n",
              "    }\n",
              "\n",
              "    .dataframe thead th {\n",
              "        text-align: right;\n",
              "    }\n",
              "</style>\n",
              "<table border=\"1\" class=\"dataframe\">\n",
              "  <thead>\n",
              "    <tr style=\"text-align: right;\">\n",
              "      <th></th>\n",
              "      <th>profile_id</th>\n",
              "      <th>order_id</th>\n",
              "      <th>accom_id</th>\n",
              "      <th>room_id</th>\n",
              "      <th>accom_chain_name</th>\n",
              "      <th>selling_price_idr</th>\n",
              "      <th>gbv_idr</th>\n",
              "      <th>coupon_idr</th>\n",
              "      <th>sales_date_utc7</th>\n",
              "      <th>sales_timestamp</th>\n",
              "      <th>...</th>\n",
              "      <th>next_category_1</th>\n",
              "      <th>next_category_2</th>\n",
              "      <th>next_category_3</th>\n",
              "      <th>next_latest_sentiment_analysis</th>\n",
              "      <th>next_room_type</th>\n",
              "      <th>next_bed_type</th>\n",
              "      <th>next_room_size_inmeter</th>\n",
              "      <th>count_buy_that_day</th>\n",
              "      <th>count_buy_that_month</th>\n",
              "      <th>count_buy_that_next_day</th>\n",
              "    </tr>\n",
              "  </thead>\n",
              "  <tbody>\n",
              "    <tr>\n",
              "      <th>0</th>\n",
              "      <td>ET0LCvUlRKbtFLscAFkCi/WWLLw=</td>\n",
              "      <td>HCcNAiyXSymMGRQkSqzAAtFlMxc=</td>\n",
              "      <td>Uz+MOvMFoXZMCkmixPFGgpTm9lU=</td>\n",
              "      <td>L6H56k4Rou+RiVAeX2QFwrv6xwY=</td>\n",
              "      <td>NaN</td>\n",
              "      <td>524927.868189</td>\n",
              "      <td>570579.672607</td>\n",
              "      <td>0</td>\n",
              "      <td>2018-09-22</td>\n",
              "      <td>2018-09-22 09:35:41.027 UTC</td>\n",
              "      <td>...</td>\n",
              "      <td>NaN</td>\n",
              "      <td>NaN</td>\n",
              "      <td>NaN</td>\n",
              "      <td>NaN</td>\n",
              "      <td>DELUXE</td>\n",
              "      <td>ONE_DOUBLE_BED</td>\n",
              "      <td>NaN</td>\n",
              "      <td>2</td>\n",
              "      <td>7</td>\n",
              "      <td>1</td>\n",
              "    </tr>\n",
              "    <tr>\n",
              "      <th>1</th>\n",
              "      <td>exoQ3kUraPU4wFlzPkk5+ykBwTs=</td>\n",
              "      <td>sRDgi4iW3och3ZkFvI/7aW1P3xY=</td>\n",
              "      <td>PMJIaKNhV02UjxNiev3Ltce2kNQ=</td>\n",
              "      <td>h10O5X/RJjDGNa+4oSVmxZBhplQ=</td>\n",
              "      <td>iCwYKECg554FmWkZKOS6O7I8nXA=</td>\n",
              "      <td>853068.342720</td>\n",
              "      <td>721837.932454</td>\n",
              "      <td>0</td>\n",
              "      <td>2018-09-22</td>\n",
              "      <td>2018-09-22 03:16:16.417 UTC</td>\n",
              "      <td>...</td>\n",
              "      <td>NaN</td>\n",
              "      <td>NaN</td>\n",
              "      <td>NaN</td>\n",
              "      <td>NaN</td>\n",
              "      <td>NaN</td>\n",
              "      <td>KING</td>\n",
              "      <td>25.0</td>\n",
              "      <td>2</td>\n",
              "      <td>4</td>\n",
              "      <td>1</td>\n",
              "    </tr>\n",
              "    <tr>\n",
              "      <th>2</th>\n",
              "      <td>9GuIvtbdJFVdHFM/0x1p345wCwM=</td>\n",
              "      <td>xlSmSKB3tahvfYZ1DEq0Zu3nek0=</td>\n",
              "      <td>Y4UBm0bDkNkWK2JWpzmbJTlQLqc=</td>\n",
              "      <td>lqSNqRT0DKCxUC60BE3jFG5BwNQ=</td>\n",
              "      <td>NaN</td>\n",
              "      <td>192613.180745</td>\n",
              "      <td>188957.123586</td>\n",
              "      <td>0</td>\n",
              "      <td>2018-09-22</td>\n",
              "      <td>2018-09-22 01:28:14.882 UTC</td>\n",
              "      <td>...</td>\n",
              "      <td>NaN</td>\n",
              "      <td>NaN</td>\n",
              "      <td>NaN</td>\n",
              "      <td>NaN</td>\n",
              "      <td>NaN</td>\n",
              "      <td>ONE_DOUBLE_BED</td>\n",
              "      <td>18.5</td>\n",
              "      <td>2</td>\n",
              "      <td>4</td>\n",
              "      <td>1</td>\n",
              "    </tr>\n",
              "    <tr>\n",
              "      <th>3</th>\n",
              "      <td>QXB7Zobjy0aW6Q8SYt8DQD7fSrQ=</td>\n",
              "      <td>3d4xj1dEU8Q1tSY2APAxmcjlwFw=</td>\n",
              "      <td>TxJe7ItZLbtw1K8Aqlem51jNvaE=</td>\n",
              "      <td>P+HWuys1viVCcm4/aqWuEJ91tb0=</td>\n",
              "      <td>cCnyuGlSTM26W1cOgCNhFiEe+R8=</td>\n",
              "      <td>300377.277202</td>\n",
              "      <td>404480.886678</td>\n",
              "      <td>0</td>\n",
              "      <td>2018-09-22</td>\n",
              "      <td>2018-09-22 22:09:32.201 UTC</td>\n",
              "      <td>...</td>\n",
              "      <td>NaN</td>\n",
              "      <td>NaN</td>\n",
              "      <td>NaN</td>\n",
              "      <td>NaN</td>\n",
              "      <td>NaN</td>\n",
              "      <td>ONE_DOUBLE_BED_OR_TWO_SINGLE_B</td>\n",
              "      <td>26.0</td>\n",
              "      <td>2</td>\n",
              "      <td>4</td>\n",
              "      <td>1</td>\n",
              "    </tr>\n",
              "    <tr>\n",
              "      <th>4</th>\n",
              "      <td>UVEV2qykZPJQ/kfd20M2/86qKrM=</td>\n",
              "      <td>Qnf6/o5tErU5iMEiwzkWhFfiIjc=</td>\n",
              "      <td>kneU7W4rjhdyr4nKoVOP17bfaVk=</td>\n",
              "      <td>wmCmvcyYOxvDtr5DADgjj48ClEs=</td>\n",
              "      <td>HIwm7tZAAnF5sNurgy85MraVTB0=</td>\n",
              "      <td>225738.474167</td>\n",
              "      <td>231019.601478</td>\n",
              "      <td>0</td>\n",
              "      <td>2018-09-22</td>\n",
              "      <td>2018-09-22 15:08:32.967 UTC</td>\n",
              "      <td>...</td>\n",
              "      <td>NaN</td>\n",
              "      <td>NaN</td>\n",
              "      <td>NaN</td>\n",
              "      <td>NaN</td>\n",
              "      <td>DOUBLE</td>\n",
              "      <td>ONE_DOUBLE_BED</td>\n",
              "      <td>16.0</td>\n",
              "      <td>2</td>\n",
              "      <td>9</td>\n",
              "      <td>1</td>\n",
              "    </tr>\n",
              "  </tbody>\n",
              "</table>\n",
              "<p>5 rows × 58 columns</p>\n",
              "</div>\n",
              "      <button class=\"colab-df-convert\" onclick=\"convertToInteractive('df-2be23a40-6e8c-4b2a-8a85-3d789614afae')\"\n",
              "              title=\"Convert this dataframe to an interactive table.\"\n",
              "              style=\"display:none;\">\n",
              "        \n",
              "  <svg xmlns=\"http://www.w3.org/2000/svg\" height=\"24px\"viewBox=\"0 0 24 24\"\n",
              "       width=\"24px\">\n",
              "    <path d=\"M0 0h24v24H0V0z\" fill=\"none\"/>\n",
              "    <path d=\"M18.56 5.44l.94 2.06.94-2.06 2.06-.94-2.06-.94-.94-2.06-.94 2.06-2.06.94zm-11 1L8.5 8.5l.94-2.06 2.06-.94-2.06-.94L8.5 2.5l-.94 2.06-2.06.94zm10 10l.94 2.06.94-2.06 2.06-.94-2.06-.94-.94-2.06-.94 2.06-2.06.94z\"/><path d=\"M17.41 7.96l-1.37-1.37c-.4-.4-.92-.59-1.43-.59-.52 0-1.04.2-1.43.59L10.3 9.45l-7.72 7.72c-.78.78-.78 2.05 0 2.83L4 21.41c.39.39.9.59 1.41.59.51 0 1.02-.2 1.41-.59l7.78-7.78 2.81-2.81c.8-.78.8-2.07 0-2.86zM5.41 20L4 18.59l7.72-7.72 1.47 1.35L5.41 20z\"/>\n",
              "  </svg>\n",
              "      </button>\n",
              "      \n",
              "  <style>\n",
              "    .colab-df-container {\n",
              "      display:flex;\n",
              "      flex-wrap:wrap;\n",
              "      gap: 12px;\n",
              "    }\n",
              "\n",
              "    .colab-df-convert {\n",
              "      background-color: #E8F0FE;\n",
              "      border: none;\n",
              "      border-radius: 50%;\n",
              "      cursor: pointer;\n",
              "      display: none;\n",
              "      fill: #1967D2;\n",
              "      height: 32px;\n",
              "      padding: 0 0 0 0;\n",
              "      width: 32px;\n",
              "    }\n",
              "\n",
              "    .colab-df-convert:hover {\n",
              "      background-color: #E2EBFA;\n",
              "      box-shadow: 0px 1px 2px rgba(60, 64, 67, 0.3), 0px 1px 3px 1px rgba(60, 64, 67, 0.15);\n",
              "      fill: #174EA6;\n",
              "    }\n",
              "\n",
              "    [theme=dark] .colab-df-convert {\n",
              "      background-color: #3B4455;\n",
              "      fill: #D2E3FC;\n",
              "    }\n",
              "\n",
              "    [theme=dark] .colab-df-convert:hover {\n",
              "      background-color: #434B5C;\n",
              "      box-shadow: 0px 1px 3px 1px rgba(0, 0, 0, 0.15);\n",
              "      filter: drop-shadow(0px 1px 2px rgba(0, 0, 0, 0.3));\n",
              "      fill: #FFFFFF;\n",
              "    }\n",
              "  </style>\n",
              "\n",
              "      <script>\n",
              "        const buttonEl =\n",
              "          document.querySelector('#df-2be23a40-6e8c-4b2a-8a85-3d789614afae button.colab-df-convert');\n",
              "        buttonEl.style.display =\n",
              "          google.colab.kernel.accessAllowed ? 'block' : 'none';\n",
              "\n",
              "        async function convertToInteractive(key) {\n",
              "          const element = document.querySelector('#df-2be23a40-6e8c-4b2a-8a85-3d789614afae');\n",
              "          const dataTable =\n",
              "            await google.colab.kernel.invokeFunction('convertToInteractive',\n",
              "                                                     [key], {});\n",
              "          if (!dataTable) return;\n",
              "\n",
              "          const docLinkHtml = 'Like what you see? Visit the ' +\n",
              "            '<a target=\"_blank\" href=https://colab.research.google.com/notebooks/data_table.ipynb>data table notebook</a>'\n",
              "            + ' to learn more about interactive tables.';\n",
              "          element.innerHTML = '';\n",
              "          dataTable['output_type'] = 'display_data';\n",
              "          await google.colab.output.renderOutput(dataTable, element);\n",
              "          const docLink = document.createElement('div');\n",
              "          docLink.innerHTML = docLinkHtml;\n",
              "          element.appendChild(docLink);\n",
              "        }\n",
              "      </script>\n",
              "    </div>\n",
              "  </div>\n",
              "  "
            ]
          },
          "metadata": {},
          "execution_count": 59
        }
      ]
    },
    {
      "cell_type": "code",
      "source": [
        "df[\"room_size_inmeter\"].fillna(df[\"room_size_inmeter\"].mean(),inplace = True)\n",
        "df[\"next_room_size_inmeter\"].fillna(df[\"next_room_size_inmeter\"].mean(), inplace = True)\n",
        "df[\"bed_type\"].fillna(df[\"bed_type\"].mode().iloc[0], inplace = True)\n",
        "df[\"next_bed_type\"].fillna(df[\"next_bed_type\"].mode().iloc[0], inplace = True)\n",
        "df[\"hotel_score\"].fillna(df[\"hotel_score\"].mean(),inplace = True)\n",
        "df[\"next_hotel_score\"].fillna(df[\"next_hotel_score\"].mean(),inplace = True)"
      ],
      "metadata": {
        "id": "Yq6L-IHZwPPy"
      },
      "execution_count": 60,
      "outputs": []
    },
    {
      "cell_type": "markdown",
      "source": [
        "## Data Cleaning"
      ],
      "metadata": {
        "id": "mWy9K-bevYgz"
      }
    },
    {
      "cell_type": "code",
      "source": [
        "missing_value = dataset_df.isnull().sum() *100 / len(dataset_df) \n",
        "\n",
        "df_missing_value = pd.DataFrame( {\"missing_count\" : dataset_df.isnull().sum(),\n",
        "             \"percent_missing\" : missing_value })\n",
        "print(df_missing_value.sort_values(by = \"missing_count\",ascending=False).head(20))\n",
        "print(\"length of columns are : \", len(dataset_df.columns))"
      ],
      "metadata": {
        "colab": {
          "base_uri": "https://localhost:8080/"
        },
        "id": "JLTqnKROvNLr",
        "outputId": "059d4e9e-9f45-4964-8ae0-454ea5f61836"
      },
      "execution_count": 61,
      "outputs": [
        {
          "output_type": "stream",
          "name": "stdout",
          "text": [
            "                                missing_count  percent_missing\n",
            "customer_type                           18970       100.000000\n",
            "next_latest_sentiment_analysis          18970       100.000000\n",
            "latest_sentiment_analysis               18969        99.994729\n",
            "next_category_3                         18946        99.873484\n",
            "next_category_0                         18899        99.625725\n",
            "next_category_1                         18899        99.625725\n",
            "next_category_2                         18899        99.625725\n",
            "category_3                              18854        99.388508\n",
            "category_2                              18712        98.639958\n",
            "category_1                              18712        98.639958\n",
            "category_0                              18711        98.634686\n",
            "pid_score                               14678        77.374802\n",
            "next_pid_score                          14467        76.262520\n",
            "room_type                               13324        70.237217\n",
            "next_room_type                          12949        68.260411\n",
            "accom_chain_name                         6849        36.104375\n",
            "next_accom_chain_name                    6537        34.459673\n",
            "room_id                                   390         2.055878\n",
            "accom_type                                  2         0.010543\n",
            "next_accom_star_rating                      0         0.000000\n",
            "length of columns are :  58\n"
          ]
        }
      ]
    },
    {
      "cell_type": "code",
      "source": [
        "#selecting not from the list \n",
        "df_clean = dataset_df.loc[:, ~dataset_df.columns.isin(df_missing_value.sort_values(by = \"missing_count\",ascending=False).head(17).index)]\n",
        "df_clean = df_clean.dropna()\n",
        "\n",
        "\n",
        "df_clean = df_clean.loc[:, ~df_clean.columns.isin([\"count_buy_that_day\",\n",
        "                                                   \"count_buy_that_month\",\n",
        "                                                   \"count_buy_that_next_day\",\n",
        "                                                   \"room_id\",\n",
        "                                                   \"order_id\",\n",
        "                                                   \"profile_id\",\n",
        "                                                   \"interface\",\n",
        "                                                   \"last_issued_date\",\n",
        "                                                   \"next_bed_type\",\n",
        "                                                   \"month\",\n",
        "                                                   \"next_time_stamp\",\n",
        "                                                   \"sales_timestamp\",\n",
        "                                                   \"next_is_use_coupon\",\n",
        "                                                   \"next_num_rooms\",\n",
        "                                                   \"next_gbv_idr\",\n",
        "                                                   \"accom_id\" ,\n",
        "                                                   \"check_in_date\",\n",
        "                                                   \"check_out_date\",\n",
        "                                                   \"sales_date_utc7\",\n",
        "                                                   \"next_check_in_date\",\n",
        "                                                   \"next_check_out_date\",\n",
        "                                                   \"next_sales_date\",\n",
        "                                                   \"next_is_use_coupon\",\n",
        "                                                   \"is_use_coupon\",\n",
        "                                                   \"next_coupon_idr\",\n",
        "                                                   \"coupon_idr\"])]\n",
        "\n"
      ],
      "metadata": {
        "id": "UdKJeHGKw2zJ"
      },
      "execution_count": 62,
      "outputs": []
    },
    {
      "cell_type": "code",
      "source": [
        "df = df_clean \n",
        "missing_value = df_clean.isnull().sum() *100 / len(dataset_df) \n",
        "df_missing_value = pd.DataFrame( {\"missing_count\" : df_clean.isnull().sum(),\n",
        "             \"percent_missing\" : missing_value} )\n",
        "print(\"length columns : \",len(df_clean.columns)  )\n",
        "print(df_missing_value.sort_values(by = \"missing_count\",ascending=False))"
      ],
      "metadata": {
        "id": "5uwOQNpGym9e",
        "colab": {
          "base_uri": "https://localhost:8080/"
        },
        "outputId": "4bf1adf1-20df-473f-d56d-20e3ab49fbdd"
      },
      "execution_count": 63,
      "outputs": [
        {
          "output_type": "stream",
          "name": "stdout",
          "text": [
            "length columns :  16\n",
            "                        missing_count  percent_missing\n",
            "selling_price_idr                   0              0.0\n",
            "gbv_idr                             0              0.0\n",
            "accom_region                        0              0.0\n",
            "accom_star_rating                   0              0.0\n",
            "num_rooms                           0              0.0\n",
            "accom_type                          0              0.0\n",
            "bed_type                            0              0.0\n",
            "room_size_inmeter                   0              0.0\n",
            "hotel_score                         0              0.0\n",
            "next_accom_id                       0              0.0\n",
            "next_accom_region                   0              0.0\n",
            "next_accom_star_rating              0              0.0\n",
            "next_accom_type                     0              0.0\n",
            "next_selling_price                  0              0.0\n",
            "next_hotel_score                    0              0.0\n",
            "next_room_size_inmeter              0              0.0\n"
          ]
        }
      ]
    },
    {
      "cell_type": "code",
      "source": [
        "#adding index so to make it easier to merge \n",
        "df[\"Index\"] = range(1,len(df)+1)"
      ],
      "metadata": {
        "id": "dhGZMIXUUpP6"
      },
      "execution_count": 64,
      "outputs": []
    },
    {
      "cell_type": "code",
      "source": [
        "#defining independent and dependent\n",
        "x =[\"selling_price_idr\",\n",
        "    \"gbv_idr\",\n",
        "    \"accom_region\",\n",
        "    \"accom_star_rating\",\n",
        "    \"num_rooms\",\n",
        "    \"accom_type\",\n",
        "    \"bed_type\"\n",
        "    \"room_size_inmeter\",\n",
        "    \"hotel_score\"\n",
        "    ]\n",
        "y =[\"next_accom_id\",\n",
        "    \"next_accom_region\",\n",
        "    \"next_accom_star_rating\",\n",
        "    \"next_accom_type\",\n",
        "    \"next_selling_price\",\n",
        "    \"next_hotel_score\",\n",
        "    \"next_room_size_inmeter\"\n",
        "    ]\n",
        "\n",
        "y_quantitative = [\"next_accom_star_rating\",\"next_selling_price\",\"next_hotel_score\",\"next_room_size_inmeter\"]\n",
        "y_qualitative  = [\"next_accom_region\",\"next_accom_type\"]    \n",
        "\n"
      ],
      "metadata": {
        "id": "CudMWnViVQcB"
      },
      "execution_count": 65,
      "outputs": []
    },
    {
      "cell_type": "markdown",
      "source": [
        "### Removing Outliers"
      ],
      "metadata": {
        "id": "VT4usQlO2QlA"
      }
    },
    {
      "cell_type": "code",
      "source": [
        "#Removing Outliers \n",
        "def remove_outliers(df, cols):\n",
        "    Q1 = df[cols].quantile(0.25)\n",
        "    Q3 = df[cols].quantile(0.75)\n",
        "    IQR = Q3 - Q1\n",
        "    lower_bound = Q1 - 1.5*IQR\n",
        "    upper_bound = Q3 + 1.5*IQR\n",
        "    return df[~((df[cols] < lower_bound) | (df[cols] > upper_bound)).any(axis=1)]\n",
        "\n",
        "# list of columns to remove outliers from\n",
        "# remove outliers from selected columns\n",
        "y_cleaned = remove_outliers(df[y], y_quantitative)\n",
        "y = y_cleaned\n",
        "\n"
      ],
      "metadata": {
        "id": "A5IsfFta0Gkq"
      },
      "execution_count": 66,
      "outputs": []
    },
    {
      "cell_type": "markdown",
      "source": [
        "###Group all accom"
      ],
      "metadata": {
        "id": "f3TwMKob2T0E"
      }
    },
    {
      "cell_type": "code",
      "source": [
        "y_grouped = df.groupby(by = [\"next_accom_id\",\"next_accom_region\",\"next_accom_type\"],as_index = False)[\"next_accom_star_rating\",\"next_selling_price\",\"next_hotel_score\",\"next_room_size_inmeter\"].mean()\n",
        "y = y_grouped.iloc[:,1:]\n",
        "y.head()"
      ],
      "metadata": {
        "colab": {
          "base_uri": "https://localhost:8080/",
          "height": 241
        },
        "id": "xtdTc2doVpeL",
        "outputId": "f16d1227-7cac-47e7-ec06-96ac74c693b9"
      },
      "execution_count": 67,
      "outputs": [
        {
          "output_type": "stream",
          "name": "stderr",
          "text": [
            "<ipython-input-67-ba309e306b44>:1: FutureWarning: Indexing with multiple keys (implicitly converted to a tuple of keys) will be deprecated, use a list instead.\n",
            "  y_grouped = df.groupby(by = [\"next_accom_id\",\"next_accom_region\",\"next_accom_type\"],as_index = False)[\"next_accom_star_rating\",\"next_selling_price\",\"next_hotel_score\",\"next_room_size_inmeter\"].mean()\n"
          ]
        },
        {
          "output_type": "execute_result",
          "data": {
            "text/plain": [
              "  next_accom_region next_accom_type  next_accom_star_rating  \\\n",
              "0        Jawa Timur        HOMESTAY                     1.0   \n",
              "1        Jawa Barat           HOTEL                     2.0   \n",
              "2             Trang           HOTEL                     2.0   \n",
              "3        Jawa Timur           HOTEL                     2.0   \n",
              "4          Chonburi      GUESTHOUSE                     2.0   \n",
              "\n",
              "   next_selling_price  next_hotel_score  next_room_size_inmeter  \n",
              "0       896201.625996          8.434579                12.00000  \n",
              "1       513298.441428          8.420212                16.00000  \n",
              "2       294486.253722          8.831921                24.99785  \n",
              "3       437789.420298          8.572257                16.00000  \n",
              "4       212348.750150          8.017347                16.00000  "
            ],
            "text/html": [
              "\n",
              "  <div id=\"df-3800799e-193c-4fc5-8e46-7685851b5af4\">\n",
              "    <div class=\"colab-df-container\">\n",
              "      <div>\n",
              "<style scoped>\n",
              "    .dataframe tbody tr th:only-of-type {\n",
              "        vertical-align: middle;\n",
              "    }\n",
              "\n",
              "    .dataframe tbody tr th {\n",
              "        vertical-align: top;\n",
              "    }\n",
              "\n",
              "    .dataframe thead th {\n",
              "        text-align: right;\n",
              "    }\n",
              "</style>\n",
              "<table border=\"1\" class=\"dataframe\">\n",
              "  <thead>\n",
              "    <tr style=\"text-align: right;\">\n",
              "      <th></th>\n",
              "      <th>next_accom_region</th>\n",
              "      <th>next_accom_type</th>\n",
              "      <th>next_accom_star_rating</th>\n",
              "      <th>next_selling_price</th>\n",
              "      <th>next_hotel_score</th>\n",
              "      <th>next_room_size_inmeter</th>\n",
              "    </tr>\n",
              "  </thead>\n",
              "  <tbody>\n",
              "    <tr>\n",
              "      <th>0</th>\n",
              "      <td>Jawa Timur</td>\n",
              "      <td>HOMESTAY</td>\n",
              "      <td>1.0</td>\n",
              "      <td>896201.625996</td>\n",
              "      <td>8.434579</td>\n",
              "      <td>12.00000</td>\n",
              "    </tr>\n",
              "    <tr>\n",
              "      <th>1</th>\n",
              "      <td>Jawa Barat</td>\n",
              "      <td>HOTEL</td>\n",
              "      <td>2.0</td>\n",
              "      <td>513298.441428</td>\n",
              "      <td>8.420212</td>\n",
              "      <td>16.00000</td>\n",
              "    </tr>\n",
              "    <tr>\n",
              "      <th>2</th>\n",
              "      <td>Trang</td>\n",
              "      <td>HOTEL</td>\n",
              "      <td>2.0</td>\n",
              "      <td>294486.253722</td>\n",
              "      <td>8.831921</td>\n",
              "      <td>24.99785</td>\n",
              "    </tr>\n",
              "    <tr>\n",
              "      <th>3</th>\n",
              "      <td>Jawa Timur</td>\n",
              "      <td>HOTEL</td>\n",
              "      <td>2.0</td>\n",
              "      <td>437789.420298</td>\n",
              "      <td>8.572257</td>\n",
              "      <td>16.00000</td>\n",
              "    </tr>\n",
              "    <tr>\n",
              "      <th>4</th>\n",
              "      <td>Chonburi</td>\n",
              "      <td>GUESTHOUSE</td>\n",
              "      <td>2.0</td>\n",
              "      <td>212348.750150</td>\n",
              "      <td>8.017347</td>\n",
              "      <td>16.00000</td>\n",
              "    </tr>\n",
              "  </tbody>\n",
              "</table>\n",
              "</div>\n",
              "      <button class=\"colab-df-convert\" onclick=\"convertToInteractive('df-3800799e-193c-4fc5-8e46-7685851b5af4')\"\n",
              "              title=\"Convert this dataframe to an interactive table.\"\n",
              "              style=\"display:none;\">\n",
              "        \n",
              "  <svg xmlns=\"http://www.w3.org/2000/svg\" height=\"24px\"viewBox=\"0 0 24 24\"\n",
              "       width=\"24px\">\n",
              "    <path d=\"M0 0h24v24H0V0z\" fill=\"none\"/>\n",
              "    <path d=\"M18.56 5.44l.94 2.06.94-2.06 2.06-.94-2.06-.94-.94-2.06-.94 2.06-2.06.94zm-11 1L8.5 8.5l.94-2.06 2.06-.94-2.06-.94L8.5 2.5l-.94 2.06-2.06.94zm10 10l.94 2.06.94-2.06 2.06-.94-2.06-.94-.94-2.06-.94 2.06-2.06.94z\"/><path d=\"M17.41 7.96l-1.37-1.37c-.4-.4-.92-.59-1.43-.59-.52 0-1.04.2-1.43.59L10.3 9.45l-7.72 7.72c-.78.78-.78 2.05 0 2.83L4 21.41c.39.39.9.59 1.41.59.51 0 1.02-.2 1.41-.59l7.78-7.78 2.81-2.81c.8-.78.8-2.07 0-2.86zM5.41 20L4 18.59l7.72-7.72 1.47 1.35L5.41 20z\"/>\n",
              "  </svg>\n",
              "      </button>\n",
              "      \n",
              "  <style>\n",
              "    .colab-df-container {\n",
              "      display:flex;\n",
              "      flex-wrap:wrap;\n",
              "      gap: 12px;\n",
              "    }\n",
              "\n",
              "    .colab-df-convert {\n",
              "      background-color: #E8F0FE;\n",
              "      border: none;\n",
              "      border-radius: 50%;\n",
              "      cursor: pointer;\n",
              "      display: none;\n",
              "      fill: #1967D2;\n",
              "      height: 32px;\n",
              "      padding: 0 0 0 0;\n",
              "      width: 32px;\n",
              "    }\n",
              "\n",
              "    .colab-df-convert:hover {\n",
              "      background-color: #E2EBFA;\n",
              "      box-shadow: 0px 1px 2px rgba(60, 64, 67, 0.3), 0px 1px 3px 1px rgba(60, 64, 67, 0.15);\n",
              "      fill: #174EA6;\n",
              "    }\n",
              "\n",
              "    [theme=dark] .colab-df-convert {\n",
              "      background-color: #3B4455;\n",
              "      fill: #D2E3FC;\n",
              "    }\n",
              "\n",
              "    [theme=dark] .colab-df-convert:hover {\n",
              "      background-color: #434B5C;\n",
              "      box-shadow: 0px 1px 3px 1px rgba(0, 0, 0, 0.15);\n",
              "      filter: drop-shadow(0px 1px 2px rgba(0, 0, 0, 0.3));\n",
              "      fill: #FFFFFF;\n",
              "    }\n",
              "  </style>\n",
              "\n",
              "      <script>\n",
              "        const buttonEl =\n",
              "          document.querySelector('#df-3800799e-193c-4fc5-8e46-7685851b5af4 button.colab-df-convert');\n",
              "        buttonEl.style.display =\n",
              "          google.colab.kernel.accessAllowed ? 'block' : 'none';\n",
              "\n",
              "        async function convertToInteractive(key) {\n",
              "          const element = document.querySelector('#df-3800799e-193c-4fc5-8e46-7685851b5af4');\n",
              "          const dataTable =\n",
              "            await google.colab.kernel.invokeFunction('convertToInteractive',\n",
              "                                                     [key], {});\n",
              "          if (!dataTable) return;\n",
              "\n",
              "          const docLinkHtml = 'Like what you see? Visit the ' +\n",
              "            '<a target=\"_blank\" href=https://colab.research.google.com/notebooks/data_table.ipynb>data table notebook</a>'\n",
              "            + ' to learn more about interactive tables.';\n",
              "          element.innerHTML = '';\n",
              "          dataTable['output_type'] = 'display_data';\n",
              "          await google.colab.output.renderOutput(dataTable, element);\n",
              "          const docLink = document.createElement('div');\n",
              "          docLink.innerHTML = docLinkHtml;\n",
              "          element.appendChild(docLink);\n",
              "        }\n",
              "      </script>\n",
              "    </div>\n",
              "  </div>\n",
              "  "
            ]
          },
          "metadata": {},
          "execution_count": 67
        }
      ]
    },
    {
      "cell_type": "markdown",
      "source": [
        "### VIF Checking (only for Quantitative)"
      ],
      "metadata": {
        "id": "vOGoBZYC2iJh"
      }
    },
    {
      "cell_type": "code",
      "source": [
        "#coba pake korelasi\n",
        "vif_df = pd.DataFrame()\n",
        "vif_df[\"Feature\"] = y[y_quantitative].columns\n",
        "vif_df [\"VIF\"]= [variance_inflation_factor(y[y_quantitative].values, i) for i in range(len(y[y_quantitative].columns))]\n",
        "vif_df\n",
        "\n",
        "#coba check chi-square untuk kategorikal"
      ],
      "metadata": {
        "colab": {
          "base_uri": "https://localhost:8080/",
          "height": 175
        },
        "id": "H5qrRNyA2n0B",
        "outputId": "7b3bf441-c779-411d-c355-b860a7d81f80"
      },
      "execution_count": 68,
      "outputs": [
        {
          "output_type": "execute_result",
          "data": {
            "text/plain": [
              "                  Feature       VIF\n",
              "0  next_accom_star_rating  4.689812\n",
              "1      next_selling_price  1.721430\n",
              "2        next_hotel_score  4.291712\n",
              "3  next_room_size_inmeter  1.249924"
            ],
            "text/html": [
              "\n",
              "  <div id=\"df-39de2b21-0104-43c0-ba2e-77ec569462ef\">\n",
              "    <div class=\"colab-df-container\">\n",
              "      <div>\n",
              "<style scoped>\n",
              "    .dataframe tbody tr th:only-of-type {\n",
              "        vertical-align: middle;\n",
              "    }\n",
              "\n",
              "    .dataframe tbody tr th {\n",
              "        vertical-align: top;\n",
              "    }\n",
              "\n",
              "    .dataframe thead th {\n",
              "        text-align: right;\n",
              "    }\n",
              "</style>\n",
              "<table border=\"1\" class=\"dataframe\">\n",
              "  <thead>\n",
              "    <tr style=\"text-align: right;\">\n",
              "      <th></th>\n",
              "      <th>Feature</th>\n",
              "      <th>VIF</th>\n",
              "    </tr>\n",
              "  </thead>\n",
              "  <tbody>\n",
              "    <tr>\n",
              "      <th>0</th>\n",
              "      <td>next_accom_star_rating</td>\n",
              "      <td>4.689812</td>\n",
              "    </tr>\n",
              "    <tr>\n",
              "      <th>1</th>\n",
              "      <td>next_selling_price</td>\n",
              "      <td>1.721430</td>\n",
              "    </tr>\n",
              "    <tr>\n",
              "      <th>2</th>\n",
              "      <td>next_hotel_score</td>\n",
              "      <td>4.291712</td>\n",
              "    </tr>\n",
              "    <tr>\n",
              "      <th>3</th>\n",
              "      <td>next_room_size_inmeter</td>\n",
              "      <td>1.249924</td>\n",
              "    </tr>\n",
              "  </tbody>\n",
              "</table>\n",
              "</div>\n",
              "      <button class=\"colab-df-convert\" onclick=\"convertToInteractive('df-39de2b21-0104-43c0-ba2e-77ec569462ef')\"\n",
              "              title=\"Convert this dataframe to an interactive table.\"\n",
              "              style=\"display:none;\">\n",
              "        \n",
              "  <svg xmlns=\"http://www.w3.org/2000/svg\" height=\"24px\"viewBox=\"0 0 24 24\"\n",
              "       width=\"24px\">\n",
              "    <path d=\"M0 0h24v24H0V0z\" fill=\"none\"/>\n",
              "    <path d=\"M18.56 5.44l.94 2.06.94-2.06 2.06-.94-2.06-.94-.94-2.06-.94 2.06-2.06.94zm-11 1L8.5 8.5l.94-2.06 2.06-.94-2.06-.94L8.5 2.5l-.94 2.06-2.06.94zm10 10l.94 2.06.94-2.06 2.06-.94-2.06-.94-.94-2.06-.94 2.06-2.06.94z\"/><path d=\"M17.41 7.96l-1.37-1.37c-.4-.4-.92-.59-1.43-.59-.52 0-1.04.2-1.43.59L10.3 9.45l-7.72 7.72c-.78.78-.78 2.05 0 2.83L4 21.41c.39.39.9.59 1.41.59.51 0 1.02-.2 1.41-.59l7.78-7.78 2.81-2.81c.8-.78.8-2.07 0-2.86zM5.41 20L4 18.59l7.72-7.72 1.47 1.35L5.41 20z\"/>\n",
              "  </svg>\n",
              "      </button>\n",
              "      \n",
              "  <style>\n",
              "    .colab-df-container {\n",
              "      display:flex;\n",
              "      flex-wrap:wrap;\n",
              "      gap: 12px;\n",
              "    }\n",
              "\n",
              "    .colab-df-convert {\n",
              "      background-color: #E8F0FE;\n",
              "      border: none;\n",
              "      border-radius: 50%;\n",
              "      cursor: pointer;\n",
              "      display: none;\n",
              "      fill: #1967D2;\n",
              "      height: 32px;\n",
              "      padding: 0 0 0 0;\n",
              "      width: 32px;\n",
              "    }\n",
              "\n",
              "    .colab-df-convert:hover {\n",
              "      background-color: #E2EBFA;\n",
              "      box-shadow: 0px 1px 2px rgba(60, 64, 67, 0.3), 0px 1px 3px 1px rgba(60, 64, 67, 0.15);\n",
              "      fill: #174EA6;\n",
              "    }\n",
              "\n",
              "    [theme=dark] .colab-df-convert {\n",
              "      background-color: #3B4455;\n",
              "      fill: #D2E3FC;\n",
              "    }\n",
              "\n",
              "    [theme=dark] .colab-df-convert:hover {\n",
              "      background-color: #434B5C;\n",
              "      box-shadow: 0px 1px 3px 1px rgba(0, 0, 0, 0.15);\n",
              "      filter: drop-shadow(0px 1px 2px rgba(0, 0, 0, 0.3));\n",
              "      fill: #FFFFFF;\n",
              "    }\n",
              "  </style>\n",
              "\n",
              "      <script>\n",
              "        const buttonEl =\n",
              "          document.querySelector('#df-39de2b21-0104-43c0-ba2e-77ec569462ef button.colab-df-convert');\n",
              "        buttonEl.style.display =\n",
              "          google.colab.kernel.accessAllowed ? 'block' : 'none';\n",
              "\n",
              "        async function convertToInteractive(key) {\n",
              "          const element = document.querySelector('#df-39de2b21-0104-43c0-ba2e-77ec569462ef');\n",
              "          const dataTable =\n",
              "            await google.colab.kernel.invokeFunction('convertToInteractive',\n",
              "                                                     [key], {});\n",
              "          if (!dataTable) return;\n",
              "\n",
              "          const docLinkHtml = 'Like what you see? Visit the ' +\n",
              "            '<a target=\"_blank\" href=https://colab.research.google.com/notebooks/data_table.ipynb>data table notebook</a>'\n",
              "            + ' to learn more about interactive tables.';\n",
              "          element.innerHTML = '';\n",
              "          dataTable['output_type'] = 'display_data';\n",
              "          await google.colab.output.renderOutput(dataTable, element);\n",
              "          const docLink = document.createElement('div');\n",
              "          docLink.innerHTML = docLinkHtml;\n",
              "          element.appendChild(docLink);\n",
              "        }\n",
              "      </script>\n",
              "    </div>\n",
              "  </div>\n",
              "  "
            ]
          },
          "metadata": {},
          "execution_count": 68
        }
      ]
    },
    {
      "cell_type": "code",
      "source": [
        "#correlation for quantitative columns \n",
        "print(\"Correlation : \")\n",
        "print (pd.DataFrame (y[y_quantitative].corr()))"
      ],
      "metadata": {
        "colab": {
          "base_uri": "https://localhost:8080/"
        },
        "id": "wV5FLDt3Hufp",
        "outputId": "15de820e-0e57-40c8-9c3a-58a25bda21a7"
      },
      "execution_count": 69,
      "outputs": [
        {
          "output_type": "stream",
          "name": "stdout",
          "text": [
            "Correlation : \n",
            "                        next_accom_star_rating  next_selling_price  \\\n",
            "next_accom_star_rating                1.000000            0.356963   \n",
            "next_selling_price                    0.356963            1.000000   \n",
            "next_hotel_score                      0.285636            0.174012   \n",
            "next_room_size_inmeter                0.069516            0.108117   \n",
            "\n",
            "                        next_hotel_score  next_room_size_inmeter  \n",
            "next_accom_star_rating          0.285636                0.069516  \n",
            "next_selling_price              0.174012                0.108117  \n",
            "next_hotel_score                1.000000                0.048545  \n",
            "next_room_size_inmeter          0.048545                1.000000  \n"
          ]
        }
      ]
    },
    {
      "cell_type": "code",
      "source": [
        "#chi square test for Categorical Variable\n",
        "contingency_table = pd.crosstab(y[\"next_accom_region\"],y[\"next_accom_type\"])\n",
        "\n",
        "chi2, p_value, dof, expected = stats.chi2_contingency(contingency_table)\n",
        "\n",
        "print(\"Chi-square value:\", chi2)\n",
        "print(\"P-value:\", p_value)\n",
        "print(\"Degrees of freedom:\", dof)\n",
        "# print(\"Expected frequencies:\", expected)\n",
        "\n",
        "if p_value <= 0.05 : \n",
        "  print(\"Accepted\")\n",
        "else :\n",
        "  print(\"Rejected\")\n",
        "\n"
      ],
      "metadata": {
        "colab": {
          "base_uri": "https://localhost:8080/"
        },
        "id": "6sdVHHrzE_B9",
        "outputId": "5c945a18-b1b8-4544-83de-df352cea93a3"
      },
      "execution_count": 70,
      "outputs": [
        {
          "output_type": "stream",
          "name": "stdout",
          "text": [
            "Chi-square value: 4412.246706154173\n",
            "P-value: 3.343329663332918e-250\n",
            "Degrees of freedom: 1650\n",
            "Accepted\n"
          ]
        }
      ]
    },
    {
      "cell_type": "markdown",
      "source": [
        "### Min Max Scaling"
      ],
      "metadata": {
        "id": "5Ej17eSM2Zam"
      }
    },
    {
      "cell_type": "code",
      "source": [
        "def build_min_max_scaler(df) :\n",
        "  scaled_columns = pd.DataFrame()\n",
        "  for i in df.columns:\n",
        "      min = df[i].min()\n",
        "      df[i] = df[i]-min\n",
        "      max = df[i].max()\n",
        "      scaled_columns[i] = pd.DataFrame( round(df[i]/max ,5) )\n",
        "\n",
        "      # print(i, max)\n",
        "      # print(i, min)\n",
        "      print(\"\")\n",
        "  return scaled_columns\n",
        "\n",
        "y_quantitative = build_min_max_scaler(y_grouped[y_quantitative])\n",
        "\n",
        "y_final = y_quantitative \n",
        "y_final[\"next_accom_region\"] = y_grouped[\"next_accom_region\"]\n",
        "y_final[\"next_accom_type\"] = y_grouped[\"next_accom_type\"]\n",
        "y_final.head()"
      ],
      "metadata": {
        "colab": {
          "base_uri": "https://localhost:8080/",
          "height": 692
        },
        "id": "YynHteX9WmoK",
        "outputId": "d11fb866-a2df-4c80-f997-64ed1c4c205b"
      },
      "execution_count": 71,
      "outputs": [
        {
          "output_type": "stream",
          "name": "stdout",
          "text": [
            "\n",
            "\n",
            "\n",
            "\n"
          ]
        },
        {
          "output_type": "stream",
          "name": "stderr",
          "text": [
            "<ipython-input-71-173645645695>:5: SettingWithCopyWarning: \n",
            "A value is trying to be set on a copy of a slice from a DataFrame.\n",
            "Try using .loc[row_indexer,col_indexer] = value instead\n",
            "\n",
            "See the caveats in the documentation: https://pandas.pydata.org/pandas-docs/stable/user_guide/indexing.html#returning-a-view-versus-a-copy\n",
            "  df[i] = df[i]-min\n",
            "<ipython-input-71-173645645695>:5: SettingWithCopyWarning: \n",
            "A value is trying to be set on a copy of a slice from a DataFrame.\n",
            "Try using .loc[row_indexer,col_indexer] = value instead\n",
            "\n",
            "See the caveats in the documentation: https://pandas.pydata.org/pandas-docs/stable/user_guide/indexing.html#returning-a-view-versus-a-copy\n",
            "  df[i] = df[i]-min\n",
            "<ipython-input-71-173645645695>:5: SettingWithCopyWarning: \n",
            "A value is trying to be set on a copy of a slice from a DataFrame.\n",
            "Try using .loc[row_indexer,col_indexer] = value instead\n",
            "\n",
            "See the caveats in the documentation: https://pandas.pydata.org/pandas-docs/stable/user_guide/indexing.html#returning-a-view-versus-a-copy\n",
            "  df[i] = df[i]-min\n",
            "<ipython-input-71-173645645695>:5: SettingWithCopyWarning: \n",
            "A value is trying to be set on a copy of a slice from a DataFrame.\n",
            "Try using .loc[row_indexer,col_indexer] = value instead\n",
            "\n",
            "See the caveats in the documentation: https://pandas.pydata.org/pandas-docs/stable/user_guide/indexing.html#returning-a-view-versus-a-copy\n",
            "  df[i] = df[i]-min\n"
          ]
        },
        {
          "output_type": "execute_result",
          "data": {
            "text/plain": [
              "   next_accom_star_rating  next_selling_price  next_hotel_score  \\\n",
              "0                     0.2             0.04002           0.71538   \n",
              "1                     0.4             0.02207           0.71277   \n",
              "2                     0.4             0.01182           0.78762   \n",
              "3                     0.4             0.01853           0.74041   \n",
              "4                     0.4             0.00797           0.63952   \n",
              "\n",
              "   next_room_size_inmeter next_accom_region next_accom_type  \n",
              "0                 0.00333        Jawa Timur        HOMESTAY  \n",
              "1                 0.00444        Jawa Barat           HOTEL  \n",
              "2                 0.00694             Trang           HOTEL  \n",
              "3                 0.00444        Jawa Timur           HOTEL  \n",
              "4                 0.00444          Chonburi      GUESTHOUSE  "
            ],
            "text/html": [
              "\n",
              "  <div id=\"df-08880a43-3001-4dc1-8320-6b439d5745a4\">\n",
              "    <div class=\"colab-df-container\">\n",
              "      <div>\n",
              "<style scoped>\n",
              "    .dataframe tbody tr th:only-of-type {\n",
              "        vertical-align: middle;\n",
              "    }\n",
              "\n",
              "    .dataframe tbody tr th {\n",
              "        vertical-align: top;\n",
              "    }\n",
              "\n",
              "    .dataframe thead th {\n",
              "        text-align: right;\n",
              "    }\n",
              "</style>\n",
              "<table border=\"1\" class=\"dataframe\">\n",
              "  <thead>\n",
              "    <tr style=\"text-align: right;\">\n",
              "      <th></th>\n",
              "      <th>next_accom_star_rating</th>\n",
              "      <th>next_selling_price</th>\n",
              "      <th>next_hotel_score</th>\n",
              "      <th>next_room_size_inmeter</th>\n",
              "      <th>next_accom_region</th>\n",
              "      <th>next_accom_type</th>\n",
              "    </tr>\n",
              "  </thead>\n",
              "  <tbody>\n",
              "    <tr>\n",
              "      <th>0</th>\n",
              "      <td>0.2</td>\n",
              "      <td>0.04002</td>\n",
              "      <td>0.71538</td>\n",
              "      <td>0.00333</td>\n",
              "      <td>Jawa Timur</td>\n",
              "      <td>HOMESTAY</td>\n",
              "    </tr>\n",
              "    <tr>\n",
              "      <th>1</th>\n",
              "      <td>0.4</td>\n",
              "      <td>0.02207</td>\n",
              "      <td>0.71277</td>\n",
              "      <td>0.00444</td>\n",
              "      <td>Jawa Barat</td>\n",
              "      <td>HOTEL</td>\n",
              "    </tr>\n",
              "    <tr>\n",
              "      <th>2</th>\n",
              "      <td>0.4</td>\n",
              "      <td>0.01182</td>\n",
              "      <td>0.78762</td>\n",
              "      <td>0.00694</td>\n",
              "      <td>Trang</td>\n",
              "      <td>HOTEL</td>\n",
              "    </tr>\n",
              "    <tr>\n",
              "      <th>3</th>\n",
              "      <td>0.4</td>\n",
              "      <td>0.01853</td>\n",
              "      <td>0.74041</td>\n",
              "      <td>0.00444</td>\n",
              "      <td>Jawa Timur</td>\n",
              "      <td>HOTEL</td>\n",
              "    </tr>\n",
              "    <tr>\n",
              "      <th>4</th>\n",
              "      <td>0.4</td>\n",
              "      <td>0.00797</td>\n",
              "      <td>0.63952</td>\n",
              "      <td>0.00444</td>\n",
              "      <td>Chonburi</td>\n",
              "      <td>GUESTHOUSE</td>\n",
              "    </tr>\n",
              "  </tbody>\n",
              "</table>\n",
              "</div>\n",
              "      <button class=\"colab-df-convert\" onclick=\"convertToInteractive('df-08880a43-3001-4dc1-8320-6b439d5745a4')\"\n",
              "              title=\"Convert this dataframe to an interactive table.\"\n",
              "              style=\"display:none;\">\n",
              "        \n",
              "  <svg xmlns=\"http://www.w3.org/2000/svg\" height=\"24px\"viewBox=\"0 0 24 24\"\n",
              "       width=\"24px\">\n",
              "    <path d=\"M0 0h24v24H0V0z\" fill=\"none\"/>\n",
              "    <path d=\"M18.56 5.44l.94 2.06.94-2.06 2.06-.94-2.06-.94-.94-2.06-.94 2.06-2.06.94zm-11 1L8.5 8.5l.94-2.06 2.06-.94-2.06-.94L8.5 2.5l-.94 2.06-2.06.94zm10 10l.94 2.06.94-2.06 2.06-.94-2.06-.94-.94-2.06-.94 2.06-2.06.94z\"/><path d=\"M17.41 7.96l-1.37-1.37c-.4-.4-.92-.59-1.43-.59-.52 0-1.04.2-1.43.59L10.3 9.45l-7.72 7.72c-.78.78-.78 2.05 0 2.83L4 21.41c.39.39.9.59 1.41.59.51 0 1.02-.2 1.41-.59l7.78-7.78 2.81-2.81c.8-.78.8-2.07 0-2.86zM5.41 20L4 18.59l7.72-7.72 1.47 1.35L5.41 20z\"/>\n",
              "  </svg>\n",
              "      </button>\n",
              "      \n",
              "  <style>\n",
              "    .colab-df-container {\n",
              "      display:flex;\n",
              "      flex-wrap:wrap;\n",
              "      gap: 12px;\n",
              "    }\n",
              "\n",
              "    .colab-df-convert {\n",
              "      background-color: #E8F0FE;\n",
              "      border: none;\n",
              "      border-radius: 50%;\n",
              "      cursor: pointer;\n",
              "      display: none;\n",
              "      fill: #1967D2;\n",
              "      height: 32px;\n",
              "      padding: 0 0 0 0;\n",
              "      width: 32px;\n",
              "    }\n",
              "\n",
              "    .colab-df-convert:hover {\n",
              "      background-color: #E2EBFA;\n",
              "      box-shadow: 0px 1px 2px rgba(60, 64, 67, 0.3), 0px 1px 3px 1px rgba(60, 64, 67, 0.15);\n",
              "      fill: #174EA6;\n",
              "    }\n",
              "\n",
              "    [theme=dark] .colab-df-convert {\n",
              "      background-color: #3B4455;\n",
              "      fill: #D2E3FC;\n",
              "    }\n",
              "\n",
              "    [theme=dark] .colab-df-convert:hover {\n",
              "      background-color: #434B5C;\n",
              "      box-shadow: 0px 1px 3px 1px rgba(0, 0, 0, 0.15);\n",
              "      filter: drop-shadow(0px 1px 2px rgba(0, 0, 0, 0.3));\n",
              "      fill: #FFFFFF;\n",
              "    }\n",
              "  </style>\n",
              "\n",
              "      <script>\n",
              "        const buttonEl =\n",
              "          document.querySelector('#df-08880a43-3001-4dc1-8320-6b439d5745a4 button.colab-df-convert');\n",
              "        buttonEl.style.display =\n",
              "          google.colab.kernel.accessAllowed ? 'block' : 'none';\n",
              "\n",
              "        async function convertToInteractive(key) {\n",
              "          const element = document.querySelector('#df-08880a43-3001-4dc1-8320-6b439d5745a4');\n",
              "          const dataTable =\n",
              "            await google.colab.kernel.invokeFunction('convertToInteractive',\n",
              "                                                     [key], {});\n",
              "          if (!dataTable) return;\n",
              "\n",
              "          const docLinkHtml = 'Like what you see? Visit the ' +\n",
              "            '<a target=\"_blank\" href=https://colab.research.google.com/notebooks/data_table.ipynb>data table notebook</a>'\n",
              "            + ' to learn more about interactive tables.';\n",
              "          element.innerHTML = '';\n",
              "          dataTable['output_type'] = 'display_data';\n",
              "          await google.colab.output.renderOutput(dataTable, element);\n",
              "          const docLink = document.createElement('div');\n",
              "          docLink.innerHTML = docLinkHtml;\n",
              "          element.appendChild(docLink);\n",
              "        }\n",
              "      </script>\n",
              "    </div>\n",
              "  </div>\n",
              "  "
            ]
          },
          "metadata": {},
          "execution_count": 71
        }
      ]
    },
    {
      "cell_type": "markdown",
      "source": [
        "# K-Prototype Labeling"
      ],
      "metadata": {
        "id": "AApXRRZG0-y_"
      }
    },
    {
      "cell_type": "code",
      "source": [
        "costs = []\n",
        "n_clusters=[]\n",
        "silhouette_scores = []\n",
        "numerical_variable = [\"next_accom_star_rating\",\"next_selling_price\",\"next_hotel_score\",\"next_room_size_inmeter\"]\n",
        "for i in range (2,8):\n",
        "  categorical_columns = [4,5]\n",
        "  kp = KPrototypes(n_clusters=i, init='Cao', n_init=2, random_state = 42)\n",
        "  clusters = kp.fit_predict(y_final, categorical=categorical_columns)\n",
        "  costs.append(kp.cost_)\n",
        "  silhouette_avg = silhouette_score(y_final[numerical_variable], clusters, metric='euclidean')\n",
        "  silhouette_scores.append(silhouette_avg)\n",
        "  n_clusters.append(i)"
      ],
      "metadata": {
        "id": "vUksNfTWZhD2"
      },
      "execution_count": 78,
      "outputs": []
    },
    {
      "cell_type": "code",
      "source": [
        "#Ploting Cost \n",
        "plt.figure(figsize=(12, 9))\n",
        "plt.plot(n_clusters, costs, marker='o', linestyle='--')\n",
        "plt.xlabel('Number of Clusters')\n",
        "plt.ylabel('K-Prototype Cost')\n",
        "plt.show()\n",
        "\n"
      ],
      "metadata": {
        "id": "EEh1Qlv0pynK",
        "colab": {
          "base_uri": "https://localhost:8080/",
          "height": 773
        },
        "outputId": "d2073f1e-ba06-4815-ecb0-3dc07147640e"
      },
      "execution_count": 79,
      "outputs": [
        {
          "output_type": "display_data",
          "data": {
            "text/plain": [
              "<Figure size 1200x900 with 1 Axes>"
            ],
            "image/png": "[encoded data removed]"
          },
          "metadata": {}
        }
      ]
    },
    {
      "cell_type": "code",
      "source": [
        "#plotting the optimal using sillhouette\n",
        "optimal_n_clusters = n_clusters[np.argmax(silhouette_scores)]\n",
        "\n",
        "print (optimal_n_clusters)\n",
        "\n",
        "\n",
        "\n",
        "\n",
        "#Ploting Cost \n",
        "plt.figure(figsize=(12, 9))\n",
        "plt.plot(n_clusters, silhouette_scores, marker='o', linestyle='--')\n",
        "plt.xlabel('Number of Clusters')\n",
        "plt.ylabel('K-Prototype silhouette_scores')\n",
        "plt.show()\n",
        "\n"
      ],
      "metadata": {
        "colab": {
          "base_uri": "https://localhost:8080/",
          "height": 790
        },
        "id": "A7EUASo6MWwD",
        "outputId": "58e756f4-a4ac-4bea-c2c4-5fee6292ccb2"
      },
      "execution_count": 86,
      "outputs": [
        {
          "output_type": "stream",
          "name": "stdout",
          "text": [
            "2\n"
          ]
        },
        {
          "output_type": "display_data",
          "data": {
            "text/plain": [
              "<Figure size 1200x900 with 1 Axes>"
            ],
            "image/png": "[encoded data removed]"
          },
          "metadata": {}
        }
      ]
    },
    {
      "cell_type": "code",
      "source": [
        "categorical_columns = [4,5]\n",
        "kp = KPrototypes(n_clusters=4, init='Cao', n_init=1, verbose=0, random_state= 42 )\n",
        "clusters = kp.fit_predict(y_final, categorical=categorical_columns)\n"
      ],
      "metadata": {
        "id": "K2rvLJUFqkgF"
      },
      "execution_count": null,
      "outputs": []
    },
    {
      "cell_type": "code",
      "source": [],
      "metadata": {
        "id": "eXCpFqCb4hOs"
      },
      "execution_count": 86,
      "outputs": []
    }
  ]
}