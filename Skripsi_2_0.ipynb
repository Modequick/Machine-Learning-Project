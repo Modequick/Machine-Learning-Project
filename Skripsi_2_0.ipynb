{
  "nbformat": 4,
  "nbformat_minor": 0,
  "metadata": {
    "colab": {
      "provenance": [],
      "authorship_tag": "ABX9TyMz7jbHpsF/H1ybXStzlJun",
      "include_colab_link": true
    },
    "kernelspec": {
      "name": "python3",
      "display_name": "Python 3"
    },
    "language_info": {
      "name": "python"
    }
  },
  "cells": [
    {
      "cell_type": "markdown",
      "metadata": {
        "id": "view-in-github",
        "colab_type": "text"
      },
      "source": [
        "<a href=\"https://colab.research.google.com/github/Modequick/Machine-Learning-Project/blob/main/Skripsi_2_0.ipynb\" target=\"_parent\"><img src=\"https://colab.research.google.com/assets/colab-badge.svg\" alt=\"Open In Colab\"/></a>"
      ]
    },
    {
      "cell_type": "code",
      "execution_count": 242,
      "metadata": {
        "colab": {
          "base_uri": "https://localhost:8080/"
        },
        "id": "If7IxA2Guo1C",
        "outputId": "4d645f09-79ea-426e-ee67-38d8affa35bc"
      },
      "outputs": [
        {
          "output_type": "stream",
          "name": "stdout",
          "text": [
            "Drive already mounted at /content/drive; to attempt to forcibly remount, call drive.mount(\"/content/drive\", force_remount=True).\n"
          ]
        }
      ],
      "source": [
        "from google.colab import drive\n",
        "drive.mount('/content/drive')"
      ]
    },
    {
      "cell_type": "code",
      "source": [
        "!pip install kmodes"
      ],
      "metadata": {
        "colab": {
          "base_uri": "https://localhost:8080/"
        },
        "id": "1mhr9wgKXaof",
        "outputId": "dd780b9e-769b-4e5a-8cd9-697c96ccd0a8"
      },
      "execution_count": 243,
      "outputs": [
        {
          "output_type": "stream",
          "name": "stdout",
          "text": [
            "Looking in indexes: https://pypi.org/simple, https://us-python.pkg.dev/colab-wheels/public/simple/\n",
            "Requirement already satisfied: kmodes in /usr/local/lib/python3.10/dist-packages (0.12.2)\n",
            "Requirement already satisfied: scikit-learn>=0.22.0 in /usr/local/lib/python3.10/dist-packages (from kmodes) (1.2.2)\n",
            "Requirement already satisfied: scipy>=0.13.3 in /usr/local/lib/python3.10/dist-packages (from kmodes) (1.10.1)\n",
            "Requirement already satisfied: joblib>=0.11 in /usr/local/lib/python3.10/dist-packages (from kmodes) (1.2.0)\n",
            "Requirement already satisfied: numpy>=1.10.4 in /usr/local/lib/python3.10/dist-packages (from kmodes) (1.22.4)\n",
            "Requirement already satisfied: threadpoolctl>=2.0.0 in /usr/local/lib/python3.10/dist-packages (from scikit-learn>=0.22.0->kmodes) (3.1.0)\n"
          ]
        }
      ]
    },
    {
      "cell_type": "code",
      "source": [
        "import pandas as pd\n",
        "from sklearn.cluster import KMeans\n",
        "import matplotlib.pyplot as plt\n",
        "import numpy as np\n",
        "from statsmodels.stats.outliers_influence import variance_inflation_factor\n",
        "from sklearn.ensemble import RandomForestClassifier\n",
        "from sklearn.model_selection import train_test_split\n",
        "from sklearn.model_selection import GridSearchCV, cross_val_score\n",
        "from sklearn.ensemble import GradientBoostingClassifier\n",
        "from sklearn.metrics import accuracy_score\n",
        "\n",
        "\n",
        "\n",
        "#new\n",
        "from kmodes.kprototypes import KPrototypes\n",
        "from sklearn.metrics import silhouette_score\n",
        "import scipy.stats as stats\n",
        "from xgboost import XGBClassifier\n",
        "\n",
        "\n",
        "\n",
        "\n",
        "np.seterr(all='ignore')"
      ],
      "metadata": {
        "id": "afVWRK4UuuYZ",
        "colab": {
          "base_uri": "https://localhost:8080/"
        },
        "outputId": "aafc9838-339e-4b23-ed5b-cf29317c8dbb"
      },
      "execution_count": 287,
      "outputs": [
        {
          "output_type": "execute_result",
          "data": {
            "text/plain": [
              "{'divide': 'ignore', 'over': 'ignore', 'under': 'ignore', 'invalid': 'ignore'}"
            ]
          },
          "metadata": {},
          "execution_count": 287
        }
      ]
    },
    {
      "cell_type": "code",
      "source": [
        "dataset_df = pd.read_csv(\"/content/drive/MyDrive/Skripsi/Change_Accom_Behavior_Hashed 2.csv\")\n",
        "\n",
        "df = dataset_df\n",
        "dataset_df.head()"
      ],
      "metadata": {
        "colab": {
          "base_uri": "https://localhost:8080/",
          "height": 422
        },
        "id": "M8QOXbp3uuyN",
        "outputId": "cb73a3f3-dbe8-47b3-d9b5-f1310179d66d"
      },
      "execution_count": 245,
      "outputs": [
        {
          "output_type": "stream",
          "name": "stderr",
          "text": [
            "<ipython-input-245-1791d0b64d6a>:1: DtypeWarning: Columns (29) have mixed types. Specify dtype option on import or set low_memory=False.\n",
            "  dataset_df = pd.read_csv(\"/content/drive/MyDrive/Skripsi/Change_Accom_Behavior_Hashed 2.csv\")\n"
          ]
        },
        {
          "output_type": "execute_result",
          "data": {
            "text/plain": [
              "                     profile_id                      order_id  \\\n",
              "0  ET0LCvUlRKbtFLscAFkCi/WWLLw=  HCcNAiyXSymMGRQkSqzAAtFlMxc=   \n",
              "1  exoQ3kUraPU4wFlzPkk5+ykBwTs=  sRDgi4iW3och3ZkFvI/7aW1P3xY=   \n",
              "2  9GuIvtbdJFVdHFM/0x1p345wCwM=  xlSmSKB3tahvfYZ1DEq0Zu3nek0=   \n",
              "3  QXB7Zobjy0aW6Q8SYt8DQD7fSrQ=  3d4xj1dEU8Q1tSY2APAxmcjlwFw=   \n",
              "4  UVEV2qykZPJQ/kfd20M2/86qKrM=  Qnf6/o5tErU5iMEiwzkWhFfiIjc=   \n",
              "\n",
              "                       accom_id                       room_id  \\\n",
              "0  Uz+MOvMFoXZMCkmixPFGgpTm9lU=  L6H56k4Rou+RiVAeX2QFwrv6xwY=   \n",
              "1  PMJIaKNhV02UjxNiev3Ltce2kNQ=  h10O5X/RJjDGNa+4oSVmxZBhplQ=   \n",
              "2  Y4UBm0bDkNkWK2JWpzmbJTlQLqc=  lqSNqRT0DKCxUC60BE3jFG5BwNQ=   \n",
              "3  TxJe7ItZLbtw1K8Aqlem51jNvaE=  P+HWuys1viVCcm4/aqWuEJ91tb0=   \n",
              "4  kneU7W4rjhdyr4nKoVOP17bfaVk=  wmCmvcyYOxvDtr5DADgjj48ClEs=   \n",
              "\n",
              "               accom_chain_name  selling_price_idr        gbv_idr  coupon_idr  \\\n",
              "0                           NaN      524927.868189  570579.672607           0   \n",
              "1  iCwYKECg554FmWkZKOS6O7I8nXA=      853068.342720  721837.932454           0   \n",
              "2                           NaN      192613.180745  188957.123586           0   \n",
              "3  cCnyuGlSTM26W1cOgCNhFiEe+R8=      300377.277202  404480.886678           0   \n",
              "4  HIwm7tZAAnF5sNurgy85MraVTB0=      225738.474167  231019.601478           0   \n",
              "\n",
              "  sales_date_utc7              sales_timestamp  ...  next_category_1  \\\n",
              "0      2018-09-22  2018-09-22 09:35:41.027 UTC  ...              NaN   \n",
              "1      2018-09-22  2018-09-22 03:16:16.417 UTC  ...              NaN   \n",
              "2      2018-09-22  2018-09-22 01:28:14.882 UTC  ...              NaN   \n",
              "3      2018-09-22  2018-09-22 22:09:32.201 UTC  ...              NaN   \n",
              "4      2018-09-22  2018-09-22 15:08:32.967 UTC  ...              NaN   \n",
              "\n",
              "  next_category_2 next_category_3 next_latest_sentiment_analysis  \\\n",
              "0             NaN             NaN                            NaN   \n",
              "1             NaN             NaN                            NaN   \n",
              "2             NaN             NaN                            NaN   \n",
              "3             NaN             NaN                            NaN   \n",
              "4             NaN             NaN                            NaN   \n",
              "\n",
              "   next_room_type                   next_bed_type  next_room_size_inmeter  \\\n",
              "0          DELUXE                  ONE_DOUBLE_BED                     NaN   \n",
              "1             NaN                            KING                    25.0   \n",
              "2             NaN                  ONE_DOUBLE_BED                    18.5   \n",
              "3             NaN  ONE_DOUBLE_BED_OR_TWO_SINGLE_B                    26.0   \n",
              "4          DOUBLE                  ONE_DOUBLE_BED                    16.0   \n",
              "\n",
              "  count_buy_that_day count_buy_that_month count_buy_that_next_day  \n",
              "0                  2                    7                       1  \n",
              "1                  2                    4                       1  \n",
              "2                  2                    4                       1  \n",
              "3                  2                    4                       1  \n",
              "4                  2                    9                       1  \n",
              "\n",
              "[5 rows x 58 columns]"
            ],
            "text/html": [
              "\n",
              "  <div id=\"df-9a5fa2a2-f460-4a6b-b00e-d8a9741165e4\">\n",
              "    <div class=\"colab-df-container\">\n",
              "      <div>\n",
              "<style scoped>\n",
              "    .dataframe tbody tr th:only-of-type {\n",
              "        vertical-align: middle;\n",
              "    }\n",
              "\n",
              "    .dataframe tbody tr th {\n",
              "        vertical-align: top;\n",
              "    }\n",
              "\n",
              "    .dataframe thead th {\n",
              "        text-align: right;\n",
              "    }\n",
              "</style>\n",
              "<table border=\"1\" class=\"dataframe\">\n",
              "  <thead>\n",
              "    <tr style=\"text-align: right;\">\n",
              "      <th></th>\n",
              "      <th>profile_id</th>\n",
              "      <th>order_id</th>\n",
              "      <th>accom_id</th>\n",
              "      <th>room_id</th>\n",
              "      <th>accom_chain_name</th>\n",
              "      <th>selling_price_idr</th>\n",
              "      <th>gbv_idr</th>\n",
              "      <th>coupon_idr</th>\n",
              "      <th>sales_date_utc7</th>\n",
              "      <th>sales_timestamp</th>\n",
              "      <th>...</th>\n",
              "      <th>next_category_1</th>\n",
              "      <th>next_category_2</th>\n",
              "      <th>next_category_3</th>\n",
              "      <th>next_latest_sentiment_analysis</th>\n",
              "      <th>next_room_type</th>\n",
              "      <th>next_bed_type</th>\n",
              "      <th>next_room_size_inmeter</th>\n",
              "      <th>count_buy_that_day</th>\n",
              "      <th>count_buy_that_month</th>\n",
              "      <th>count_buy_that_next_day</th>\n",
              "    </tr>\n",
              "  </thead>\n",
              "  <tbody>\n",
              "    <tr>\n",
              "      <th>0</th>\n",
              "      <td>ET0LCvUlRKbtFLscAFkCi/WWLLw=</td>\n",
              "      <td>HCcNAiyXSymMGRQkSqzAAtFlMxc=</td>\n",
              "      <td>Uz+MOvMFoXZMCkmixPFGgpTm9lU=</td>\n",
              "      <td>L6H56k4Rou+RiVAeX2QFwrv6xwY=</td>\n",
              "      <td>NaN</td>\n",
              "      <td>524927.868189</td>\n",
              "      <td>570579.672607</td>\n",
              "      <td>0</td>\n",
              "      <td>2018-09-22</td>\n",
              "      <td>2018-09-22 09:35:41.027 UTC</td>\n",
              "      <td>...</td>\n",
              "      <td>NaN</td>\n",
              "      <td>NaN</td>\n",
              "      <td>NaN</td>\n",
              "      <td>NaN</td>\n",
              "      <td>DELUXE</td>\n",
              "      <td>ONE_DOUBLE_BED</td>\n",
              "      <td>NaN</td>\n",
              "      <td>2</td>\n",
              "      <td>7</td>\n",
              "      <td>1</td>\n",
              "    </tr>\n",
              "    <tr>\n",
              "      <th>1</th>\n",
              "      <td>exoQ3kUraPU4wFlzPkk5+ykBwTs=</td>\n",
              "      <td>sRDgi4iW3och3ZkFvI/7aW1P3xY=</td>\n",
              "      <td>PMJIaKNhV02UjxNiev3Ltce2kNQ=</td>\n",
              "      <td>h10O5X/RJjDGNa+4oSVmxZBhplQ=</td>\n",
              "      <td>iCwYKECg554FmWkZKOS6O7I8nXA=</td>\n",
              "      <td>853068.342720</td>\n",
              "      <td>721837.932454</td>\n",
              "      <td>0</td>\n",
              "      <td>2018-09-22</td>\n",
              "      <td>2018-09-22 03:16:16.417 UTC</td>\n",
              "      <td>...</td>\n",
              "      <td>NaN</td>\n",
              "      <td>NaN</td>\n",
              "      <td>NaN</td>\n",
              "      <td>NaN</td>\n",
              "      <td>NaN</td>\n",
              "      <td>KING</td>\n",
              "      <td>25.0</td>\n",
              "      <td>2</td>\n",
              "      <td>4</td>\n",
              "      <td>1</td>\n",
              "    </tr>\n",
              "    <tr>\n",
              "      <th>2</th>\n",
              "      <td>9GuIvtbdJFVdHFM/0x1p345wCwM=</td>\n",
              "      <td>xlSmSKB3tahvfYZ1DEq0Zu3nek0=</td>\n",
              "      <td>Y4UBm0bDkNkWK2JWpzmbJTlQLqc=</td>\n",
              "      <td>lqSNqRT0DKCxUC60BE3jFG5BwNQ=</td>\n",
              "      <td>NaN</td>\n",
              "      <td>192613.180745</td>\n",
              "      <td>188957.123586</td>\n",
              "      <td>0</td>\n",
              "      <td>2018-09-22</td>\n",
              "      <td>2018-09-22 01:28:14.882 UTC</td>\n",
              "      <td>...</td>\n",
              "      <td>NaN</td>\n",
              "      <td>NaN</td>\n",
              "      <td>NaN</td>\n",
              "      <td>NaN</td>\n",
              "      <td>NaN</td>\n",
              "      <td>ONE_DOUBLE_BED</td>\n",
              "      <td>18.5</td>\n",
              "      <td>2</td>\n",
              "      <td>4</td>\n",
              "      <td>1</td>\n",
              "    </tr>\n",
              "    <tr>\n",
              "      <th>3</th>\n",
              "      <td>QXB7Zobjy0aW6Q8SYt8DQD7fSrQ=</td>\n",
              "      <td>3d4xj1dEU8Q1tSY2APAxmcjlwFw=</td>\n",
              "      <td>TxJe7ItZLbtw1K8Aqlem51jNvaE=</td>\n",
              "      <td>P+HWuys1viVCcm4/aqWuEJ91tb0=</td>\n",
              "      <td>cCnyuGlSTM26W1cOgCNhFiEe+R8=</td>\n",
              "      <td>300377.277202</td>\n",
              "      <td>404480.886678</td>\n",
              "      <td>0</td>\n",
              "      <td>2018-09-22</td>\n",
              "      <td>2018-09-22 22:09:32.201 UTC</td>\n",
              "      <td>...</td>\n",
              "      <td>NaN</td>\n",
              "      <td>NaN</td>\n",
              "      <td>NaN</td>\n",
              "      <td>NaN</td>\n",
              "      <td>NaN</td>\n",
              "      <td>ONE_DOUBLE_BED_OR_TWO_SINGLE_B</td>\n",
              "      <td>26.0</td>\n",
              "      <td>2</td>\n",
              "      <td>4</td>\n",
              "      <td>1</td>\n",
              "    </tr>\n",
              "    <tr>\n",
              "      <th>4</th>\n",
              "      <td>UVEV2qykZPJQ/kfd20M2/86qKrM=</td>\n",
              "      <td>Qnf6/o5tErU5iMEiwzkWhFfiIjc=</td>\n",
              "      <td>kneU7W4rjhdyr4nKoVOP17bfaVk=</td>\n",
              "      <td>wmCmvcyYOxvDtr5DADgjj48ClEs=</td>\n",
              "      <td>HIwm7tZAAnF5sNurgy85MraVTB0=</td>\n",
              "      <td>225738.474167</td>\n",
              "      <td>231019.601478</td>\n",
              "      <td>0</td>\n",
              "      <td>2018-09-22</td>\n",
              "      <td>2018-09-22 15:08:32.967 UTC</td>\n",
              "      <td>...</td>\n",
              "      <td>NaN</td>\n",
              "      <td>NaN</td>\n",
              "      <td>NaN</td>\n",
              "      <td>NaN</td>\n",
              "      <td>DOUBLE</td>\n",
              "      <td>ONE_DOUBLE_BED</td>\n",
              "      <td>16.0</td>\n",
              "      <td>2</td>\n",
              "      <td>9</td>\n",
              "      <td>1</td>\n",
              "    </tr>\n",
              "  </tbody>\n",
              "</table>\n",
              "<p>5 rows × 58 columns</p>\n",
              "</div>\n",
              "      <button class=\"colab-df-convert\" onclick=\"convertToInteractive('df-9a5fa2a2-f460-4a6b-b00e-d8a9741165e4')\"\n",
              "              title=\"Convert this dataframe to an interactive table.\"\n",
              "              style=\"display:none;\">\n",
              "        \n",
              "  <svg xmlns=\"http://www.w3.org/2000/svg\" height=\"24px\"viewBox=\"0 0 24 24\"\n",
              "       width=\"24px\">\n",
              "    <path d=\"M0 0h24v24H0V0z\" fill=\"none\"/>\n",
              "    <path d=\"M18.56 5.44l.94 2.06.94-2.06 2.06-.94-2.06-.94-.94-2.06-.94 2.06-2.06.94zm-11 1L8.5 8.5l.94-2.06 2.06-.94-2.06-.94L8.5 2.5l-.94 2.06-2.06.94zm10 10l.94 2.06.94-2.06 2.06-.94-2.06-.94-.94-2.06-.94 2.06-2.06.94z\"/><path d=\"M17.41 7.96l-1.37-1.37c-.4-.4-.92-.59-1.43-.59-.52 0-1.04.2-1.43.59L10.3 9.45l-7.72 7.72c-.78.78-.78 2.05 0 2.83L4 21.41c.39.39.9.59 1.41.59.51 0 1.02-.2 1.41-.59l7.78-7.78 2.81-2.81c.8-.78.8-2.07 0-2.86zM5.41 20L4 18.59l7.72-7.72 1.47 1.35L5.41 20z\"/>\n",
              "  </svg>\n",
              "      </button>\n",
              "      \n",
              "  <style>\n",
              "    .colab-df-container {\n",
              "      display:flex;\n",
              "      flex-wrap:wrap;\n",
              "      gap: 12px;\n",
              "    }\n",
              "\n",
              "    .colab-df-convert {\n",
              "      background-color: #E8F0FE;\n",
              "      border: none;\n",
              "      border-radius: 50%;\n",
              "      cursor: pointer;\n",
              "      display: none;\n",
              "      fill: #1967D2;\n",
              "      height: 32px;\n",
              "      padding: 0 0 0 0;\n",
              "      width: 32px;\n",
              "    }\n",
              "\n",
              "    .colab-df-convert:hover {\n",
              "      background-color: #E2EBFA;\n",
              "      box-shadow: 0px 1px 2px rgba(60, 64, 67, 0.3), 0px 1px 3px 1px rgba(60, 64, 67, 0.15);\n",
              "      fill: #174EA6;\n",
              "    }\n",
              "\n",
              "    [theme=dark] .colab-df-convert {\n",
              "      background-color: #3B4455;\n",
              "      fill: #D2E3FC;\n",
              "    }\n",
              "\n",
              "    [theme=dark] .colab-df-convert:hover {\n",
              "      background-color: #434B5C;\n",
              "      box-shadow: 0px 1px 3px 1px rgba(0, 0, 0, 0.15);\n",
              "      filter: drop-shadow(0px 1px 2px rgba(0, 0, 0, 0.3));\n",
              "      fill: #FFFFFF;\n",
              "    }\n",
              "  </style>\n",
              "\n",
              "      <script>\n",
              "        const buttonEl =\n",
              "          document.querySelector('#df-9a5fa2a2-f460-4a6b-b00e-d8a9741165e4 button.colab-df-convert');\n",
              "        buttonEl.style.display =\n",
              "          google.colab.kernel.accessAllowed ? 'block' : 'none';\n",
              "\n",
              "        async function convertToInteractive(key) {\n",
              "          const element = document.querySelector('#df-9a5fa2a2-f460-4a6b-b00e-d8a9741165e4');\n",
              "          const dataTable =\n",
              "            await google.colab.kernel.invokeFunction('convertToInteractive',\n",
              "                                                     [key], {});\n",
              "          if (!dataTable) return;\n",
              "\n",
              "          const docLinkHtml = 'Like what you see? Visit the ' +\n",
              "            '<a target=\"_blank\" href=https://colab.research.google.com/notebooks/data_table.ipynb>data table notebook</a>'\n",
              "            + ' to learn more about interactive tables.';\n",
              "          element.innerHTML = '';\n",
              "          dataTable['output_type'] = 'display_data';\n",
              "          await google.colab.output.renderOutput(dataTable, element);\n",
              "          const docLink = document.createElement('div');\n",
              "          docLink.innerHTML = docLinkHtml;\n",
              "          element.appendChild(docLink);\n",
              "        }\n",
              "      </script>\n",
              "    </div>\n",
              "  </div>\n",
              "  "
            ]
          },
          "metadata": {},
          "execution_count": 245
        }
      ]
    },
    {
      "cell_type": "code",
      "source": [
        "df[\"room_size_inmeter\"].fillna(df[\"room_size_inmeter\"].mean(),inplace = True)\n",
        "df[\"next_room_size_inmeter\"].fillna(df[\"next_room_size_inmeter\"].mean(), inplace = True)\n",
        "df[\"bed_type\"].fillna(df[\"bed_type\"].mode().iloc[0], inplace = True)\n",
        "df[\"next_bed_type\"].fillna(df[\"next_bed_type\"].mode().iloc[0], inplace = True)\n",
        "df[\"hotel_score\"].fillna(df[\"hotel_score\"].mean(),inplace = True)\n",
        "df[\"next_hotel_score\"].fillna(df[\"next_hotel_score\"].mean(),inplace = True)"
      ],
      "metadata": {
        "id": "Yq6L-IHZwPPy"
      },
      "execution_count": 246,
      "outputs": []
    },
    {
      "cell_type": "markdown",
      "source": [
        "## Data Cleaning"
      ],
      "metadata": {
        "id": "mWy9K-bevYgz"
      }
    },
    {
      "cell_type": "code",
      "source": [
        "missing_value = dataset_df.isnull().sum() *100 / len(dataset_df) \n",
        "\n",
        "df_missing_value = pd.DataFrame( {\"missing_count\" : dataset_df.isnull().sum(),\n",
        "             \"percent_missing\" : missing_value })\n",
        "print(df_missing_value.sort_values(by = \"missing_count\",ascending=False).head(20))\n",
        "print(\"length of columns are : \", len(dataset_df.columns))"
      ],
      "metadata": {
        "colab": {
          "base_uri": "https://localhost:8080/"
        },
        "id": "JLTqnKROvNLr",
        "outputId": "8fa0516c-bd82-4f22-b785-a4f9f1700876"
      },
      "execution_count": 247,
      "outputs": [
        {
          "output_type": "stream",
          "name": "stdout",
          "text": [
            "                                missing_count  percent_missing\n",
            "customer_type                           18970       100.000000\n",
            "next_latest_sentiment_analysis          18970       100.000000\n",
            "latest_sentiment_analysis               18969        99.994729\n",
            "next_category_3                         18946        99.873484\n",
            "next_category_0                         18899        99.625725\n",
            "next_category_1                         18899        99.625725\n",
            "next_category_2                         18899        99.625725\n",
            "category_3                              18854        99.388508\n",
            "category_2                              18712        98.639958\n",
            "category_1                              18712        98.639958\n",
            "category_0                              18711        98.634686\n",
            "pid_score                               14678        77.374802\n",
            "next_pid_score                          14467        76.262520\n",
            "room_type                               13324        70.237217\n",
            "next_room_type                          12949        68.260411\n",
            "accom_chain_name                         6849        36.104375\n",
            "next_accom_chain_name                    6537        34.459673\n",
            "room_id                                   390         2.055878\n",
            "accom_type                                  2         0.010543\n",
            "next_accom_star_rating                      0         0.000000\n",
            "length of columns are :  58\n"
          ]
        }
      ]
    },
    {
      "cell_type": "code",
      "source": [
        "#selecting not from the list \n",
        "df_clean = dataset_df.loc[:, ~dataset_df.columns.isin(df_missing_value.sort_values(by = \"missing_count\",ascending=False).head(17).index)]\n",
        "df_clean = df_clean.dropna()\n",
        "\n",
        "\n",
        "df_clean = df_clean.loc[:, ~df_clean.columns.isin([\"count_buy_that_day\",\n",
        "                                                   \"count_buy_that_month\",\n",
        "                                                   \"count_buy_that_next_day\",\n",
        "                                                   \"room_id\",\n",
        "                                                   \"order_id\",\n",
        "                                                   \"profile_id\",\n",
        "                                                   \"interface\",\n",
        "                                                   \"last_issued_date\",\n",
        "                                                   \"next_bed_type\",\n",
        "                                                   \"month\",\n",
        "                                                   \"next_time_stamp\",\n",
        "                                                   \"sales_timestamp\",\n",
        "                                                   \"next_is_use_coupon\",\n",
        "                                                   \"next_num_rooms\",\n",
        "                                                   \"next_gbv_idr\",\n",
        "                                                   \"accom_id\" ,\n",
        "                                                   \"check_in_date\",\n",
        "                                                   \"check_out_date\",\n",
        "                                                   \"sales_date_utc7\",\n",
        "                                                   \"next_check_in_date\",\n",
        "                                                   \"next_check_out_date\",\n",
        "                                                   \"next_sales_date\",\n",
        "                                                   \"next_is_use_coupon\",\n",
        "                                                   \"is_use_coupon\",\n",
        "                                                   \"next_coupon_idr\",\n",
        "                                                   \"coupon_idr\"])]\n",
        "\n"
      ],
      "metadata": {
        "id": "UdKJeHGKw2zJ"
      },
      "execution_count": 248,
      "outputs": []
    },
    {
      "cell_type": "code",
      "source": [
        "df = df_clean \n",
        "missing_value = df_clean.isnull().sum() *100 / len(dataset_df) \n",
        "df_missing_value = pd.DataFrame( {\"missing_count\" : df_clean.isnull().sum(),\n",
        "             \"percent_missing\" : missing_value} )\n",
        "print(\"length columns : \",len(df_clean.columns)  )\n",
        "print(df_missing_value.sort_values(by = \"missing_count\",ascending=False))"
      ],
      "metadata": {
        "id": "5uwOQNpGym9e",
        "colab": {
          "base_uri": "https://localhost:8080/"
        },
        "outputId": "47e1e728-5128-44d0-a121-abd6822d39e1"
      },
      "execution_count": 249,
      "outputs": [
        {
          "output_type": "stream",
          "name": "stdout",
          "text": [
            "length columns :  16\n",
            "                        missing_count  percent_missing\n",
            "selling_price_idr                   0              0.0\n",
            "gbv_idr                             0              0.0\n",
            "accom_region                        0              0.0\n",
            "accom_star_rating                   0              0.0\n",
            "num_rooms                           0              0.0\n",
            "accom_type                          0              0.0\n",
            "bed_type                            0              0.0\n",
            "room_size_inmeter                   0              0.0\n",
            "hotel_score                         0              0.0\n",
            "next_accom_id                       0              0.0\n",
            "next_accom_region                   0              0.0\n",
            "next_accom_star_rating              0              0.0\n",
            "next_accom_type                     0              0.0\n",
            "next_selling_price                  0              0.0\n",
            "next_hotel_score                    0              0.0\n",
            "next_room_size_inmeter              0              0.0\n"
          ]
        }
      ]
    },
    {
      "cell_type": "code",
      "source": [
        "#adding index so to make it easier to merge \n",
        "df[\"Index\"] = range(1,len(df)+1)"
      ],
      "metadata": {
        "id": "dhGZMIXUUpP6"
      },
      "execution_count": 250,
      "outputs": []
    },
    {
      "cell_type": "code",
      "source": [
        "#defining independent and dependent\n",
        "x =[\"selling_price_idr\",\n",
        "    \"gbv_idr\",\n",
        "    \"accom_region\",\n",
        "    \"accom_star_rating\",\n",
        "    \"num_rooms\",\n",
        "    \"accom_type\",\n",
        "    \"bed_type\",\n",
        "    \"room_size_inmeter\",\n",
        "    \"hotel_score\",\n",
        "    \"next_accom_id\"\n",
        "    ]\n",
        "y =[\"next_accom_id\",\n",
        "    \"next_accom_region\",\n",
        "    \"next_accom_star_rating\",\n",
        "    \"next_accom_type\",\n",
        "    \"next_selling_price\",\n",
        "    \"next_hotel_score\",\n",
        "    \"next_room_size_inmeter\"\n",
        "    ]\n",
        "\n",
        "\n",
        "\n",
        "y_quantitative = [\"next_accom_star_rating\",\"next_selling_price\",\"next_hotel_score\",\"next_room_size_inmeter\"]\n",
        "y_qualitative  = [\"next_accom_region\",\"next_accom_type\"]    \n",
        "\n"
      ],
      "metadata": {
        "id": "CudMWnViVQcB"
      },
      "execution_count": 251,
      "outputs": []
    },
    {
      "cell_type": "code",
      "source": [
        "df[y][\"next_accom_id\"].nunique()"
      ],
      "metadata": {
        "colab": {
          "base_uri": "https://localhost:8080/"
        },
        "id": "JZTSeI9-4nx2",
        "outputId": "436f6c25-3852-4543-d468-5638661c77c0"
      },
      "execution_count": 252,
      "outputs": [
        {
          "output_type": "execute_result",
          "data": {
            "text/plain": [
              "7363"
            ]
          },
          "metadata": {},
          "execution_count": 252
        }
      ]
    },
    {
      "cell_type": "markdown",
      "source": [
        "### Removing Outliers"
      ],
      "metadata": {
        "id": "VT4usQlO2QlA"
      }
    },
    {
      "cell_type": "code",
      "source": [
        "#Removing Outliers \n",
        "def remove_outliers(df, cols):\n",
        "    Q1 = df[cols].quantile(0.25)\n",
        "    Q3 = df[cols].quantile(0.75)\n",
        "    IQR = Q3 - Q1\n",
        "    lower_bound = Q1 - 1.5*IQR\n",
        "    upper_bound = Q3 + 1.5*IQR\n",
        "    return df[~((df[cols] < lower_bound) | (df[cols] > upper_bound)).any(axis=1)]\n",
        "\n",
        "# list of columns to remove outliers from\n",
        "# remove outliers from selected columns\n",
        "y_cleaned = remove_outliers(df[y], y_quantitative)\n",
        "y = y_cleaned\n",
        "\n"
      ],
      "metadata": {
        "id": "A5IsfFta0Gkq"
      },
      "execution_count": 253,
      "outputs": []
    },
    {
      "cell_type": "markdown",
      "source": [
        "###Group all accom"
      ],
      "metadata": {
        "id": "f3TwMKob2T0E"
      }
    },
    {
      "cell_type": "code",
      "source": [
        "y_grouped = y.groupby(by = [\"next_accom_id\",\"next_accom_region\",\"next_accom_type\"],as_index = False)[\"next_accom_star_rating\",\"next_selling_price\",\"next_hotel_score\",\"next_room_size_inmeter\"].mean()\n",
        "y = y_grouped.iloc[:,1:]\n",
        "y.head()"
      ],
      "metadata": {
        "colab": {
          "base_uri": "https://localhost:8080/",
          "height": 242
        },
        "id": "xtdTc2doVpeL",
        "outputId": "b5ee2e99-976e-4318-cbae-ef8a0e7d4b14"
      },
      "execution_count": 254,
      "outputs": [
        {
          "output_type": "stream",
          "name": "stderr",
          "text": [
            "<ipython-input-254-ca35bd5d987e>:1: FutureWarning: Indexing with multiple keys (implicitly converted to a tuple of keys) will be deprecated, use a list instead.\n",
            "  y_grouped = y.groupby(by = [\"next_accom_id\",\"next_accom_region\",\"next_accom_type\"],as_index = False)[\"next_accom_star_rating\",\"next_selling_price\",\"next_hotel_score\",\"next_room_size_inmeter\"].mean()\n"
          ]
        },
        {
          "output_type": "execute_result",
          "data": {
            "text/plain": [
              "  next_accom_region next_accom_type  next_accom_star_rating  \\\n",
              "0        Jawa Timur        HOMESTAY                     1.0   \n",
              "1        Jawa Barat           HOTEL                     2.0   \n",
              "2             Trang           HOTEL                     2.0   \n",
              "3        Jawa Timur           HOTEL                     2.0   \n",
              "4          Chonburi      GUESTHOUSE                     2.0   \n",
              "\n",
              "   next_selling_price  next_hotel_score  next_room_size_inmeter  \n",
              "0       896201.625996          8.434579                12.00000  \n",
              "1       513298.441428          8.420212                16.00000  \n",
              "2       294486.253722          8.831921                24.99785  \n",
              "3       437789.420298          8.572257                16.00000  \n",
              "4       212348.750150          8.017347                16.00000  "
            ],
            "text/html": [
              "\n",
              "  <div id=\"df-905f2991-9b50-46cc-8ce3-203d3463b956\">\n",
              "    <div class=\"colab-df-container\">\n",
              "      <div>\n",
              "<style scoped>\n",
              "    .dataframe tbody tr th:only-of-type {\n",
              "        vertical-align: middle;\n",
              "    }\n",
              "\n",
              "    .dataframe tbody tr th {\n",
              "        vertical-align: top;\n",
              "    }\n",
              "\n",
              "    .dataframe thead th {\n",
              "        text-align: right;\n",
              "    }\n",
              "</style>\n",
              "<table border=\"1\" class=\"dataframe\">\n",
              "  <thead>\n",
              "    <tr style=\"text-align: right;\">\n",
              "      <th></th>\n",
              "      <th>next_accom_region</th>\n",
              "      <th>next_accom_type</th>\n",
              "      <th>next_accom_star_rating</th>\n",
              "      <th>next_selling_price</th>\n",
              "      <th>next_hotel_score</th>\n",
              "      <th>next_room_size_inmeter</th>\n",
              "    </tr>\n",
              "  </thead>\n",
              "  <tbody>\n",
              "    <tr>\n",
              "      <th>0</th>\n",
              "      <td>Jawa Timur</td>\n",
              "      <td>HOMESTAY</td>\n",
              "      <td>1.0</td>\n",
              "      <td>896201.625996</td>\n",
              "      <td>8.434579</td>\n",
              "      <td>12.00000</td>\n",
              "    </tr>\n",
              "    <tr>\n",
              "      <th>1</th>\n",
              "      <td>Jawa Barat</td>\n",
              "      <td>HOTEL</td>\n",
              "      <td>2.0</td>\n",
              "      <td>513298.441428</td>\n",
              "      <td>8.420212</td>\n",
              "      <td>16.00000</td>\n",
              "    </tr>\n",
              "    <tr>\n",
              "      <th>2</th>\n",
              "      <td>Trang</td>\n",
              "      <td>HOTEL</td>\n",
              "      <td>2.0</td>\n",
              "      <td>294486.253722</td>\n",
              "      <td>8.831921</td>\n",
              "      <td>24.99785</td>\n",
              "    </tr>\n",
              "    <tr>\n",
              "      <th>3</th>\n",
              "      <td>Jawa Timur</td>\n",
              "      <td>HOTEL</td>\n",
              "      <td>2.0</td>\n",
              "      <td>437789.420298</td>\n",
              "      <td>8.572257</td>\n",
              "      <td>16.00000</td>\n",
              "    </tr>\n",
              "    <tr>\n",
              "      <th>4</th>\n",
              "      <td>Chonburi</td>\n",
              "      <td>GUESTHOUSE</td>\n",
              "      <td>2.0</td>\n",
              "      <td>212348.750150</td>\n",
              "      <td>8.017347</td>\n",
              "      <td>16.00000</td>\n",
              "    </tr>\n",
              "  </tbody>\n",
              "</table>\n",
              "</div>\n",
              "      <button class=\"colab-df-convert\" onclick=\"convertToInteractive('df-905f2991-9b50-46cc-8ce3-203d3463b956')\"\n",
              "              title=\"Convert this dataframe to an interactive table.\"\n",
              "              style=\"display:none;\">\n",
              "        \n",
              "  <svg xmlns=\"http://www.w3.org/2000/svg\" height=\"24px\"viewBox=\"0 0 24 24\"\n",
              "       width=\"24px\">\n",
              "    <path d=\"M0 0h24v24H0V0z\" fill=\"none\"/>\n",
              "    <path d=\"M18.56 5.44l.94 2.06.94-2.06 2.06-.94-2.06-.94-.94-2.06-.94 2.06-2.06.94zm-11 1L8.5 8.5l.94-2.06 2.06-.94-2.06-.94L8.5 2.5l-.94 2.06-2.06.94zm10 10l.94 2.06.94-2.06 2.06-.94-2.06-.94-.94-2.06-.94 2.06-2.06.94z\"/><path d=\"M17.41 7.96l-1.37-1.37c-.4-.4-.92-.59-1.43-.59-.52 0-1.04.2-1.43.59L10.3 9.45l-7.72 7.72c-.78.78-.78 2.05 0 2.83L4 21.41c.39.39.9.59 1.41.59.51 0 1.02-.2 1.41-.59l7.78-7.78 2.81-2.81c.8-.78.8-2.07 0-2.86zM5.41 20L4 18.59l7.72-7.72 1.47 1.35L5.41 20z\"/>\n",
              "  </svg>\n",
              "      </button>\n",
              "      \n",
              "  <style>\n",
              "    .colab-df-container {\n",
              "      display:flex;\n",
              "      flex-wrap:wrap;\n",
              "      gap: 12px;\n",
              "    }\n",
              "\n",
              "    .colab-df-convert {\n",
              "      background-color: #E8F0FE;\n",
              "      border: none;\n",
              "      border-radius: 50%;\n",
              "      cursor: pointer;\n",
              "      display: none;\n",
              "      fill: #1967D2;\n",
              "      height: 32px;\n",
              "      padding: 0 0 0 0;\n",
              "      width: 32px;\n",
              "    }\n",
              "\n",
              "    .colab-df-convert:hover {\n",
              "      background-color: #E2EBFA;\n",
              "      box-shadow: 0px 1px 2px rgba(60, 64, 67, 0.3), 0px 1px 3px 1px rgba(60, 64, 67, 0.15);\n",
              "      fill: #174EA6;\n",
              "    }\n",
              "\n",
              "    [theme=dark] .colab-df-convert {\n",
              "      background-color: #3B4455;\n",
              "      fill: #D2E3FC;\n",
              "    }\n",
              "\n",
              "    [theme=dark] .colab-df-convert:hover {\n",
              "      background-color: #434B5C;\n",
              "      box-shadow: 0px 1px 3px 1px rgba(0, 0, 0, 0.15);\n",
              "      filter: drop-shadow(0px 1px 2px rgba(0, 0, 0, 0.3));\n",
              "      fill: #FFFFFF;\n",
              "    }\n",
              "  </style>\n",
              "\n",
              "      <script>\n",
              "        const buttonEl =\n",
              "          document.querySelector('#df-905f2991-9b50-46cc-8ce3-203d3463b956 button.colab-df-convert');\n",
              "        buttonEl.style.display =\n",
              "          google.colab.kernel.accessAllowed ? 'block' : 'none';\n",
              "\n",
              "        async function convertToInteractive(key) {\n",
              "          const element = document.querySelector('#df-905f2991-9b50-46cc-8ce3-203d3463b956');\n",
              "          const dataTable =\n",
              "            await google.colab.kernel.invokeFunction('convertToInteractive',\n",
              "                                                     [key], {});\n",
              "          if (!dataTable) return;\n",
              "\n",
              "          const docLinkHtml = 'Like what you see? Visit the ' +\n",
              "            '<a target=\"_blank\" href=https://colab.research.google.com/notebooks/data_table.ipynb>data table notebook</a>'\n",
              "            + ' to learn more about interactive tables.';\n",
              "          element.innerHTML = '';\n",
              "          dataTable['output_type'] = 'display_data';\n",
              "          await google.colab.output.renderOutput(dataTable, element);\n",
              "          const docLink = document.createElement('div');\n",
              "          docLink.innerHTML = docLinkHtml;\n",
              "          element.appendChild(docLink);\n",
              "        }\n",
              "      </script>\n",
              "    </div>\n",
              "  </div>\n",
              "  "
            ]
          },
          "metadata": {},
          "execution_count": 254
        }
      ]
    },
    {
      "cell_type": "markdown",
      "source": [
        "### VIF Checking (only for Quantitative)"
      ],
      "metadata": {
        "id": "vOGoBZYC2iJh"
      }
    },
    {
      "cell_type": "code",
      "source": [
        "#coba pake korelasi\n",
        "vif_df = pd.DataFrame()\n",
        "vif_df[\"Feature\"] = y[y_quantitative].columns\n",
        "vif_df [\"VIF\"]= [variance_inflation_factor(y[y_quantitative].values, i) for i in range(len(y[y_quantitative].columns))]\n",
        "vif_df\n",
        "\n",
        "#coba check chi-square untuk kategorikal"
      ],
      "metadata": {
        "colab": {
          "base_uri": "https://localhost:8080/",
          "height": 174
        },
        "id": "H5qrRNyA2n0B",
        "outputId": "b2e6c356-82d2-463a-cc11-0a7f57b83beb"
      },
      "execution_count": 255,
      "outputs": [
        {
          "output_type": "execute_result",
          "data": {
            "text/plain": [
              "                  Feature        VIF\n",
              "0  next_accom_star_rating  12.373781\n",
              "1      next_selling_price   5.640966\n",
              "2        next_hotel_score  17.477728\n",
              "3  next_room_size_inmeter  17.943799"
            ],
            "text/html": [
              "\n",
              "  <div id=\"df-da4c8db6-9b43-4d52-bb96-b3c2eda15eba\">\n",
              "    <div class=\"colab-df-container\">\n",
              "      <div>\n",
              "<style scoped>\n",
              "    .dataframe tbody tr th:only-of-type {\n",
              "        vertical-align: middle;\n",
              "    }\n",
              "\n",
              "    .dataframe tbody tr th {\n",
              "        vertical-align: top;\n",
              "    }\n",
              "\n",
              "    .dataframe thead th {\n",
              "        text-align: right;\n",
              "    }\n",
              "</style>\n",
              "<table border=\"1\" class=\"dataframe\">\n",
              "  <thead>\n",
              "    <tr style=\"text-align: right;\">\n",
              "      <th></th>\n",
              "      <th>Feature</th>\n",
              "      <th>VIF</th>\n",
              "    </tr>\n",
              "  </thead>\n",
              "  <tbody>\n",
              "    <tr>\n",
              "      <th>0</th>\n",
              "      <td>next_accom_star_rating</td>\n",
              "      <td>12.373781</td>\n",
              "    </tr>\n",
              "    <tr>\n",
              "      <th>1</th>\n",
              "      <td>next_selling_price</td>\n",
              "      <td>5.640966</td>\n",
              "    </tr>\n",
              "    <tr>\n",
              "      <th>2</th>\n",
              "      <td>next_hotel_score</td>\n",
              "      <td>17.477728</td>\n",
              "    </tr>\n",
              "    <tr>\n",
              "      <th>3</th>\n",
              "      <td>next_room_size_inmeter</td>\n",
              "      <td>17.943799</td>\n",
              "    </tr>\n",
              "  </tbody>\n",
              "</table>\n",
              "</div>\n",
              "      <button class=\"colab-df-convert\" onclick=\"convertToInteractive('df-da4c8db6-9b43-4d52-bb96-b3c2eda15eba')\"\n",
              "              title=\"Convert this dataframe to an interactive table.\"\n",
              "              style=\"display:none;\">\n",
              "        \n",
              "  <svg xmlns=\"http://www.w3.org/2000/svg\" height=\"24px\"viewBox=\"0 0 24 24\"\n",
              "       width=\"24px\">\n",
              "    <path d=\"M0 0h24v24H0V0z\" fill=\"none\"/>\n",
              "    <path d=\"M18.56 5.44l.94 2.06.94-2.06 2.06-.94-2.06-.94-.94-2.06-.94 2.06-2.06.94zm-11 1L8.5 8.5l.94-2.06 2.06-.94-2.06-.94L8.5 2.5l-.94 2.06-2.06.94zm10 10l.94 2.06.94-2.06 2.06-.94-2.06-.94-.94-2.06-.94 2.06-2.06.94z\"/><path d=\"M17.41 7.96l-1.37-1.37c-.4-.4-.92-.59-1.43-.59-.52 0-1.04.2-1.43.59L10.3 9.45l-7.72 7.72c-.78.78-.78 2.05 0 2.83L4 21.41c.39.39.9.59 1.41.59.51 0 1.02-.2 1.41-.59l7.78-7.78 2.81-2.81c.8-.78.8-2.07 0-2.86zM5.41 20L4 18.59l7.72-7.72 1.47 1.35L5.41 20z\"/>\n",
              "  </svg>\n",
              "      </button>\n",
              "      \n",
              "  <style>\n",
              "    .colab-df-container {\n",
              "      display:flex;\n",
              "      flex-wrap:wrap;\n",
              "      gap: 12px;\n",
              "    }\n",
              "\n",
              "    .colab-df-convert {\n",
              "      background-color: #E8F0FE;\n",
              "      border: none;\n",
              "      border-radius: 50%;\n",
              "      cursor: pointer;\n",
              "      display: none;\n",
              "      fill: #1967D2;\n",
              "      height: 32px;\n",
              "      padding: 0 0 0 0;\n",
              "      width: 32px;\n",
              "    }\n",
              "\n",
              "    .colab-df-convert:hover {\n",
              "      background-color: #E2EBFA;\n",
              "      box-shadow: 0px 1px 2px rgba(60, 64, 67, 0.3), 0px 1px 3px 1px rgba(60, 64, 67, 0.15);\n",
              "      fill: #174EA6;\n",
              "    }\n",
              "\n",
              "    [theme=dark] .colab-df-convert {\n",
              "      background-color: #3B4455;\n",
              "      fill: #D2E3FC;\n",
              "    }\n",
              "\n",
              "    [theme=dark] .colab-df-convert:hover {\n",
              "      background-color: #434B5C;\n",
              "      box-shadow: 0px 1px 3px 1px rgba(0, 0, 0, 0.15);\n",
              "      filter: drop-shadow(0px 1px 2px rgba(0, 0, 0, 0.3));\n",
              "      fill: #FFFFFF;\n",
              "    }\n",
              "  </style>\n",
              "\n",
              "      <script>\n",
              "        const buttonEl =\n",
              "          document.querySelector('#df-da4c8db6-9b43-4d52-bb96-b3c2eda15eba button.colab-df-convert');\n",
              "        buttonEl.style.display =\n",
              "          google.colab.kernel.accessAllowed ? 'block' : 'none';\n",
              "\n",
              "        async function convertToInteractive(key) {\n",
              "          const element = document.querySelector('#df-da4c8db6-9b43-4d52-bb96-b3c2eda15eba');\n",
              "          const dataTable =\n",
              "            await google.colab.kernel.invokeFunction('convertToInteractive',\n",
              "                                                     [key], {});\n",
              "          if (!dataTable) return;\n",
              "\n",
              "          const docLinkHtml = 'Like what you see? Visit the ' +\n",
              "            '<a target=\"_blank\" href=https://colab.research.google.com/notebooks/data_table.ipynb>data table notebook</a>'\n",
              "            + ' to learn more about interactive tables.';\n",
              "          element.innerHTML = '';\n",
              "          dataTable['output_type'] = 'display_data';\n",
              "          await google.colab.output.renderOutput(dataTable, element);\n",
              "          const docLink = document.createElement('div');\n",
              "          docLink.innerHTML = docLinkHtml;\n",
              "          element.appendChild(docLink);\n",
              "        }\n",
              "      </script>\n",
              "    </div>\n",
              "  </div>\n",
              "  "
            ]
          },
          "metadata": {},
          "execution_count": 255
        }
      ]
    },
    {
      "cell_type": "code",
      "source": [
        "#correlation for quantitative columns \n",
        "print(\"Correlation : \")\n",
        "print (pd.DataFrame (y[y_quantitative].corr()))"
      ],
      "metadata": {
        "colab": {
          "base_uri": "https://localhost:8080/"
        },
        "id": "wV5FLDt3Hufp",
        "outputId": "dae1f6bf-5236-4c92-8cf0-b6d173d8c8f6"
      },
      "execution_count": 256,
      "outputs": [
        {
          "output_type": "stream",
          "name": "stdout",
          "text": [
            "Correlation : \n",
            "                        next_accom_star_rating  next_selling_price  \\\n",
            "next_accom_star_rating                1.000000            0.494819   \n",
            "next_selling_price                    0.494819            1.000000   \n",
            "next_hotel_score                      0.293036            0.227470   \n",
            "next_room_size_inmeter                0.410499            0.262308   \n",
            "\n",
            "                        next_hotel_score  next_room_size_inmeter  \n",
            "next_accom_star_rating          0.293036                0.410499  \n",
            "next_selling_price              0.227470                0.262308  \n",
            "next_hotel_score                1.000000                0.170085  \n",
            "next_room_size_inmeter          0.170085                1.000000  \n"
          ]
        }
      ]
    },
    {
      "cell_type": "code",
      "source": [
        "#chi square test for Categorical Variable\n",
        "contingency_table = pd.crosstab(y[\"next_accom_region\"],y[\"next_accom_type\"])\n",
        "\n",
        "chi2, p_value, dof, expected = stats.chi2_contingency(contingency_table)\n",
        "\n",
        "print(\"Chi-square value:\", chi2)\n",
        "print(\"P-value:\", p_value)\n",
        "print(\"Degrees of freedom:\", dof)\n",
        "# print(\"Expected frequencies:\", expected)\n",
        "\n",
        "if p_value <= 0.05 : \n",
        "  print(\"Accepted\")\n",
        "else :\n",
        "  print(\"Rejected\")\n",
        "\n"
      ],
      "metadata": {
        "colab": {
          "base_uri": "https://localhost:8080/"
        },
        "id": "6sdVHHrzE_B9",
        "outputId": "1e0b3aeb-17fb-4766-9b8f-b0d72ae304b8"
      },
      "execution_count": 257,
      "outputs": [
        {
          "output_type": "stream",
          "name": "stdout",
          "text": [
            "Chi-square value: 3391.244647892493\n",
            "P-value: 1.5592206207686093e-200\n",
            "Degrees of freedom: 1233\n",
            "Accepted\n"
          ]
        }
      ]
    },
    {
      "cell_type": "markdown",
      "source": [
        "### Min Max Scaling"
      ],
      "metadata": {
        "id": "5Ej17eSM2Zam"
      }
    },
    {
      "cell_type": "code",
      "source": [
        "def build_min_max_scaler(df) :\n",
        "  scaled_columns = pd.DataFrame()\n",
        "  for i in df.columns:\n",
        "      min = df[i].min()\n",
        "      df[i] = df[i]-min\n",
        "      max = df[i].max()\n",
        "      scaled_columns[i] = pd.DataFrame( round(df[i]/max ,5) )\n",
        "\n",
        "      # print(i, max)\n",
        "      # print(i, min)\n",
        "      print(\"\")\n",
        "  return scaled_columns\n",
        "\n",
        "y_quantitative = build_min_max_scaler(y_grouped[y_quantitative])\n",
        "\n",
        "y_final = y_quantitative \n",
        "y_final[\"next_accom_region\"] = y_grouped[\"next_accom_region\"]\n",
        "y_final[\"next_accom_type\"] = y_grouped[\"next_accom_type\"]\n",
        "y_final.head()"
      ],
      "metadata": {
        "colab": {
          "base_uri": "https://localhost:8080/",
          "height": 709
        },
        "id": "YynHteX9WmoK",
        "outputId": "ead50258-e403-434b-eb93-b9d7610f3363"
      },
      "execution_count": 258,
      "outputs": [
        {
          "output_type": "stream",
          "name": "stdout",
          "text": [
            "\n",
            "\n",
            "\n",
            "\n"
          ]
        },
        {
          "output_type": "stream",
          "name": "stderr",
          "text": [
            "<ipython-input-258-173645645695>:5: SettingWithCopyWarning: \n",
            "A value is trying to be set on a copy of a slice from a DataFrame.\n",
            "Try using .loc[row_indexer,col_indexer] = value instead\n",
            "\n",
            "See the caveats in the documentation: https://pandas.pydata.org/pandas-docs/stable/user_guide/indexing.html#returning-a-view-versus-a-copy\n",
            "  df[i] = df[i]-min\n",
            "<ipython-input-258-173645645695>:5: SettingWithCopyWarning: \n",
            "A value is trying to be set on a copy of a slice from a DataFrame.\n",
            "Try using .loc[row_indexer,col_indexer] = value instead\n",
            "\n",
            "See the caveats in the documentation: https://pandas.pydata.org/pandas-docs/stable/user_guide/indexing.html#returning-a-view-versus-a-copy\n",
            "  df[i] = df[i]-min\n",
            "<ipython-input-258-173645645695>:5: SettingWithCopyWarning: \n",
            "A value is trying to be set on a copy of a slice from a DataFrame.\n",
            "Try using .loc[row_indexer,col_indexer] = value instead\n",
            "\n",
            "See the caveats in the documentation: https://pandas.pydata.org/pandas-docs/stable/user_guide/indexing.html#returning-a-view-versus-a-copy\n",
            "  df[i] = df[i]-min\n",
            "<ipython-input-258-173645645695>:5: SettingWithCopyWarning: \n",
            "A value is trying to be set on a copy of a slice from a DataFrame.\n",
            "Try using .loc[row_indexer,col_indexer] = value instead\n",
            "\n",
            "See the caveats in the documentation: https://pandas.pydata.org/pandas-docs/stable/user_guide/indexing.html#returning-a-view-versus-a-copy\n",
            "  df[i] = df[i]-min\n"
          ]
        },
        {
          "output_type": "execute_result",
          "data": {
            "text/plain": [
              "   next_accom_star_rating  next_selling_price  next_hotel_score  \\\n",
              "0                 0.00000             0.56229           0.49025   \n",
              "1                 0.33333             0.31014           0.48179   \n",
              "2                 0.33333             0.16605           0.72406   \n",
              "3                 0.33333             0.26042           0.57126   \n",
              "4                 0.33333             0.11196           0.24473   \n",
              "\n",
              "   next_room_size_inmeter next_accom_region next_accom_type  \n",
              "0                 0.18750        Jawa Timur        HOMESTAY  \n",
              "1                 0.31250        Jawa Barat           HOTEL  \n",
              "2                 0.59368             Trang           HOTEL  \n",
              "3                 0.31250        Jawa Timur           HOTEL  \n",
              "4                 0.31250          Chonburi      GUESTHOUSE  "
            ],
            "text/html": [
              "\n",
              "  <div id=\"df-61939b29-d553-428c-9c90-866653d4ca41\">\n",
              "    <div class=\"colab-df-container\">\n",
              "      <div>\n",
              "<style scoped>\n",
              "    .dataframe tbody tr th:only-of-type {\n",
              "        vertical-align: middle;\n",
              "    }\n",
              "\n",
              "    .dataframe tbody tr th {\n",
              "        vertical-align: top;\n",
              "    }\n",
              "\n",
              "    .dataframe thead th {\n",
              "        text-align: right;\n",
              "    }\n",
              "</style>\n",
              "<table border=\"1\" class=\"dataframe\">\n",
              "  <thead>\n",
              "    <tr style=\"text-align: right;\">\n",
              "      <th></th>\n",
              "      <th>next_accom_star_rating</th>\n",
              "      <th>next_selling_price</th>\n",
              "      <th>next_hotel_score</th>\n",
              "      <th>next_room_size_inmeter</th>\n",
              "      <th>next_accom_region</th>\n",
              "      <th>next_accom_type</th>\n",
              "    </tr>\n",
              "  </thead>\n",
              "  <tbody>\n",
              "    <tr>\n",
              "      <th>0</th>\n",
              "      <td>0.00000</td>\n",
              "      <td>0.56229</td>\n",
              "      <td>0.49025</td>\n",
              "      <td>0.18750</td>\n",
              "      <td>Jawa Timur</td>\n",
              "      <td>HOMESTAY</td>\n",
              "    </tr>\n",
              "    <tr>\n",
              "      <th>1</th>\n",
              "      <td>0.33333</td>\n",
              "      <td>0.31014</td>\n",
              "      <td>0.48179</td>\n",
              "      <td>0.31250</td>\n",
              "      <td>Jawa Barat</td>\n",
              "      <td>HOTEL</td>\n",
              "    </tr>\n",
              "    <tr>\n",
              "      <th>2</th>\n",
              "      <td>0.33333</td>\n",
              "      <td>0.16605</td>\n",
              "      <td>0.72406</td>\n",
              "      <td>0.59368</td>\n",
              "      <td>Trang</td>\n",
              "      <td>HOTEL</td>\n",
              "    </tr>\n",
              "    <tr>\n",
              "      <th>3</th>\n",
              "      <td>0.33333</td>\n",
              "      <td>0.26042</td>\n",
              "      <td>0.57126</td>\n",
              "      <td>0.31250</td>\n",
              "      <td>Jawa Timur</td>\n",
              "      <td>HOTEL</td>\n",
              "    </tr>\n",
              "    <tr>\n",
              "      <th>4</th>\n",
              "      <td>0.33333</td>\n",
              "      <td>0.11196</td>\n",
              "      <td>0.24473</td>\n",
              "      <td>0.31250</td>\n",
              "      <td>Chonburi</td>\n",
              "      <td>GUESTHOUSE</td>\n",
              "    </tr>\n",
              "  </tbody>\n",
              "</table>\n",
              "</div>\n",
              "      <button class=\"colab-df-convert\" onclick=\"convertToInteractive('df-61939b29-d553-428c-9c90-866653d4ca41')\"\n",
              "              title=\"Convert this dataframe to an interactive table.\"\n",
              "              style=\"display:none;\">\n",
              "        \n",
              "  <svg xmlns=\"http://www.w3.org/2000/svg\" height=\"24px\"viewBox=\"0 0 24 24\"\n",
              "       width=\"24px\">\n",
              "    <path d=\"M0 0h24v24H0V0z\" fill=\"none\"/>\n",
              "    <path d=\"M18.56 5.44l.94 2.06.94-2.06 2.06-.94-2.06-.94-.94-2.06-.94 2.06-2.06.94zm-11 1L8.5 8.5l.94-2.06 2.06-.94-2.06-.94L8.5 2.5l-.94 2.06-2.06.94zm10 10l.94 2.06.94-2.06 2.06-.94-2.06-.94-.94-2.06-.94 2.06-2.06.94z\"/><path d=\"M17.41 7.96l-1.37-1.37c-.4-.4-.92-.59-1.43-.59-.52 0-1.04.2-1.43.59L10.3 9.45l-7.72 7.72c-.78.78-.78 2.05 0 2.83L4 21.41c.39.39.9.59 1.41.59.51 0 1.02-.2 1.41-.59l7.78-7.78 2.81-2.81c.8-.78.8-2.07 0-2.86zM5.41 20L4 18.59l7.72-7.72 1.47 1.35L5.41 20z\"/>\n",
              "  </svg>\n",
              "      </button>\n",
              "      \n",
              "  <style>\n",
              "    .colab-df-container {\n",
              "      display:flex;\n",
              "      flex-wrap:wrap;\n",
              "      gap: 12px;\n",
              "    }\n",
              "\n",
              "    .colab-df-convert {\n",
              "      background-color: #E8F0FE;\n",
              "      border: none;\n",
              "      border-radius: 50%;\n",
              "      cursor: pointer;\n",
              "      display: none;\n",
              "      fill: #1967D2;\n",
              "      height: 32px;\n",
              "      padding: 0 0 0 0;\n",
              "      width: 32px;\n",
              "    }\n",
              "\n",
              "    .colab-df-convert:hover {\n",
              "      background-color: #E2EBFA;\n",
              "      box-shadow: 0px 1px 2px rgba(60, 64, 67, 0.3), 0px 1px 3px 1px rgba(60, 64, 67, 0.15);\n",
              "      fill: #174EA6;\n",
              "    }\n",
              "\n",
              "    [theme=dark] .colab-df-convert {\n",
              "      background-color: #3B4455;\n",
              "      fill: #D2E3FC;\n",
              "    }\n",
              "\n",
              "    [theme=dark] .colab-df-convert:hover {\n",
              "      background-color: #434B5C;\n",
              "      box-shadow: 0px 1px 3px 1px rgba(0, 0, 0, 0.15);\n",
              "      filter: drop-shadow(0px 1px 2px rgba(0, 0, 0, 0.3));\n",
              "      fill: #FFFFFF;\n",
              "    }\n",
              "  </style>\n",
              "\n",
              "      <script>\n",
              "        const buttonEl =\n",
              "          document.querySelector('#df-61939b29-d553-428c-9c90-866653d4ca41 button.colab-df-convert');\n",
              "        buttonEl.style.display =\n",
              "          google.colab.kernel.accessAllowed ? 'block' : 'none';\n",
              "\n",
              "        async function convertToInteractive(key) {\n",
              "          const element = document.querySelector('#df-61939b29-d553-428c-9c90-866653d4ca41');\n",
              "          const dataTable =\n",
              "            await google.colab.kernel.invokeFunction('convertToInteractive',\n",
              "                                                     [key], {});\n",
              "          if (!dataTable) return;\n",
              "\n",
              "          const docLinkHtml = 'Like what you see? Visit the ' +\n",
              "            '<a target=\"_blank\" href=https://colab.research.google.com/notebooks/data_table.ipynb>data table notebook</a>'\n",
              "            + ' to learn more about interactive tables.';\n",
              "          element.innerHTML = '';\n",
              "          dataTable['output_type'] = 'display_data';\n",
              "          await google.colab.output.renderOutput(dataTable, element);\n",
              "          const docLink = document.createElement('div');\n",
              "          docLink.innerHTML = docLinkHtml;\n",
              "          element.appendChild(docLink);\n",
              "        }\n",
              "      </script>\n",
              "    </div>\n",
              "  </div>\n",
              "  "
            ]
          },
          "metadata": {},
          "execution_count": 258
        }
      ]
    },
    {
      "cell_type": "markdown",
      "source": [
        "# K-Prototype Labeling"
      ],
      "metadata": {
        "id": "AApXRRZG0-y_"
      }
    },
    {
      "cell_type": "code",
      "source": [
        "costs = []\n",
        "n_clusters=[]\n",
        "silhouette_scores = []\n",
        "numerical_variable = [\"next_accom_star_rating\",\"next_selling_price\",\"next_hotel_score\",\"next_room_size_inmeter\"]\n",
        "for i in range (2,20):\n",
        "  categorical_columns = [4,5]\n",
        "  kp = KPrototypes(n_clusters=i, init='Huang', n_init=5, random_state = 2019)\n",
        "  clusters = kp.fit_predict(y_final, categorical=categorical_columns)\n",
        "  costs.append(kp.cost_)\n",
        "  silhouette_avg = silhouette_score(y_final[numerical_variable], clusters, metric='euclidean')\n",
        "  silhouette_scores.append(silhouette_avg)\n",
        "  n_clusters.append(i)"
      ],
      "metadata": {
        "id": "vUksNfTWZhD2"
      },
      "execution_count": 259,
      "outputs": []
    },
    {
      "cell_type": "code",
      "source": [
        "#Ploting Cost \n",
        "plt.figure(figsize=(12, 9))\n",
        "plt.plot(n_clusters, costs, marker='o', linestyle='--')\n",
        "plt.xlabel('Number of Clusters')\n",
        "plt.ylabel('K-Prototype Cost')\n",
        "plt.show()"
      ],
      "metadata": {
        "id": "EEh1Qlv0pynK",
        "colab": {
          "base_uri": "https://localhost:8080/",
          "height": 773
        },
        "outputId": "7ae0d77f-408c-4458-9cd6-cd20b61b90f3"
      },
      "execution_count": 260,
      "outputs": [
        {
          "output_type": "display_data",
          "data": {
            "text/plain": [
              "<Figure size 1200x900 with 1 Axes>"
            ],
            "image/png": "[encoded data removed]"
          },
          "metadata": {}
        }
      ]
    },
    {
      "cell_type": "code",
      "source": [
        "#plotting the optimal using sillhouette\n",
        "optimal_n_clusters = n_clusters[np.argmax(silhouette_scores)]\n",
        "\n",
        "print (optimal_n_clusters)\n",
        "\n",
        "\n",
        "\n",
        "\n",
        "#Ploting Cost \n",
        "plt.figure(figsize=(12, 9))\n",
        "plt.plot(n_clusters, silhouette_scores, marker='o', linestyle='--')\n",
        "plt.xlabel('Number of Clusters')\n",
        "plt.ylabel('K-Prototype silhouette_scores')\n",
        "plt.show()\n",
        "\n"
      ],
      "metadata": {
        "colab": {
          "base_uri": "https://localhost:8080/",
          "height": 791
        },
        "id": "A7EUASo6MWwD",
        "outputId": "8f8566df-3083-4dd3-f94e-175ca35f4a20"
      },
      "execution_count": 261,
      "outputs": [
        {
          "output_type": "stream",
          "name": "stdout",
          "text": [
            "2\n"
          ]
        },
        {
          "output_type": "display_data",
          "data": {
            "text/plain": [
              "<Figure size 1200x900 with 1 Axes>"
            ],
            "image/png": "[encoded data removed]"
          },
          "metadata": {}
        }
      ]
    },
    {
      "cell_type": "code",
      "source": [
        "categorical_columns = [4,5]\n",
        "kp = KPrototypes(n_clusters=7, init='Huang', n_init=2, verbose=0, random_state= 42 )\n",
        "clusters = kp.fit_predict(y_final, categorical=categorical_columns)\n"
      ],
      "metadata": {
        "id": "K2rvLJUFqkgF",
        "colab": {
          "base_uri": "https://localhost:8080/",
          "height": 356
        },
        "outputId": "99981005-70a7-4f8b-f964-f6165d9361b4"
      },
      "execution_count": 276,
      "outputs": [
        {
          "output_type": "error",
          "ename": "ValueError",
          "evalue": "ignored",
          "traceback": [
            "\u001b[0;31m---------------------------------------------------------------------------\u001b[0m",
            "\u001b[0;31mValueError\u001b[0m                                Traceback (most recent call last)",
            "\u001b[0;32m<ipython-input-276-3bfc03d41451>\u001b[0m in \u001b[0;36m<cell line: 3>\u001b[0;34m()\u001b[0m\n\u001b[1;32m      1\u001b[0m \u001b[0mcategorical_columns\u001b[0m \u001b[0;34m=\u001b[0m \u001b[0;34m[\u001b[0m\u001b[0;36m4\u001b[0m\u001b[0;34m,\u001b[0m\u001b[0;36m5\u001b[0m\u001b[0;34m]\u001b[0m\u001b[0;34m\u001b[0m\u001b[0;34m\u001b[0m\u001b[0m\n\u001b[1;32m      2\u001b[0m \u001b[0mkp\u001b[0m \u001b[0;34m=\u001b[0m \u001b[0mKPrototypes\u001b[0m\u001b[0;34m(\u001b[0m\u001b[0mn_clusters\u001b[0m\u001b[0;34m=\u001b[0m\u001b[0;36m7\u001b[0m\u001b[0;34m,\u001b[0m \u001b[0minit\u001b[0m\u001b[0;34m=\u001b[0m\u001b[0;34m'Huang'\u001b[0m\u001b[0;34m,\u001b[0m \u001b[0mn_init\u001b[0m\u001b[0;34m=\u001b[0m\u001b[0;36m2\u001b[0m\u001b[0;34m,\u001b[0m \u001b[0mverbose\u001b[0m\u001b[0;34m=\u001b[0m\u001b[0;36m0\u001b[0m\u001b[0;34m,\u001b[0m \u001b[0mrandom_state\u001b[0m\u001b[0;34m=\u001b[0m \u001b[0;36m42\u001b[0m \u001b[0;34m)\u001b[0m\u001b[0;34m\u001b[0m\u001b[0;34m\u001b[0m\u001b[0m\n\u001b[0;32m----> 3\u001b[0;31m \u001b[0mclusters\u001b[0m \u001b[0;34m=\u001b[0m \u001b[0mkp\u001b[0m\u001b[0;34m.\u001b[0m\u001b[0mfit_predict\u001b[0m\u001b[0;34m(\u001b[0m\u001b[0my_final\u001b[0m\u001b[0;34m,\u001b[0m \u001b[0mcategorical\u001b[0m\u001b[0;34m=\u001b[0m\u001b[0mcategorical_columns\u001b[0m\u001b[0;34m)\u001b[0m\u001b[0;34m\u001b[0m\u001b[0;34m\u001b[0m\u001b[0m\n\u001b[0m",
            "\u001b[0;32m/usr/local/lib/python3.10/dist-packages/kmodes/kmodes.py\u001b[0m in \u001b[0;36mfit_predict\u001b[0;34m(self, X, y, **kwargs)\u001b[0m\n\u001b[1;32m    152\u001b[0m         \u001b[0mpredict\u001b[0m\u001b[0;34m(\u001b[0m\u001b[0mX\u001b[0m\u001b[0;34m)\u001b[0m\u001b[0;34m.\u001b[0m\u001b[0;34m\u001b[0m\u001b[0;34m\u001b[0m\u001b[0m\n\u001b[1;32m    153\u001b[0m         \"\"\"\n\u001b[0;32m--> 154\u001b[0;31m         \u001b[0;32mreturn\u001b[0m \u001b[0mself\u001b[0m\u001b[0;34m.\u001b[0m\u001b[0mfit\u001b[0m\u001b[0;34m(\u001b[0m\u001b[0mX\u001b[0m\u001b[0;34m,\u001b[0m \u001b[0;34m**\u001b[0m\u001b[0mkwargs\u001b[0m\u001b[0;34m)\u001b[0m\u001b[0;34m.\u001b[0m\u001b[0mpredict\u001b[0m\u001b[0;34m(\u001b[0m\u001b[0mX\u001b[0m\u001b[0;34m,\u001b[0m \u001b[0;34m**\u001b[0m\u001b[0mkwargs\u001b[0m\u001b[0;34m)\u001b[0m\u001b[0;34m\u001b[0m\u001b[0;34m\u001b[0m\u001b[0m\n\u001b[0m\u001b[1;32m    155\u001b[0m \u001b[0;34m\u001b[0m\u001b[0m\n\u001b[1;32m    156\u001b[0m     \u001b[0;32mdef\u001b[0m \u001b[0mpredict\u001b[0m\u001b[0;34m(\u001b[0m\u001b[0mself\u001b[0m\u001b[0;34m,\u001b[0m \u001b[0mX\u001b[0m\u001b[0;34m,\u001b[0m \u001b[0;34m**\u001b[0m\u001b[0mkwargs\u001b[0m\u001b[0;34m)\u001b[0m\u001b[0;34m:\u001b[0m\u001b[0;34m\u001b[0m\u001b[0;34m\u001b[0m\u001b[0m\n",
            "\u001b[0;32m/usr/local/lib/python3.10/dist-packages/kmodes/kprototypes.py\u001b[0m in \u001b[0;36mfit\u001b[0;34m(self, X, y, categorical, sample_weight)\u001b[0m\n\u001b[1;32m    159\u001b[0m         \u001b[0;31m# the data. The function below returns its value.\u001b[0m\u001b[0;34m\u001b[0m\u001b[0;34m\u001b[0m\u001b[0m\n\u001b[1;32m    160\u001b[0m         \u001b[0mself\u001b[0m\u001b[0;34m.\u001b[0m\u001b[0m_enc_cluster_centroids\u001b[0m\u001b[0;34m,\u001b[0m \u001b[0mself\u001b[0m\u001b[0;34m.\u001b[0m\u001b[0m_enc_map\u001b[0m\u001b[0;34m,\u001b[0m \u001b[0mself\u001b[0m\u001b[0;34m.\u001b[0m\u001b[0mlabels_\u001b[0m\u001b[0;34m,\u001b[0m \u001b[0mself\u001b[0m\u001b[0;34m.\u001b[0m\u001b[0mcost_\u001b[0m\u001b[0;34m,\u001b[0m\u001b[0;31m \u001b[0m\u001b[0;31m\\\u001b[0m\u001b[0;34m\u001b[0m\u001b[0;34m\u001b[0m\u001b[0m\n\u001b[0;32m--> 161\u001b[0;31m         self.n_iter_, self.epoch_costs_, self.gamma = k_prototypes(\n\u001b[0m\u001b[1;32m    162\u001b[0m             \u001b[0mX\u001b[0m\u001b[0;34m,\u001b[0m\u001b[0;34m\u001b[0m\u001b[0;34m\u001b[0m\u001b[0m\n\u001b[1;32m    163\u001b[0m             \u001b[0mcategorical\u001b[0m\u001b[0;34m,\u001b[0m\u001b[0;34m\u001b[0m\u001b[0;34m\u001b[0m\u001b[0m\n",
            "\u001b[0;32m/usr/local/lib/python3.10/dist-packages/kmodes/kprototypes.py\u001b[0m in \u001b[0;36mk_prototypes\u001b[0;34m(X, categorical, n_clusters, max_iter, num_dissim, cat_dissim, gamma, init, n_init, verbose, random_state, n_jobs, sample_weight)\u001b[0m\n\u001b[1;32m    270\u001b[0m                                    \u001b[0;34mf\"than data points ({n_points}).\"\u001b[0m\u001b[0;34m\u001b[0m\u001b[0;34m\u001b[0m\u001b[0m\n\u001b[1;32m    271\u001b[0m \u001b[0;34m\u001b[0m\u001b[0m\n\u001b[0;32m--> 272\u001b[0;31m     \u001b[0mXnum\u001b[0m\u001b[0;34m,\u001b[0m \u001b[0mXcat\u001b[0m \u001b[0;34m=\u001b[0m \u001b[0m_split_num_cat\u001b[0m\u001b[0;34m(\u001b[0m\u001b[0mX\u001b[0m\u001b[0;34m,\u001b[0m \u001b[0mcategorical\u001b[0m\u001b[0;34m)\u001b[0m\u001b[0;34m\u001b[0m\u001b[0;34m\u001b[0m\u001b[0m\n\u001b[0m\u001b[1;32m    273\u001b[0m     \u001b[0mXnum\u001b[0m\u001b[0;34m,\u001b[0m \u001b[0mXcat\u001b[0m \u001b[0;34m=\u001b[0m \u001b[0mcheck_array\u001b[0m\u001b[0;34m(\u001b[0m\u001b[0mXnum\u001b[0m\u001b[0;34m)\u001b[0m\u001b[0;34m,\u001b[0m \u001b[0mcheck_array\u001b[0m\u001b[0;34m(\u001b[0m\u001b[0mXcat\u001b[0m\u001b[0;34m,\u001b[0m \u001b[0mdtype\u001b[0m\u001b[0;34m=\u001b[0m\u001b[0;32mNone\u001b[0m\u001b[0;34m)\u001b[0m\u001b[0;34m\u001b[0m\u001b[0;34m\u001b[0m\u001b[0m\n\u001b[1;32m    274\u001b[0m \u001b[0;34m\u001b[0m\u001b[0m\n",
            "\u001b[0;32m/usr/local/lib/python3.10/dist-packages/kmodes/kprototypes.py\u001b[0m in \u001b[0;36m_split_num_cat\u001b[0;34m(X, categorical)\u001b[0m\n\u001b[1;32m    528\u001b[0m     \"\"\"\n\u001b[1;32m    529\u001b[0m     Xnum = np.asanyarray(X[:, [ii for ii in range(X.shape[1])\n\u001b[0;32m--> 530\u001b[0;31m                                if ii not in categorical]]).astype(np.float64)\n\u001b[0m\u001b[1;32m    531\u001b[0m     \u001b[0mXcat\u001b[0m \u001b[0;34m=\u001b[0m \u001b[0mnp\u001b[0m\u001b[0;34m.\u001b[0m\u001b[0masanyarray\u001b[0m\u001b[0;34m(\u001b[0m\u001b[0mX\u001b[0m\u001b[0;34m[\u001b[0m\u001b[0;34m:\u001b[0m\u001b[0;34m,\u001b[0m \u001b[0mcategorical\u001b[0m\u001b[0;34m]\u001b[0m\u001b[0;34m)\u001b[0m\u001b[0;34m\u001b[0m\u001b[0;34m\u001b[0m\u001b[0m\n\u001b[1;32m    532\u001b[0m     \u001b[0;32mreturn\u001b[0m \u001b[0mXnum\u001b[0m\u001b[0;34m,\u001b[0m \u001b[0mXcat\u001b[0m\u001b[0;34m\u001b[0m\u001b[0;34m\u001b[0m\u001b[0m\n",
            "\u001b[0;31mValueError\u001b[0m: could not convert string to float: '++3okldV6Ye2f77XJB0rOM+wBdg='"
          ]
        }
      ]
    },
    {
      "cell_type": "code",
      "source": [
        "y_final[\"dependent\"] = pd.DataFrame(clusters,columns = [\"dependent\"])\n",
        "y_final[\"next_accom_id\"] = y_grouped[\"next_accom_id\"]"
      ],
      "metadata": {
        "id": "eXCpFqCb4hOs"
      },
      "execution_count": 277,
      "outputs": []
    },
    {
      "cell_type": "markdown",
      "source": [
        "Descriptive for custer"
      ],
      "metadata": {
        "id": "onS1bx90-RCA"
      }
    },
    {
      "cell_type": "code",
      "source": [
        "### adding cluster into the dataframe \n",
        "df = pd.merge(df[x],y_final[['next_accom_id','dependent']],on='next_accom_id', how='left')\n",
        "df = df.dropna(axis = 0,subset = [\"dependent\"] )\n",
        "\n",
        "\n",
        "df_copy = df "
      ],
      "metadata": {
        "id": "g5jGnmvc1cR9"
      },
      "execution_count": 278,
      "outputs": []
    },
    {
      "cell_type": "markdown",
      "source": [
        "### Classification Modeling"
      ],
      "metadata": {
        "id": "lh18zesHPAFt"
      }
    },
    {
      "cell_type": "code",
      "source": [
        "#defining X \n",
        "X = [\"selling_price_idr\",\"gbv_idr\",\"accom_region\",\"accom_star_rating\",\"num_rooms\",\"accom_type\",\"bed_type\",\"room_size_inmeter\",\"hotel_score\"]\n",
        "df_x =df[X]\n",
        "\n",
        "accom_region_get_dummies  = pd.get_dummies(df_x[\"accom_region\"],drop_first = True,prefix = \"accom_region\")\n",
        "accom_type_get_dummies  = pd.get_dummies(df_x[\"accom_type\"],drop_first = True,prefix = \"accom_type\")\n",
        "bed_type_get_dummies  = pd.get_dummies(df_x[\"bed_type\"],drop_first = True,prefix = \"bed_type\")\n",
        "\n",
        "df_x = df_x.drop(['accom_region',\"accom_type\",\"bed_type\"],axis = 1)\n",
        "\n",
        "df_x = df_x.join(accom_region_get_dummies)\n",
        "df_x = df_x.join(accom_type_get_dummies)\n",
        "df_x = df_x.join(bed_type_get_dummies)\n",
        "df_x\n",
        "\n",
        "\n",
        "#defining Y \n",
        "\n",
        "y = [\"dependent\"]\n",
        "df_y = df[y]"
      ],
      "metadata": {
        "id": "RgS2d5Ka_Ov5"
      },
      "execution_count": 279,
      "outputs": []
    },
    {
      "cell_type": "code",
      "source": [
        "X_train, X_test, y_train,y_test= train_test_split(df_x,df_y, test_size = 0.2 , random_state = 42, stratify = df_y )\n"
      ],
      "metadata": {
        "id": "zrVnUPDYC8TG"
      },
      "execution_count": 280,
      "outputs": []
    },
    {
      "cell_type": "code",
      "source": [
        "rfc = RandomForestClassifier(random_state = 42 )\n",
        "#fit to model \n",
        "rfc.fit(X_train,y_train)\n",
        "y_pred = rfc.predict(X_test)\n",
        "accuracy_score(y_test, y_pred)\n"
      ],
      "metadata": {
        "colab": {
          "base_uri": "https://localhost:8080/"
        },
        "id": "8p7heWFZ4TFp",
        "outputId": "da91eba4-458a-4f95-d381-0c4a0cd89b69"
      },
      "execution_count": 281,
      "outputs": [
        {
          "output_type": "stream",
          "name": "stderr",
          "text": [
            "<ipython-input-281-e7a12b4feb64>:3: DataConversionWarning: A column-vector y was passed when a 1d array was expected. Please change the shape of y to (n_samples,), for example using ravel().\n",
            "  rfc.fit(X_train,y_train)\n"
          ]
        },
        {
          "output_type": "execute_result",
          "data": {
            "text/plain": [
              "0.2723289518031682"
            ]
          },
          "metadata": {},
          "execution_count": 281
        }
      ]
    },
    {
      "cell_type": "code",
      "source": [
        "cross_val_score(rfc, X_train, y_train, cv=10).mean()"
      ],
      "metadata": {
        "colab": {
          "base_uri": "https://localhost:8080/"
        },
        "id": "X7wQ-T9h1uy3",
        "outputId": "93dc1d11-980d-49f8-fea6-31bd3a868b80"
      },
      "execution_count": 282,
      "outputs": [
        {
          "output_type": "stream",
          "name": "stderr",
          "text": [
            "/usr/local/lib/python3.10/dist-packages/sklearn/model_selection/_validation.py:686: DataConversionWarning: A column-vector y was passed when a 1d array was expected. Please change the shape of y to (n_samples,), for example using ravel().\n",
            "  estimator.fit(X_train, y_train, **fit_params)\n",
            "/usr/local/lib/python3.10/dist-packages/sklearn/model_selection/_validation.py:686: DataConversionWarning: A column-vector y was passed when a 1d array was expected. Please change the shape of y to (n_samples,), for example using ravel().\n",
            "  estimator.fit(X_train, y_train, **fit_params)\n",
            "/usr/local/lib/python3.10/dist-packages/sklearn/model_selection/_validation.py:686: DataConversionWarning: A column-vector y was passed when a 1d array was expected. Please change the shape of y to (n_samples,), for example using ravel().\n",
            "  estimator.fit(X_train, y_train, **fit_params)\n",
            "/usr/local/lib/python3.10/dist-packages/sklearn/model_selection/_validation.py:686: DataConversionWarning: A column-vector y was passed when a 1d array was expected. Please change the shape of y to (n_samples,), for example using ravel().\n",
            "  estimator.fit(X_train, y_train, **fit_params)\n",
            "/usr/local/lib/python3.10/dist-packages/sklearn/model_selection/_validation.py:686: DataConversionWarning: A column-vector y was passed when a 1d array was expected. Please change the shape of y to (n_samples,), for example using ravel().\n",
            "  estimator.fit(X_train, y_train, **fit_params)\n",
            "/usr/local/lib/python3.10/dist-packages/sklearn/model_selection/_validation.py:686: DataConversionWarning: A column-vector y was passed when a 1d array was expected. Please change the shape of y to (n_samples,), for example using ravel().\n",
            "  estimator.fit(X_train, y_train, **fit_params)\n",
            "/usr/local/lib/python3.10/dist-packages/sklearn/model_selection/_validation.py:686: DataConversionWarning: A column-vector y was passed when a 1d array was expected. Please change the shape of y to (n_samples,), for example using ravel().\n",
            "  estimator.fit(X_train, y_train, **fit_params)\n",
            "/usr/local/lib/python3.10/dist-packages/sklearn/model_selection/_validation.py:686: DataConversionWarning: A column-vector y was passed when a 1d array was expected. Please change the shape of y to (n_samples,), for example using ravel().\n",
            "  estimator.fit(X_train, y_train, **fit_params)\n",
            "/usr/local/lib/python3.10/dist-packages/sklearn/model_selection/_validation.py:686: DataConversionWarning: A column-vector y was passed when a 1d array was expected. Please change the shape of y to (n_samples,), for example using ravel().\n",
            "  estimator.fit(X_train, y_train, **fit_params)\n",
            "/usr/local/lib/python3.10/dist-packages/sklearn/model_selection/_validation.py:686: DataConversionWarning: A column-vector y was passed when a 1d array was expected. Please change the shape of y to (n_samples,), for example using ravel().\n",
            "  estimator.fit(X_train, y_train, **fit_params)\n"
          ]
        },
        {
          "output_type": "execute_result",
          "data": {
            "text/plain": [
              "0.2678661895094553"
            ]
          },
          "metadata": {},
          "execution_count": 282
        }
      ]
    },
    {
      "cell_type": "code",
      "source": [
        "n_estimators = [10, 100, 500]\n",
        "max_depth = [None, 3, 5, 7]\n",
        "param_grid = dict(n_estimators=n_estimators, max_depth=max_depth)\n",
        "\n",
        "\n",
        "grid = GridSearchCV(estimator=rfc, \n",
        "                    param_grid=param_grid,\n",
        "                    cv=2,\n",
        "                    verbose=2,\n",
        "                    n_jobs=-1)\n",
        "\n",
        "grid_result = grid.fit(X_train, y_train)\n",
        "\n",
        "\n",
        "# summarize results\n",
        "print(\"Best: %f using %s\" % (grid_result.best_score_, grid_result.best_params_))\n",
        "means = grid_result.cv_results_['mean_test_score']\n",
        "stds = grid_result.cv_results_['std_test_score']\n",
        "params = grid_result.cv_results_['params']\n",
        "for mean, stdev, param in zip(means, stds, params):\n",
        "    print(\"%f (%f) with: %r\" % (mean, stdev, param))"
      ],
      "metadata": {
        "colab": {
          "base_uri": "https://localhost:8080/"
        },
        "id": "E6JCqcZfPQ9Z",
        "outputId": "2e9b7e87-b8ca-4e92-a02a-a92a526a5c04"
      },
      "execution_count": 283,
      "outputs": [
        {
          "output_type": "stream",
          "name": "stdout",
          "text": [
            "Fitting 2 folds for each of 12 candidates, totalling 24 fits\n"
          ]
        },
        {
          "output_type": "stream",
          "name": "stderr",
          "text": [
            "/usr/local/lib/python3.10/dist-packages/joblib/externals/loky/process_executor.py:700: UserWarning: A worker stopped while some jobs were given to the executor. This can be caused by a too short worker timeout or by a memory leak.\n",
            "  warnings.warn(\n",
            "/usr/local/lib/python3.10/dist-packages/sklearn/model_selection/_search.py:909: DataConversionWarning: A column-vector y was passed when a 1d array was expected. Please change the shape of y to (n_samples,), for example using ravel().\n",
            "  self.best_estimator_.fit(X, y, **fit_params)\n"
          ]
        },
        {
          "output_type": "stream",
          "name": "stdout",
          "text": [
            "Best: 0.303186 using {'max_depth': 7, 'n_estimators': 500}\n",
            "0.234659 (0.001349) with: {'max_depth': None, 'n_estimators': 10}\n",
            "0.268628 (0.000759) with: {'max_depth': None, 'n_estimators': 100}\n",
            "0.271746 (0.001349) with: {'max_depth': None, 'n_estimators': 500}\n",
            "0.244606 (0.002697) with: {'max_depth': 3, 'n_estimators': 10}\n",
            "0.268965 (0.013739) with: {'max_depth': 3, 'n_estimators': 100}\n",
            "0.282620 (0.002107) with: {'max_depth': 3, 'n_estimators': 500}\n",
            "0.284474 (0.004973) with: {'max_depth': 5, 'n_estimators': 10}\n",
            "0.293071 (0.005647) with: {'max_depth': 5, 'n_estimators': 100}\n",
            "0.296527 (0.002697) with: {'max_depth': 5, 'n_estimators': 500}\n",
            "0.289278 (0.006069) with: {'max_depth': 7, 'n_estimators': 10}\n",
            "0.299562 (0.007755) with: {'max_depth': 7, 'n_estimators': 100}\n",
            "0.303186 (0.004299) with: {'max_depth': 7, 'n_estimators': 500}\n"
          ]
        }
      ]
    },
    {
      "cell_type": "code",
      "source": [
        "best_model_rfc = grid_result.best_estimator_\n",
        "cross_val_score(best_model_rfc, X_train, y_train, cv=5).mean()"
      ],
      "metadata": {
        "colab": {
          "base_uri": "https://localhost:8080/"
        },
        "id": "YspyjsgNG8PM",
        "outputId": "9d9fa4ec-6dde-473f-ab74-738f2c29114a"
      },
      "execution_count": 284,
      "outputs": [
        {
          "output_type": "stream",
          "name": "stderr",
          "text": [
            "/usr/local/lib/python3.10/dist-packages/sklearn/model_selection/_validation.py:686: DataConversionWarning: A column-vector y was passed when a 1d array was expected. Please change the shape of y to (n_samples,), for example using ravel().\n",
            "  estimator.fit(X_train, y_train, **fit_params)\n",
            "/usr/local/lib/python3.10/dist-packages/sklearn/model_selection/_validation.py:686: DataConversionWarning: A column-vector y was passed when a 1d array was expected. Please change the shape of y to (n_samples,), for example using ravel().\n",
            "  estimator.fit(X_train, y_train, **fit_params)\n",
            "/usr/local/lib/python3.10/dist-packages/sklearn/model_selection/_validation.py:686: DataConversionWarning: A column-vector y was passed when a 1d array was expected. Please change the shape of y to (n_samples,), for example using ravel().\n",
            "  estimator.fit(X_train, y_train, **fit_params)\n",
            "/usr/local/lib/python3.10/dist-packages/sklearn/model_selection/_validation.py:686: DataConversionWarning: A column-vector y was passed when a 1d array was expected. Please change the shape of y to (n_samples,), for example using ravel().\n",
            "  estimator.fit(X_train, y_train, **fit_params)\n",
            "/usr/local/lib/python3.10/dist-packages/sklearn/model_selection/_validation.py:686: DataConversionWarning: A column-vector y was passed when a 1d array was expected. Please change the shape of y to (n_samples,), for example using ravel().\n",
            "  estimator.fit(X_train, y_train, **fit_params)\n"
          ]
        },
        {
          "output_type": "execute_result",
          "data": {
            "text/plain": [
              "0.3042814078279464"
            ]
          },
          "metadata": {},
          "execution_count": 284
        }
      ]
    },
    {
      "cell_type": "markdown",
      "source": [
        "#### XGBoost\n"
      ],
      "metadata": {
        "id": "8U5__ce0PYB5"
      }
    },
    {
      "cell_type": "code",
      "source": [
        "import xgboost as xgb\n",
        "\n",
        "\n",
        "params = {\n",
        "    'objective': 'multi:softmax', # multiclass classification\n",
        "    'num_class': 3, # number of classes\n",
        "    'max_depth': 3,\n",
        "    'eta': 0.3,\n",
        "    'subsample': 0.7,\n",
        "    'colsample_bytree': 0.7,\n",
        "    'eval_metric': 'mlogloss' # multi-class log loss\n",
        "}\n",
        "\n",
        "num_rounds = 10\n",
        "model = xgb.train(params, X_train, num_rounds)\n",
        "preds = model.predict(dtest)"
      ],
      "metadata": {
        "colab": {
          "base_uri": "https://localhost:8080/",
          "height": 1000
        },
        "id": "lSfDdF-1PZaz",
        "outputId": "c8ad5ee2-4062-467f-a513-4dd6b470bffc"
      },
      "execution_count": 291,
      "outputs": [
        {
          "output_type": "error",
          "ename": "TypeError",
          "evalue": "ignored",
          "traceback": [
            "\u001b[0;31m---------------------------------------------------------------------------\u001b[0m",
            "\u001b[0;31mTypeError\u001b[0m                                 Traceback (most recent call last)",
            "\u001b[0;32m<ipython-input-291-2f29429d0ffd>\u001b[0m in \u001b[0;36m<cell line: 15>\u001b[0;34m()\u001b[0m\n\u001b[1;32m     13\u001b[0m \u001b[0;34m\u001b[0m\u001b[0m\n\u001b[1;32m     14\u001b[0m \u001b[0mnum_rounds\u001b[0m \u001b[0;34m=\u001b[0m \u001b[0;36m10\u001b[0m\u001b[0;34m\u001b[0m\u001b[0;34m\u001b[0m\u001b[0m\n\u001b[0;32m---> 15\u001b[0;31m \u001b[0mmodel\u001b[0m \u001b[0;34m=\u001b[0m \u001b[0mxgb\u001b[0m\u001b[0;34m.\u001b[0m\u001b[0mtrain\u001b[0m\u001b[0;34m(\u001b[0m\u001b[0mparams\u001b[0m\u001b[0;34m,\u001b[0m \u001b[0mX_train\u001b[0m\u001b[0;34m,\u001b[0m \u001b[0mnum_rounds\u001b[0m\u001b[0;34m)\u001b[0m\u001b[0;34m\u001b[0m\u001b[0;34m\u001b[0m\u001b[0m\n\u001b[0m\u001b[1;32m     16\u001b[0m \u001b[0;34m\u001b[0m\u001b[0m\n\u001b[1;32m     17\u001b[0m \u001b[0mpreds\u001b[0m \u001b[0;34m=\u001b[0m \u001b[0mmodel\u001b[0m\u001b[0;34m.\u001b[0m\u001b[0mpredict\u001b[0m\u001b[0;34m(\u001b[0m\u001b[0mdtest\u001b[0m\u001b[0;34m)\u001b[0m\u001b[0;34m\u001b[0m\u001b[0;34m\u001b[0m\u001b[0m\n",
            "\u001b[0;32m/usr/local/lib/python3.10/dist-packages/xgboost/core.py\u001b[0m in \u001b[0;36minner_f\u001b[0;34m(*args, **kwargs)\u001b[0m\n\u001b[1;32m    618\u001b[0m             \u001b[0;32mfor\u001b[0m \u001b[0mk\u001b[0m\u001b[0;34m,\u001b[0m \u001b[0marg\u001b[0m \u001b[0;32min\u001b[0m \u001b[0mzip\u001b[0m\u001b[0;34m(\u001b[0m\u001b[0msig\u001b[0m\u001b[0;34m.\u001b[0m\u001b[0mparameters\u001b[0m\u001b[0;34m,\u001b[0m \u001b[0margs\u001b[0m\u001b[0;34m)\u001b[0m\u001b[0;34m:\u001b[0m\u001b[0;34m\u001b[0m\u001b[0;34m\u001b[0m\u001b[0m\n\u001b[1;32m    619\u001b[0m                 \u001b[0mkwargs\u001b[0m\u001b[0;34m[\u001b[0m\u001b[0mk\u001b[0m\u001b[0;34m]\u001b[0m \u001b[0;34m=\u001b[0m \u001b[0marg\u001b[0m\u001b[0;34m\u001b[0m\u001b[0;34m\u001b[0m\u001b[0m\n\u001b[0;32m--> 620\u001b[0;31m             \u001b[0;32mreturn\u001b[0m \u001b[0mfunc\u001b[0m\u001b[0;34m(\u001b[0m\u001b[0;34m**\u001b[0m\u001b[0mkwargs\u001b[0m\u001b[0;34m)\u001b[0m\u001b[0;34m\u001b[0m\u001b[0;34m\u001b[0m\u001b[0m\n\u001b[0m\u001b[1;32m    621\u001b[0m \u001b[0;34m\u001b[0m\u001b[0m\n\u001b[1;32m    622\u001b[0m         \u001b[0;32mreturn\u001b[0m \u001b[0minner_f\u001b[0m\u001b[0;34m\u001b[0m\u001b[0;34m\u001b[0m\u001b[0m\n",
            "\u001b[0;32m/usr/local/lib/python3.10/dist-packages/xgboost/training.py\u001b[0m in \u001b[0;36mtrain\u001b[0;34m(params, dtrain, num_boost_round, evals, obj, feval, maximize, early_stopping_rounds, evals_result, verbose_eval, xgb_model, callbacks, custom_metric)\u001b[0m\n\u001b[1;32m    158\u001b[0m     \u001b[0mevals\u001b[0m \u001b[0;34m=\u001b[0m \u001b[0mlist\u001b[0m\u001b[0;34m(\u001b[0m\u001b[0mevals\u001b[0m\u001b[0;34m)\u001b[0m \u001b[0;32mif\u001b[0m \u001b[0mevals\u001b[0m \u001b[0;32melse\u001b[0m \u001b[0;34m[\u001b[0m\u001b[0;34m]\u001b[0m\u001b[0;34m\u001b[0m\u001b[0;34m\u001b[0m\u001b[0m\n\u001b[1;32m    159\u001b[0m \u001b[0;34m\u001b[0m\u001b[0m\n\u001b[0;32m--> 160\u001b[0;31m     \u001b[0mbst\u001b[0m \u001b[0;34m=\u001b[0m \u001b[0mBooster\u001b[0m\u001b[0;34m(\u001b[0m\u001b[0mparams\u001b[0m\u001b[0;34m,\u001b[0m \u001b[0;34m[\u001b[0m\u001b[0mdtrain\u001b[0m\u001b[0;34m]\u001b[0m \u001b[0;34m+\u001b[0m \u001b[0;34m[\u001b[0m\u001b[0md\u001b[0m\u001b[0;34m[\u001b[0m\u001b[0;36m0\u001b[0m\u001b[0;34m]\u001b[0m \u001b[0;32mfor\u001b[0m \u001b[0md\u001b[0m \u001b[0;32min\u001b[0m \u001b[0mevals\u001b[0m\u001b[0;34m]\u001b[0m\u001b[0;34m,\u001b[0m \u001b[0mmodel_file\u001b[0m\u001b[0;34m=\u001b[0m\u001b[0mxgb_model\u001b[0m\u001b[0;34m)\u001b[0m\u001b[0;34m\u001b[0m\u001b[0;34m\u001b[0m\u001b[0m\n\u001b[0m\u001b[1;32m    161\u001b[0m     \u001b[0mstart_iteration\u001b[0m \u001b[0;34m=\u001b[0m \u001b[0;36m0\u001b[0m\u001b[0;34m\u001b[0m\u001b[0;34m\u001b[0m\u001b[0m\n\u001b[1;32m    162\u001b[0m \u001b[0;34m\u001b[0m\u001b[0m\n",
            "\u001b[0;32m/usr/local/lib/python3.10/dist-packages/xgboost/core.py\u001b[0m in \u001b[0;36m__init__\u001b[0;34m(self, params, cache, model_file)\u001b[0m\n\u001b[1;32m   1546\u001b[0m         \u001b[0;32mfor\u001b[0m \u001b[0md\u001b[0m \u001b[0;32min\u001b[0m \u001b[0mcache\u001b[0m\u001b[0;34m:\u001b[0m\u001b[0;34m\u001b[0m\u001b[0;34m\u001b[0m\u001b[0m\n\u001b[1;32m   1547\u001b[0m             \u001b[0;32mif\u001b[0m \u001b[0;32mnot\u001b[0m \u001b[0misinstance\u001b[0m\u001b[0;34m(\u001b[0m\u001b[0md\u001b[0m\u001b[0;34m,\u001b[0m \u001b[0mDMatrix\u001b[0m\u001b[0;34m)\u001b[0m\u001b[0;34m:\u001b[0m\u001b[0;34m\u001b[0m\u001b[0;34m\u001b[0m\u001b[0m\n\u001b[0;32m-> 1548\u001b[0;31m                 \u001b[0;32mraise\u001b[0m \u001b[0mTypeError\u001b[0m\u001b[0;34m(\u001b[0m\u001b[0;34mf'invalid cache item: {type(d).__name__}'\u001b[0m\u001b[0;34m,\u001b[0m \u001b[0mcache\u001b[0m\u001b[0;34m)\u001b[0m\u001b[0;34m\u001b[0m\u001b[0;34m\u001b[0m\u001b[0m\n\u001b[0m\u001b[1;32m   1549\u001b[0m \u001b[0;34m\u001b[0m\u001b[0m\n\u001b[1;32m   1550\u001b[0m         \u001b[0mdmats\u001b[0m \u001b[0;34m=\u001b[0m \u001b[0mc_array\u001b[0m\u001b[0;34m(\u001b[0m\u001b[0mctypes\u001b[0m\u001b[0;34m.\u001b[0m\u001b[0mc_void_p\u001b[0m\u001b[0;34m,\u001b[0m \u001b[0;34m[\u001b[0m\u001b[0md\u001b[0m\u001b[0;34m.\u001b[0m\u001b[0mhandle\u001b[0m \u001b[0;32mfor\u001b[0m \u001b[0md\u001b[0m \u001b[0;32min\u001b[0m \u001b[0mcache\u001b[0m\u001b[0;34m]\u001b[0m\u001b[0;34m)\u001b[0m\u001b[0;34m\u001b[0m\u001b[0;34m\u001b[0m\u001b[0m\n",
            "\u001b[0;31mTypeError\u001b[0m: ('invalid cache item: DataFrame', [       selling_price_idr       gbv_idr  accom_star_rating  num_rooms  \\\n2680        3.085330e+05  3.208741e+05                  2          1   \n14577       1.039681e+06  1.090855e+06                  3          3   \n9082        7.110882e+05  7.220187e+05                  3          1   \n1455        1.904117e+05  2.626715e+05                  0          1   \n4464        3.128356e+05  2.621886e+05                  2          1   \n...                  ...           ...                ...        ...   \n5314        3.326743e+05  3.278168e+05                  2          1   \n2579        4.226277e+05  2.760475e+05                  0          3   \n2827        9.725876e+04  1.673471e+05                  1          1   \n23          3.433880e+06  3.548688e+06                  5          1   \n2568        1.743433e+06  1.639941e+06                  4          1   \n\n       room_size_inmeter  hotel_score  accom_region_Agusan del Norte  \\\n2680           20.000000     8.291612                              0   \n14577          32.000000     8.359407                              0   \n9082           19.000000     8.620558                              0   \n1455           28.000000     8.276440                              0   \n4464           26.082299     8.575933                              0   \n...                  ...          ...                            ...   \n5314           20.000000     8.189534                              0   \n2579           24.000000     7.682772                              0   \n2827           12.000000     7.456061                              0   \n23             26.600000     8.944307                              0   \n2568           24.000000     8.721389                              0   \n\n       accom_region_Albay  accom_region_Ayutthaya  \\\n2680                    0                       0   \n14577                   0                       0   \n9082                    0                       0   \n1455                    0                       0   \n4464                    0                       0   \n...                   ...                     ...   \n5314                    0                       0   \n2579                    0                       0   \n2827                    0                       0   \n23                      0                       0   \n2568                    0                       0   \n\n       accom_region_Ba Ria - Vung Tau Province  ...  bed_type_TWO_DOUBLE_BED  \\\n2680                                         0  ...                        0   \n14577                                        0  ...                        0   \n9082                                         0  ...                        0   \n1455                                         0  ...                        0   \n4464                                         0  ...                        0   \n...                                        ...  ...                      ...   \n5314                                         0  ...                        0   \n2579                                         0  ...                        0   \n2827                                         0  ...                        0   \n23                                           0  ...                        0   \n2568                                         0  ...                        0   \n\n       bed_type_TWO_KING  bed_type_TWO_KING_BED  bed_type_TWO_QUEEN  \\\n2680                   0                      0                   0   \n14577                  0                      0                   0   \n9082                   0                      0                   0   \n1455                   0                      0                   0   \n4464                   0                      0                   0   \n...                  ...                    ...                 ...   \n5314                   0                      0                   0   \n2579                   0                      0                   0   \n2827                   0                      0                   0   \n23                     0                      0                   0   \n2568                   0                      0                   0   \n\n       bed_type_TWO_QUEEN_AND_TWO_SINGLE  bed_type_TWO_QUEEN_BED  \\\n2680                                   0                       0   \n14577                                  0                       0   \n9082                                   0                       0   \n1455                                   0                       0   \n4464                                   0                       0   \n...                                  ...                     ...   \n5314                                   0                       0   \n2579                                   0                       0   \n2827                                   0                       0   \n23                                     0                       0   \n2568                                   0                       0   \n\n       bed_type_TWO_SINGLE  bed_type_TWO_SINGLE_BED  bed_type_TWO_TWIN_BED  \\\n2680                     0                        0                      0   \n14577                    0                        0                      0   \n9082                     0                        0                      0   \n1455                     0                        0                      0   \n4464                     0                        0                      0   \n...                    ...                      ...                    ...   \n5314                     0                        0                      0   \n2579                     0                        0                      0   \n2827                     0                        0                      0   \n23                       0                        0                      0   \n2568                     0                        0                      0   \n\n       bed_type_UNKNOWN  \n2680                  0  \n14577                 0  \n9082                  0  \n1455                  0  \n4464                  0  \n...                 ...  \n5314                  0  \n2579                  0  \n2827                  0  \n23                    0  \n2568                  0  \n\n[11864 rows x 220 columns]])"
          ]
        }
      ]
    },
    {
      "cell_type": "code",
      "source": [],
      "metadata": {
        "id": "b37eGy9xQPs5"
      },
      "execution_count": null,
      "outputs": []
    }
  ]
}